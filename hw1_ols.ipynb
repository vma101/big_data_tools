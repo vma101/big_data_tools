{
 "cells": [
  {
   "cell_type": "code",
   "execution_count": null,
   "metadata": {},
   "outputs": [],
   "source": [
    "# Setup\n",
    "import numpy as np\n"
   ]
  },
  {
   "cell_type": "code",
   "execution_count": null,
   "metadata": {},
   "outputs": [],
   "source": [
    "# Simulate Data\n",
    "N = 1000\n",
    "K = 10\n",
    "X = np.random.normal(size = (N,K))\n",
    "E = np.random.normal(size = N)\n",
    "beta = np.linspace(0,1,num=K)\n",
    "\n",
    "Y = np.matmul(X,beta) + E\n",
    "\n",
    "import matplotlib.pyplot as plt\n",
    "plt.plot(np.matmul(X,beta),Y,'.')"
   ]
  },
  {
   "cell_type": "code",
   "execution_count": null,
   "metadata": {},
   "outputs": [],
   "source": [
    "# Question 1: \n",
    "def numpy_ols(Y, X):\n",
    "    \n",
    "    return beta"
   ]
  },
  {
   "cell_type": "code",
   "execution_count": null,
   "metadata": {},
   "outputs": [],
   "source": [
    "# Checking Answer for Question 1:\n",
    "def abline(slope, intercept):\n",
    "    \"\"\"Plot a line from slope and intercept\"\"\"\n",
    "    axes = plt.gca()\n",
    "    x_vals = np.array(axes.get_xlim())\n",
    "    y_vals = intercept + slope * x_vals\n",
    "    plt.plot(x_vals, y_vals, '--')\n",
    "\n",
    "beta_hat = numpy_ols(Y,X)\n",
    "plt.plot(beta,beta_hat,'x')\n",
    "abline(1,0)"
   ]
  },
  {
   "cell_type": "code",
   "execution_count": null,
   "metadata": {},
   "outputs": [],
   "source": [
    "# Question 2: TensorFlow\n",
    "from keras.models import Sequential\n",
    "from keras.layers.core import Dense, Activation\n",
    "model = Sequential()\n",
    "model.add(Dense(1, input_shape=(K,)))\n",
    "model.add(Activation('sigmoid'))\n",
    "model.compile(optimizer='adam', loss='mse')\n",
    "hist = model.fit(X, Y, epochs=100, batch_size=50, verbose=0)\n",
    "beta_keras = model.layers[0].get_weights()[0]\n",
    "plt.plot(beta,beta_keras[0:K],'x')\n",
    "abline(1,0)"
   ]
  },
  {
   "cell_type": "code",
   "execution_count": null,
   "metadata": {},
   "outputs": [],
   "source": [
    "def kera_linear(K):\n",
    "    return model"
   ]
  },
  {
   "cell_type": "code",
   "execution_count": null,
   "metadata": {},
   "outputs": [],
   "source": [
    "# Output for Question 2\n",
    "model2 = kera_linear(K)\n",
    "model2.compile(optimizer='adam', loss='mse')\n",
    "hist2 = model2.fit(X, Y, epochs=100, batch_size=50, verbose=0);\n",
    "beta_keras = model2.layers[0].get_weights()[0]\n",
    "plt.plot(beta,beta_keras[0:K],'x')\n",
    "abline(1,0)\n",
    "hist2"
   ]
  }
 ],
 "metadata": {
  "kernelspec": {
   "display_name": "Python 3",
   "language": "python",
   "name": "python3"
  },
  "language_info": {
   "codemirror_mode": {
    "name": "ipython",
    "version": 3
   },
   "file_extension": ".py",
   "mimetype": "text/x-python",
   "name": "python",
   "nbconvert_exporter": "python",
   "pygments_lexer": "ipython3",
   "version": "3.7.0"
  }
 },
 "nbformat": 4,
 "nbformat_minor": 2
}
