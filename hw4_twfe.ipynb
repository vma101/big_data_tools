{
 "cells": [
  {
   "cell_type": "markdown",
   "metadata": {},
   "source": [
    "A homework on mulitway fixed effect approach\n",
    "\n",
    "In this homework we are going to consider a fictuous grading at a given universities and try to see what we can learn from grade variability and it affects earnings.\n",
    "\n",
    "In the first data set we have the grades collected by a bunch of student within a given summester. Each student attended 3 courses. From this data we are going to try to extrac the ability of each student while allowing for course specific intercept. We can then use this to evaluate how much of the grade variation is due to student differences versus course differences and other factors (residuals). \n",
    "\n",
    "Given this ability measures, we then merge a second file which has the earnings of the student at age 35. We then evaluate the effect of academic ability on individual earnings. Here again we will worry about the effect of over-fitting.\n",
    "\n",
    "Of course this requires, like we saw in class, estimating many parameters, hence we will look into overfitting and how to address it! We wil lmake use of sparse matrices, degree of freedom correction and bias correction.\n",
    "\n",
    "The two data files you will need are:\n",
    "\n",
    " - grades: [hw4-grades.json](http://econ21340.lamadon.com/hw4-grades.json)\n",
    " - earnings: [hw4-earnings.json](http://econ21340.lamadon.com/hw4-earnings.json)\n",
    "\n",
    "Useful links:\n",
    " - [Sparse linear solver](https://docs.scipy.org/doc/scipy/reference/generated/scipy.sparse.linalg.spsolve.html)"
   ]
  },
  {
   "cell_type": "code",
   "execution_count": 1,
   "metadata": {
    "ExecuteTime": {
     "end_time": "2020-05-29T19:00:10.080631Z",
     "start_time": "2020-05-29T19:00:08.915525Z"
    }
   },
   "outputs": [],
   "source": [
    "import os\n",
    "import pandas as pd\n",
    "import tqdm\n",
    "import seaborn as sns\n",
    "import matplotlib.pyplot as plt\n",
    "import numpy as np\n"
   ]
  },
  {
   "cell_type": "code",
   "execution_count": null,
   "metadata": {},
   "outputs": [],
   "source": [
    "print(pd.__version__)"
   ]
  },
  {
   "cell_type": "code",
   "execution_count": null,
   "metadata": {
    "ExecuteTime": {
     "end_time": "2020-05-29T19:00:10.800282Z",
     "start_time": "2020-05-29T19:00:10.723044Z"
    }
   },
   "outputs": [],
   "source": [
    "# %cd ..\n",
    "%load_ext autoreload\n",
    "%autoreload 2\n",
    "# import solutions.sol_pset4 as solution # you need to command this, you don't have the solution file!\n",
    "#solution.simulate_data()"
   ]
  },
  {
   "cell_type": "markdown",
   "metadata": {},
   "source": [
    "# Explaining the dispersion in grades\n",
    "\n",
    "Load the grade data from `hw4-grades.json`. Then compute:\n",
    "\n",
    " 1. total variance in grades\n",
    " 2. the between class variance\n",
    " 3. plot the histogram of class size"
   ]
  },
  {
   "cell_type": "code",
   "execution_count": 2,
   "metadata": {},
   "outputs": [],
   "source": [
    "grade_path = \"data/hw4-grades.json\"\n",
    "earnings_path = \"data/hw4-earnings.json\"\n",
    "df_grades = pd.read_json(grade_path, lines=True,\n",
    "                          dtype={'grade':int,\n",
    "                                 'class_id':str,\n",
    "                                 'student_id':str,\n",
    "                                 'major':int,\n",
    "                                 'firstname':str})\n",
    "df_earnings = pd.read_json(earnings_path, lines = True,\n",
    "                          dtype={'student_id':str,\n",
    "                                 'major':str,\n",
    "                                 'firstname':str,\n",
    "                                 'earnings':int})"
   ]
  },
  {
   "cell_type": "code",
   "execution_count": 3,
   "metadata": {},
   "outputs": [],
   "source": [
    "def question1(df):\n",
    "    grade_var = np.var(df_grades[\"grade\"])\n",
    "    print(\"total variance in grades: {}\".format(grade_var))\n",
    "    class_tab = df_grades.groupby(\"class_id\").agg(size = pd.NamedAgg(column='student_id', aggfunc='count'),\n",
    "                                           mean_grade = pd.NamedAgg(column = \"grade\", aggfunc = \"mean\"),\n",
    "                                             var_grade = pd.NamedAgg(column = \"grade\", aggfunc = \"var\"))\n",
    "    class_var = np.var(class_tab[\"mean_grade\"])\n",
    "    print(\"between class variance: {}\".format(class_var))\n",
    "    plt.figure()\n",
    "    plt.hist(class_tab[\"size\"])\n",
    "    plt.xlabel(\"Class Size\")\n",
    "    plt.ylabel(\"Number of Classes\")\n",
    "    plt.title(\"Histogram of Class Sizes\")\n",
    "    return df"
   ]
  },
  {
   "cell_type": "code",
   "execution_count": 4,
   "metadata": {
    "ExecuteTime": {
     "end_time": "2020-05-29T20:47:25.191869Z",
     "start_time": "2020-05-29T20:47:24.871739Z"
    },
    "scrolled": false
   },
   "outputs": [
    {
     "name": "stdout",
     "output_type": "stream",
     "text": [
      "total variance in grades: 1.3470327190592657\n",
      "between class variance: 0.3604792888212968\n",
      "6515 students and 673 classes\n"
     ]
    },
    {
     "data": {
      "image/png": "[encoded data removed]",
      "text/plain": [
       "<Figure size 432x288 with 1 Axes>"
      ]
     },
     "metadata": {
      "needs_background": "light"
     },
     "output_type": "display_data"
    }
   ],
   "source": [
    "df_all = question1(df_grades)\n",
    "# df_all = solution.question1()\n",
    "\n",
    "ns = len(np.unique(df_all['student_id']))\n",
    "nc = len(np.unique(df_all['class_id']))\n",
    "nn = len(df_all)\n",
    "\n",
    "print(\"{} students and {} classes\".format(ns,nc))\n",
    "\n",
    "# df_all[[\"grade\",\"class_id\",\"student_id\",\"major\",\"firstname\"]]"
   ]
  },
  {
   "cell_type": "markdown",
   "metadata": {},
   "source": [
    "# Constructing the sparse regressor matrices\n",
    "\n",
    "In a similar fashion to what we covered in the class we want to estimate a two-way fixed model of grates. Specifically, we are want to fit:\n",
    "\n",
    "$$y_{ic} = \\alpha_i + \\psi_c + \\epsilon_{ic}$$ \n",
    "\n",
    "where $i$ denotes each individual, $c$ denote each courses and $\\epsilon_{ic}$ is an error term that will assume conditional mean independent of the assignment of students to courses.\n",
    "\n",
    "We are going to estimate this using least-square. This requires that we construct the matrices that correspond to the equation for $y_{ic}$. We then want to consruct the $A$ and $J$ such that \n",
    "\n",
    "$$Y = A \\alpha + J \\psi + E$$ \n",
    "\n",
    "where for $n_s$ students each with $n_g$ grades in difference courses and a total of $n_c$ courses we have that $Y$ is $n_s \\cdot n_g \\times 1$ vector, $A$ is a $n_s \\cdot n_g \\times n_s$ matrix and $J$ is $n_s \\cdot n_g \\times n_c$. $\\alpha$ is the vector of size $n_s$ and $\\psi$ is a vector of size $n_c$.\n",
    "\n",
    "Each fo the $n_s \\cdot n_g$ correspond to a grade, in each row $A$ has a $1$ in the column corresponding to the individual of this row. Similary, $J$ has a $1$ for for the column corresponding to the class of that row.\n",
    "\n",
    "So, I ask you to:\n",
    "\n",
    " 1. construct these matrices using python sparse matrices `scipy.sparse.csc.csc_matrix`\n"
   ]
  },
  {
   "cell_type": "code",
   "execution_count": 42,
   "metadata": {
    "ExecuteTime": {
     "end_time": "2020-05-29T20:47:32.946282Z",
     "start_time": "2020-05-29T20:47:32.516687Z"
    }
   },
   "outputs": [
    {
     "name": "stdout",
     "output_type": "stream",
     "text": [
      "<class 'scipy.sparse.csc.csc_matrix'>\n",
      "(13464, 6515)\n",
      "(13464, 673)\n",
      "(13464, 1)\n",
      "13464.0\n",
      "13464.0\n"
     ]
    },
    {
     "data": {
      "image/png": "[encoded data removed]",
      "text/plain": [
       "<Figure size 432x288 with 1 Axes>"
      ]
     },
     "metadata": {
      "needs_background": "light"
     },
     "output_type": "display_data"
    },
    {
     "data": {
      "image/png": "[encoded data removed]",
      "text/plain": [
       "<Figure size 432x288 with 1 Axes>"
      ]
     },
     "metadata": {
      "needs_background": "light"
     },
     "output_type": "display_data"
    }
   ],
   "source": [
    "from scipy.sparse.linalg import spsolve, inv\n",
    "from scipy.sparse import csc_matrix\n",
    "# Y,A,J = solution.question2(df_all)\n",
    "def question2(df):\n",
    "    df.sort_values('student_id', axis = 0, inplace = True)\n",
    "    # CREATE Y MATRIX\n",
    "#     Y = np.zeros(nn, 1) # all records x 1\n",
    "    Y = csc_matrix((df[\"grade\"], (np.arange(nn), np.zeros(nn))), shape = (nn, 1))\n",
    "#     Y = df[\"grade\"].to_numpy()\n",
    "\n",
    "    # CREATE A MATRIX\n",
    "#     A = np.zeros(nn, ns) # all records x ns\n",
    "    students = df[\"student_id\"].unique()\n",
    "    student_map = {u:i for i, u in enumerate(students)}\n",
    "    student_inv = {i:u for i, u in enumerate(students)}\n",
    "    student_onehot = [student_map[s] for s in df[\"student_id\"]]\n",
    "    A = csc_matrix((np.ones(nn), (np.arange(nn), student_onehot)), shape = (nn, ns))\n",
    "#     A = pd.get_dummies(df[\"class_id\"])\n",
    "\n",
    "    # CREATE J MATRIX\n",
    "#     J = np.zeros(nn, nc) # all records x nc\n",
    "    classes = df[\"class_id\"].unique()\n",
    "    class_map = {u:i for i, u in enumerate(classes)}\n",
    "    class_inv = {i:u for i, u in enumerate(classes)}\n",
    "    class_onehot = [class_map[c] for c in df[\"class_id\"]]\n",
    "    J = csc_matrix((np.ones(nn), (np.arange(nn), class_onehot)), shape = (nn, nc))\n",
    "    \n",
    "    return Y, A, J\n",
    "\n",
    "Y, A, J = question2(df_all)\n",
    "print(type(A))\n",
    "print(A.shape)\n",
    "print(J.shape)\n",
    "print(Y.shape)\n",
    "print(A.sum())\n",
    "print(J.sum())\n",
    "\n",
    "# getting a nice diagonal here requires sorting by the studend_id\n",
    "plt.spy(A,aspect=0.1,markersize=0.2)\n",
    "plt.show()\n",
    "plt.spy(J,aspect=0.1,markersize=0.2)\n",
    "plt.show()"
   ]
  },
  {
   "cell_type": "markdown",
   "metadata": {},
   "source": [
    "# Estimating the model\n",
    "\n",
    "Next we estimate our model using the OLS estiamtor formula. We first remove the last column of $J$ (since the model we wrote does not pin down a constant we force the last course to have $\\psi=0$). Solve the linear system using the formula\n",
    "\n",
    "$$ \\hat{\\gamma} = (M'M)^{-1} M' Y $$\n",
    "\n",
    "where $M = [A,J]$ and $\\gamma = (\\alpha,\\psi)$.\n",
    "\n",
    "So do the following:\n",
    "\n",
    " 1. select the last column simply by doing `J = J[:,1:(nc-1]]`\n",
    " 2. use `scipy.sparse.hstack` to concatenate the matrices to create M\n",
    " 3. use `scipy.sparse.linalg.spsolve` to solve a sparse linear system\n",
    " 4. extract $\\hat{\\alpha}$ from $\\hat{\\gamma}$ by selecting the first $n_s$ terms \n",
    " 5. merge $\\hat{\\alpha}$ into `df_all`\n",
    " 6. compute the variance of $\\hat{\\alpha}$ in `df_all`\n",
    " 7. compute the variance of the residuals\n",
    " 8. What share of the total variation in grades can be attributed to difference in students?\n"
   ]
  },
  {
   "cell_type": "code",
   "execution_count": 39,
   "metadata": {
    "ExecuteTime": {
     "end_time": "2020-05-29T21:36:46.166385Z",
     "start_time": "2020-05-29T21:36:41.741158Z"
    }
   },
   "outputs": [
    {
     "ename": "ValueError",
     "evalue": "inconsistent shapes",
     "output_type": "error",
     "traceback": [
      "\u001b[0;31m---------------------------------------------------------------------------\u001b[0m",
      "\u001b[0;31mValueError\u001b[0m                                Traceback (most recent call last)",
      "\u001b[0;32m<ipython-input-39-4ddc56889018>\u001b[0m in \u001b[0;36m<module>\u001b[0;34m\u001b[0m\n\u001b[1;32m      8\u001b[0m     \u001b[0;32mreturn\u001b[0m \u001b[0mdf\u001b[0m\u001b[0;34m,\u001b[0m \u001b[0mM\u001b[0m\u001b[0;34m,\u001b[0m \u001b[0mgamma_hat\u001b[0m\u001b[0;34m\u001b[0m\u001b[0;34m\u001b[0m\u001b[0m\n\u001b[1;32m      9\u001b[0m \u001b[0;34m\u001b[0m\u001b[0m\n\u001b[0;32m---> 10\u001b[0;31m \u001b[0mdf\u001b[0m\u001b[0;34m,\u001b[0m \u001b[0mM\u001b[0m\u001b[0;34m,\u001b[0m \u001b[0mgamma_hat\u001b[0m \u001b[0;34m=\u001b[0m \u001b[0mquestion3\u001b[0m\u001b[0;34m(\u001b[0m\u001b[0mdf_all\u001b[0m\u001b[0;34m,\u001b[0m \u001b[0mA\u001b[0m\u001b[0;34m,\u001b[0m \u001b[0mJ\u001b[0m\u001b[0;34m,\u001b[0m \u001b[0mY\u001b[0m\u001b[0;34m)\u001b[0m\u001b[0;34m\u001b[0m\u001b[0;34m\u001b[0m\u001b[0m\n\u001b[0m\u001b[1;32m     11\u001b[0m \u001b[0mprint\u001b[0m\u001b[0;34m(\u001b[0m\u001b[0mdf_all\u001b[0m\u001b[0;34m[\u001b[0m\u001b[0;34m'alpha_hat'\u001b[0m\u001b[0;34m]\u001b[0m\u001b[0;34m.\u001b[0m\u001b[0mvar\u001b[0m\u001b[0;34m(\u001b[0m\u001b[0;34m)\u001b[0m\u001b[0;34m,\u001b[0m\u001b[0mdf_all\u001b[0m\u001b[0;34m[\u001b[0m\u001b[0;34m'resid'\u001b[0m\u001b[0;34m]\u001b[0m\u001b[0;34m.\u001b[0m\u001b[0mvar\u001b[0m\u001b[0;34m(\u001b[0m\u001b[0;34m)\u001b[0m\u001b[0;34m,\u001b[0m\u001b[0mdf_all\u001b[0m\u001b[0;34m[\u001b[0m\u001b[0;34m'grade'\u001b[0m\u001b[0;34m]\u001b[0m\u001b[0;34m.\u001b[0m\u001b[0mvar\u001b[0m\u001b[0;34m(\u001b[0m\u001b[0;34m)\u001b[0m\u001b[0;34m,\u001b[0m\u001b[0mdf_all\u001b[0m\u001b[0;34m[\u001b[0m\u001b[0;34m'A'\u001b[0m\u001b[0;34m]\u001b[0m\u001b[0;34m.\u001b[0m\u001b[0mvar\u001b[0m\u001b[0;34m(\u001b[0m\u001b[0;34m)\u001b[0m\u001b[0;34m)\u001b[0m\u001b[0;34m\u001b[0m\u001b[0;34m\u001b[0m\u001b[0m\n\u001b[1;32m     12\u001b[0m \u001b[0mdf_all\u001b[0m\u001b[0;34m[\u001b[0m\u001b[0;34m[\u001b[0m\u001b[0;34m\"grade\"\u001b[0m\u001b[0;34m,\u001b[0m\u001b[0;34m\"class_id\"\u001b[0m\u001b[0;34m,\u001b[0m\u001b[0;34m\"student_id\"\u001b[0m\u001b[0;34m,\u001b[0m\u001b[0;34m\"major\"\u001b[0m\u001b[0;34m,\u001b[0m\u001b[0;34m\"firstname\"\u001b[0m\u001b[0;34m,\u001b[0m\u001b[0;34m\"alpha_hat\"\u001b[0m\u001b[0;34m]\u001b[0m\u001b[0;34m]\u001b[0m\u001b[0;34m\u001b[0m\u001b[0;34m\u001b[0m\u001b[0m\n",
      "\u001b[0;32m<ipython-input-39-4ddc56889018>\u001b[0m in \u001b[0;36mquestion3\u001b[0;34m(df, A, J, Y)\u001b[0m\n\u001b[1;32m      5\u001b[0m     \u001b[0mM\u001b[0m \u001b[0;34m=\u001b[0m \u001b[0mhstack\u001b[0m\u001b[0;34m(\u001b[0m\u001b[0;34m[\u001b[0m\u001b[0mA\u001b[0m\u001b[0;34m,\u001b[0m \u001b[0mJ\u001b[0m\u001b[0;34m]\u001b[0m\u001b[0;34m)\u001b[0m\u001b[0;34m\u001b[0m\u001b[0;34m\u001b[0m\u001b[0m\n\u001b[1;32m      6\u001b[0m     \u001b[0mM_t\u001b[0m \u001b[0;34m=\u001b[0m \u001b[0mM\u001b[0m\u001b[0;34m.\u001b[0m\u001b[0mtranspose\u001b[0m\u001b[0;34m(\u001b[0m\u001b[0;34m)\u001b[0m\u001b[0;34m\u001b[0m\u001b[0;34m\u001b[0m\u001b[0m\n\u001b[0;32m----> 7\u001b[0;31m     \u001b[0mgamma_hat\u001b[0m \u001b[0;34m=\u001b[0m \u001b[0mspsolve\u001b[0m\u001b[0;34m(\u001b[0m\u001b[0minv\u001b[0m\u001b[0;34m(\u001b[0m\u001b[0mM_t\u001b[0m\u001b[0;34m.\u001b[0m\u001b[0mmultiply\u001b[0m\u001b[0;34m(\u001b[0m\u001b[0mM\u001b[0m\u001b[0;34m)\u001b[0m\u001b[0;34m)\u001b[0m\u001b[0;34m.\u001b[0m\u001b[0mmultiply\u001b[0m\u001b[0;34m(\u001b[0m\u001b[0mM_t\u001b[0m\u001b[0;34m)\u001b[0m\u001b[0;34m,\u001b[0m \u001b[0mY\u001b[0m\u001b[0;34m)\u001b[0m\u001b[0;34m\u001b[0m\u001b[0;34m\u001b[0m\u001b[0m\n\u001b[0m\u001b[1;32m      8\u001b[0m     \u001b[0;32mreturn\u001b[0m \u001b[0mdf\u001b[0m\u001b[0;34m,\u001b[0m \u001b[0mM\u001b[0m\u001b[0;34m,\u001b[0m \u001b[0mgamma_hat\u001b[0m\u001b[0;34m\u001b[0m\u001b[0;34m\u001b[0m\u001b[0m\n\u001b[1;32m      9\u001b[0m \u001b[0;34m\u001b[0m\u001b[0m\n",
      "\u001b[0;32m~/.anaconda3/lib/python3.7/site-packages/scipy/sparse/compressed.py\u001b[0m in \u001b[0;36mmultiply\u001b[0;34m(self, other)\u001b[0m\n\u001b[1;32m    401\u001b[0m                 \u001b[0;32mreturn\u001b[0m \u001b[0mcopy\u001b[0m\u001b[0;34m.\u001b[0m\u001b[0m_mul_sparse_matrix\u001b[0m\u001b[0;34m(\u001b[0m\u001b[0mother\u001b[0m\u001b[0;34m)\u001b[0m\u001b[0;34m\u001b[0m\u001b[0;34m\u001b[0m\u001b[0m\n\u001b[1;32m    402\u001b[0m             \u001b[0;32melse\u001b[0m\u001b[0;34m:\u001b[0m\u001b[0;34m\u001b[0m\u001b[0;34m\u001b[0m\u001b[0m\n\u001b[0;32m--> 403\u001b[0;31m                 \u001b[0;32mraise\u001b[0m \u001b[0mValueError\u001b[0m\u001b[0;34m(\u001b[0m\u001b[0;34m\"inconsistent shapes\"\u001b[0m\u001b[0;34m)\u001b[0m\u001b[0;34m\u001b[0m\u001b[0;34m\u001b[0m\u001b[0m\n\u001b[0m\u001b[1;32m    404\u001b[0m \u001b[0;34m\u001b[0m\u001b[0m\n\u001b[1;32m    405\u001b[0m         \u001b[0;31m# Assume other is a dense matrix/array, which produces a single-item\u001b[0m\u001b[0;34m\u001b[0m\u001b[0;34m\u001b[0m\u001b[0;34m\u001b[0m\u001b[0m\n",
      "\u001b[0;31mValueError\u001b[0m: inconsistent shapes"
     ]
    }
   ],
   "source": [
    "# df_all, M, gamma_hat = solution.question3(df_all,A,J,Y)\n",
    "from scipy.sparse import hstack\n",
    "def question3(df, A, J, Y):\n",
    "    J = J[:, 1:(nc - 1)]\n",
    "    M = hstack([A, J])\n",
    "    M_t = M.transpose()\n",
    "    gamma_hat = spsolve(inv(M_t.multiply(M)).multiply(M_t), Y)\n",
    "    return df, M, gamma_hat\n",
    "\n",
    "df, M, gamma_hat = question3(df_all, A, J, Y)\n",
    "print(df_all['alpha_hat'].var(),df_all['resid'].var(),df_all['grade'].var(),df_all['A'].var())\n",
    "df_all[[\"grade\",\"class_id\",\"student_id\",\"major\",\"firstname\",\"alpha_hat\"]]"
   ]
  },
  {
   "cell_type": "code",
   "execution_count": 40,
   "metadata": {},
   "outputs": [
    {
     "name": "stdout",
     "output_type": "stream",
     "text": [
      "A shape: (13464, 6515)\n",
      "J shape: (13464, 673)\n"
     ]
    }
   ],
   "source": [
    "print(\"A shape: {}\".format(A.shape))\n",
    "print(\"J shape: {}\".format(J.shape))"
   ]
  },
  {
   "cell_type": "code",
   "execution_count": 51,
   "metadata": {},
   "outputs": [
    {
     "ename": "ValueError",
     "evalue": "inconsistent shapes",
     "output_type": "error",
     "traceback": [
      "\u001b[0;31m---------------------------------------------------------------------------\u001b[0m",
      "\u001b[0;31mValueError\u001b[0m                                Traceback (most recent call last)",
      "\u001b[0;32m<ipython-input-51-1cc0a21735f7>\u001b[0m in \u001b[0;36m<module>\u001b[0;34m\u001b[0m\n\u001b[1;32m      2\u001b[0m \u001b[0mM\u001b[0m \u001b[0;34m=\u001b[0m \u001b[0mhstack\u001b[0m\u001b[0;34m(\u001b[0m\u001b[0;34m[\u001b[0m\u001b[0mA\u001b[0m\u001b[0;34m,\u001b[0m \u001b[0mJ\u001b[0m\u001b[0;34m]\u001b[0m\u001b[0;34m)\u001b[0m\u001b[0;34m\u001b[0m\u001b[0;34m\u001b[0m\u001b[0m\n\u001b[1;32m      3\u001b[0m \u001b[0mM_t\u001b[0m \u001b[0;34m=\u001b[0m \u001b[0mM\u001b[0m\u001b[0;34m.\u001b[0m\u001b[0mtranspose\u001b[0m\u001b[0;34m(\u001b[0m\u001b[0;34m)\u001b[0m\u001b[0;34m\u001b[0m\u001b[0;34m\u001b[0m\u001b[0m\n\u001b[0;32m----> 4\u001b[0;31m \u001b[0mMM\u001b[0m \u001b[0;34m=\u001b[0m \u001b[0mM\u001b[0m\u001b[0;34m.\u001b[0m\u001b[0mmultiply\u001b[0m\u001b[0;34m(\u001b[0m\u001b[0mM_t\u001b[0m\u001b[0;34m)\u001b[0m\u001b[0;34m\u001b[0m\u001b[0;34m\u001b[0m\u001b[0m\n\u001b[0m\u001b[1;32m      5\u001b[0m \u001b[0mgamma_hat\u001b[0m \u001b[0;34m=\u001b[0m \u001b[0mspsolve\u001b[0m\u001b[0;34m(\u001b[0m\u001b[0mMM\u001b[0m\u001b[0;34m.\u001b[0m\u001b[0mmultiply\u001b[0m\u001b[0;34m(\u001b[0m\u001b[0mM_t\u001b[0m\u001b[0;34m)\u001b[0m\u001b[0;34m,\u001b[0m \u001b[0mY\u001b[0m\u001b[0;34m)\u001b[0m\u001b[0;34m\u001b[0m\u001b[0;34m\u001b[0m\u001b[0m\n",
      "\u001b[0;32m~/.anaconda3/lib/python3.7/site-packages/scipy/sparse/compressed.py\u001b[0m in \u001b[0;36mmultiply\u001b[0;34m(self, other)\u001b[0m\n\u001b[1;32m    401\u001b[0m                 \u001b[0;32mreturn\u001b[0m \u001b[0mcopy\u001b[0m\u001b[0;34m.\u001b[0m\u001b[0m_mul_sparse_matrix\u001b[0m\u001b[0;34m(\u001b[0m\u001b[0mother\u001b[0m\u001b[0;34m)\u001b[0m\u001b[0;34m\u001b[0m\u001b[0;34m\u001b[0m\u001b[0m\n\u001b[1;32m    402\u001b[0m             \u001b[0;32melse\u001b[0m\u001b[0;34m:\u001b[0m\u001b[0;34m\u001b[0m\u001b[0;34m\u001b[0m\u001b[0m\n\u001b[0;32m--> 403\u001b[0;31m                 \u001b[0;32mraise\u001b[0m \u001b[0mValueError\u001b[0m\u001b[0;34m(\u001b[0m\u001b[0;34m\"inconsistent shapes\"\u001b[0m\u001b[0;34m)\u001b[0m\u001b[0;34m\u001b[0m\u001b[0;34m\u001b[0m\u001b[0m\n\u001b[0m\u001b[1;32m    404\u001b[0m \u001b[0;34m\u001b[0m\u001b[0m\n\u001b[1;32m    405\u001b[0m         \u001b[0;31m# Assume other is a dense matrix/array, which produces a single-item\u001b[0m\u001b[0;34m\u001b[0m\u001b[0;34m\u001b[0m\u001b[0;34m\u001b[0m\u001b[0m\n",
      "\u001b[0;31mValueError\u001b[0m: inconsistent shapes"
     ]
    }
   ],
   "source": [
    "J_n = J[:, 1:(nc - 1)]\n",
    "M = hstack([A, J])\n",
    "M_t = M.transpose()\n",
    "MM = M.multiply(M_t)\n",
    "gamma_hat = spsolve(MM.multiply(M_t), Y)"
   ]
  },
  {
   "cell_type": "code",
   "execution_count": 53,
   "metadata": {},
   "outputs": [
    {
     "data": {
      "text/plain": [
       "(13464, 7188)"
      ]
     },
     "execution_count": 53,
     "metadata": {},
     "output_type": "execute_result"
    }
   ],
   "source": [
    "M.shape"
   ]
  },
  {
   "cell_type": "markdown",
   "metadata": {},
   "source": [
    "# A simple evaluation of our estimator\n",
    "\n",
    "To see what we are dealing with, we are simly going to re-simulate using our estimated parameters, then re-run our estimation and compare the new results to the previous one. This is in the spirit of a bootstrap exercise, onyl we will just do it once this time.\n",
    "\n",
    "Please do:\n",
    "\n",
    " 1. create $Y_2 = M \\hat{\\gamma} + \\hat{\\sigma}_r E$ where $E$ is a vector of draw from a standard normal.\n",
    " 2. estimate $\\hat{\\gamma}_2$ from $Y_2$\n",
    " 3. report the new variance term and compare them to the previously estimated\n",
    " 4. comment on the results (not that because of the seed and ordering, your number doesn't have to match mine exactly)\n"
   ]
  },
  {
   "cell_type": "code",
   "execution_count": null,
   "metadata": {
    "ExecuteTime": {
     "end_time": "2020-05-29T21:08:46.590613Z",
     "start_time": "2020-05-29T21:08:42.577398Z"
    }
   },
   "outputs": [],
   "source": [
    "df_all = solution.question4(df_all,M,gamma_hat)\n",
    "df_all['alpha_hat2'].var(),df_all['resid2'].var()"
   ]
  },
  {
   "cell_type": "markdown",
   "metadata": {},
   "source": [
    "Noticed how even the variance of the residual has shrunk? Now is the time to remember STATS 101. We have all heard this thing about degree of freedom correction! Indeed we should correct our raw variance estimates to control for the fact that we have estimated a bunhc of dummies. Usually we use $n/n-1$ because we only estimate one mean. Here however we have estimated $n_s +n_c - 1$ means! Hence we should use \n",
    "\n",
    "$$ \\frac{N}{N-n_s -n_c +1} \\hat{Var}(\\hat{\\epsilon}) $$\n",
    "\n",
    "please do:\n",
    "\n",
    " 1. compute this variance corrected for degree of freedom using your recomputed residuals \n",
    " 2. compare this variance to the variance you estimated in quetion 3\n",
    " 3. what does this suggest?"
   ]
  },
  {
   "cell_type": "code",
   "execution_count": null,
   "metadata": {},
   "outputs": [],
   "source": []
  },
  {
   "cell_type": "code",
   "execution_count": null,
   "metadata": {},
   "outputs": [],
   "source": []
  },
  {
   "cell_type": "code",
   "execution_count": null,
   "metadata": {},
   "outputs": [],
   "source": []
  },
  {
   "cell_type": "code",
   "execution_count": null,
   "metadata": {
    "ExecuteTime": {
     "end_time": "2020-05-29T21:49:40.960930Z",
     "start_time": "2020-05-29T21:49:40.879416Z"
    }
   },
   "outputs": [],
   "source": [
    "solution.question4b(df_all)"
   ]
  },
  {
   "cell_type": "markdown",
   "metadata": {},
   "source": [
    "# Evaluate impact of academic measure on earnings \n",
    "\n",
    "In this section we load a separate data set that contains for each student their earnings at age 35. We are intereted in the effect of $\\alpha$ on earnings. \n",
    "\n",
    "Do the following:\n",
    "\n",
    " 1. load the data the earnings data listed in the intro\n",
    " 2. merge $\\alpha$ into the data\n",
    " 3. regress earnings on $\\alpha$."
   ]
  },
  {
   "cell_type": "code",
   "execution_count": null,
   "metadata": {},
   "outputs": [],
   "source": []
  },
  {
   "cell_type": "code",
   "execution_count": null,
   "metadata": {},
   "outputs": [],
   "source": []
  },
  {
   "cell_type": "code",
   "execution_count": null,
   "metadata": {},
   "outputs": [],
   "source": []
  },
  {
   "cell_type": "code",
   "execution_count": null,
   "metadata": {
    "ExecuteTime": {
     "end_time": "2020-05-29T21:24:02.382987Z",
     "start_time": "2020-05-29T21:24:02.216161Z"
    }
   },
   "outputs": [],
   "source": [
    "df_earnings = solution.question5(df_all)\n",
    "df_earnings"
   ]
  },
  {
   "cell_type": "markdown",
   "metadata": {},
   "source": [
    "# Bias correction - construct the Q matrix\n",
    "\n",
    "We want to apply bias correction to refine our results. As we have seen in class thaqt we can directly compute the bias of the expression of interest.\n",
    "\n",
    "$$ E[ \\hat{\\gamma} Q \\hat{\\gamma}' ] = \\gamma Q \\gamma + \\frac{\\sigma^2}{n} \\text{Tr}[ ( M'M )^{-1} Q] $$\n",
    "\n",
    "under homoskedatic assumption of the error and hence we get the following expresison for the bias for any $Q$ matrix:\n",
    "\n",
    "$$ B = \\frac{\\sigma^2}{N} \\text{Tr}[ ( M'M )^{-1} Q] $$\n",
    "\n",
    "When computing the variance of the measured ability of the student, we simply use a diagonal matrix on $\\gamma$ which selects only the ability part and removes the average. In other words we want to construct:\n",
    "\n",
    "do:\n",
    " 1. Construct such Q matrix.\n",
    " 2. check that $\\gamma Q \\gamma' = \\hat{Var}(\\hat{a})$."
   ]
  },
  {
   "cell_type": "code",
   "execution_count": null,
   "metadata": {
    "ExecuteTime": {
     "end_time": "2020-05-29T21:38:31.470861Z",
     "start_time": "2020-05-29T21:38:30.625410Z"
    }
   },
   "outputs": [],
   "source": [
    "# a small example if we had ns=5,nc=4\n",
    "Qbis = solution.question6(ns=5,nc=4)\n",
    "print(Qbis)\n",
    "\n",
    "# the full Q\n",
    "Q = solution.question6(ns,nc)\n",
    "\n",
    "# comparing Q expression to df_all expression\n",
    "1/(ns)*np.matmul( gamma_hat, np.matmul(Q,gamma_hat )), gamma_hat[range(ns)].var()"
   ]
  },
  {
   "cell_type": "markdown",
   "metadata": {},
   "source": [
    "# Bias correction - Variance sahre\n",
    "\n",
    "We are now finally in the position to compute our bias. We have are matrix $Q$. Now we also need the variance of the residual! Given what we have learn in Question 4, we definitely want to use the formula with degree of freedom correction.\n",
    "\n",
    "1. Compute $\\sigma^2_r$ with the degree of freedom correction\n",
    "2. Invert $M'M$ using `scipy.sparse.linalg`\n",
    "3. Compute $B = \\frac{\\sigma^2}{N} \\text{Tr}[ ( M'M )^{-1} Q]$ using `np.trace`\n",
    "4. Remove this from original estimate to get the share of variance explained by student differences!\n",
    "\n",
    "Note that inversing a matrix is far longer than solving a linear system. You might need to be patient here!\n"
   ]
  },
  {
   "cell_type": "code",
   "execution_count": null,
   "metadata": {
    "ExecuteTime": {
     "end_time": "2020-05-29T22:03:04.700325Z",
     "start_time": "2020-05-29T22:01:26.849096Z"
    }
   },
   "outputs": [],
   "source": [
    "B = solution.question7(M,Q,df_all)\n",
    "B"
   ]
  },
  {
   "cell_type": "code",
   "execution_count": null,
   "metadata": {
    "ExecuteTime": {
     "end_time": "2020-05-29T22:03:10.688151Z",
     "start_time": "2020-05-29T22:03:10.635514Z"
    }
   },
   "outputs": [],
   "source": [
    "gamma_hat[range(ns)].var() - B"
   ]
  },
  {
   "cell_type": "markdown",
   "metadata": {},
   "source": [
    "# Bias correction - Regression coefficient\n",
    "\n",
    "Finally, we look back at our regression of earnings on estimated academic ability. We have seen in class that when the regressor has measurment error this will suffer from attenuation bias. Here we now know exactly how much of the variance is noise thanks to our bias correction.\n",
    "\n",
    "The attenuation bias is given by :\n",
    "\n",
    "$$ \\beta_2 = \\frac{Var(x)}{Var(x) + B} \\beta $$\n",
    "\n",
    "We then decide to compute a correction for our regression using our estimated $B$. \n",
    "\n",
    "Do:\n",
    "\n",
    " 1. compute the corrected beta\n",
    " 2. FIY, the true $\\beta$ I used to simulate the data was **2.0**, is your final parameter far? Is is economically different from the $\\beta$ we got in Question 5?\n",
    " \n",
    "\n"
   ]
  },
  {
   "cell_type": "code",
   "execution_count": null,
   "metadata": {},
   "outputs": [],
   "source": []
  },
  {
   "cell_type": "code",
   "execution_count": null,
   "metadata": {},
   "outputs": [],
   "source": []
  },
  {
   "cell_type": "code",
   "execution_count": null,
   "metadata": {},
   "outputs": [],
   "source": []
  },
  {
   "cell_type": "markdown",
   "metadata": {},
   "source": [
    "# Conclusion\n",
    "\n",
    "I hope you have learned about the pitfalls of over-fitting in this assignment! There are many and they can drastically affect the results and the conclusion of an empirical analysis. \n",
    "\n",
    "This is the end of the class, I hope you enjoyed it and that you learned a thing or twom, have a nice summer!"
   ]
  }
 ],
 "metadata": {
  "@webio": {
   "lastCommId": null,
   "lastKernelId": null
  },
  "kernelspec": {
   "display_name": "Python 3",
   "language": "python",
   "name": "python3"
  },
  "language_info": {
   "codemirror_mode": {
    "name": "ipython",
    "version": 3
   },
   "file_extension": ".py",
   "mimetype": "text/x-python",
   "name": "python",
   "nbconvert_exporter": "python",
   "pygments_lexer": "ipython3",
   "version": "3.7.3"
  },
  "toc": {
   "base_numbering": 1,
   "nav_menu": {},
   "number_sections": true,
   "sideBar": true,
   "skip_h1_title": false,
   "title_cell": "Table of Contents",
   "title_sidebar": "Contents",
   "toc_cell": false,
   "toc_position": {},
   "toc_section_display": true,
   "toc_window_display": false
  },
  "varInspector": {
   "cols": {
    "lenName": 16,
    "lenType": 16,
    "lenVar": 40
   },
   "kernels_config": {
    "python": {
     "delete_cmd_postfix": "",
     "delete_cmd_prefix": "del ",
     "library": "var_list.py",
     "varRefreshCmd": "print(var_dic_list())"
    },
    "r": {
     "delete_cmd_postfix": ") ",
     "delete_cmd_prefix": "rm(",
     "library": "var_list.r",
     "varRefreshCmd": "cat(var_dic_list()) "
    }
   },
   "types_to_exclude": [
    "module",
    "function",
    "builtin_function_or_method",
    "instance",
    "_Feature"
   ],
   "window_display": false
  }
 },
 "nbformat": 4,
 "nbformat_minor": 2
}
