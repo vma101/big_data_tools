{
 "cells": [
  {
   "cell_type": "markdown",
   "metadata": {},
   "source": [
    "A homework on mulitway fixed effect approach\n",
    "\n",
    "In this homework we are going to consider a fictuous grading at a given universities and try to see what we can learn from grade variability and it affects earnings.\n",
    "\n",
    "In the first data set we have the grades collected by a bunch of student within a given summester. Each student attended 3 courses. From this data we are going to try to extrac the ability of each student while allowing for course specific intercept. We can then use this to evaluate how much of the grade variation is due to student differences versus course differences and other factors (residuals). \n",
    "\n",
    "Given this ability measures, we then merge a second file which has the earnings of the student at age 35. We then evaluate the effect of academic ability on individual earnings. Here again we will worry about the effect of over-fitting.\n",
    "\n",
    "Of course this requires, like we saw in class, estimating many parameters, hence we will look into overfitting and how to address it! We wil lmake use of sparse matrices, degree of freedom correction and bias correction.\n",
    "\n",
    "The two data files you will need are:\n",
    "\n",
    " - grades: [hw4-grades.json](http://econ21340.lamadon.com/hw4-grades.json)\n",
    " - earnings: [hw4-earnings.json](http://econ21340.lamadon.com/hw4-earnings.json)\n",
    "\n",
    "Useful links:\n",
    " - [Sparse linear solver](https://docs.scipy.org/doc/scipy/reference/generated/scipy.sparse.linalg.spsolve.html)"
   ]
  },
  {
   "cell_type": "code",
   "execution_count": 1,
   "metadata": {
    "ExecuteTime": {
     "end_time": "2020-05-29T19:00:10.080631Z",
     "start_time": "2020-05-29T19:00:08.915525Z"
    }
   },
   "outputs": [],
   "source": [
    "import os\n",
    "import pandas as pd\n",
    "import tqdm\n",
    "import seaborn as sns\n",
    "import matplotlib.pyplot as plt\n",
    "import numpy as np\n"
   ]
  },
  {
   "cell_type": "code",
   "execution_count": 2,
   "metadata": {
    "ExecuteTime": {
     "end_time": "2020-05-29T19:00:10.800282Z",
     "start_time": "2020-05-29T19:00:10.723044Z"
    }
   },
   "outputs": [],
   "source": [
    "# %cd ..\n",
    "%load_ext autoreload\n",
    "%autoreload 2\n",
    "# import solutions.sol_pset4 as solution # you need to command this, you don't have the solution file!\n",
    "#solution.simulate_data()"
   ]
  },
  {
   "cell_type": "markdown",
   "metadata": {},
   "source": [
    "# Explaining the dispersion in grades\n",
    "\n",
    "Load the grade data from `hw4-grades.json`. Then compute:\n",
    "\n",
    " 1. total variance in grades\n",
    " 2. the between class variance\n",
    " 3. plot the histogram of class size"
   ]
  },
  {
   "cell_type": "code",
   "execution_count": 4,
   "metadata": {},
   "outputs": [],
   "source": [
    "grade_path = \"data/hw4-grades.json\"\n",
    "earnings_path = \"data/hw4-earnings.json\"\n",
    "df_grades = pd.read_json(grade_path, lines=True,\n",
    "                          dtype={'grade':int,\n",
    "                                 'class_id':str,\n",
    "                                 'student_id':str,\n",
    "                                 'major':int,\n",
    "                                 'firstname':str})\n",
    "df_earnings = pd.read_json(earnings_path, lines = True,\n",
    "                          dtype={'student_id':str,\n",
    "                                 'major':str,\n",
    "                                 'firstname':str,\n",
    "                                 'earnings':int})"
   ]
  },
  {
   "cell_type": "code",
   "execution_count": 16,
   "metadata": {},
   "outputs": [],
   "source": [
    "def question1(df):\n",
    "    grade_var = np.var(df_grades[\"grade\"])\n",
    "    print(\"total variance in grades: {}\".format(grade_var))\n",
    "    class_tab = df_grades.groupby(\"class_id\").agg(size = pd.NamedAgg(column='student_id', aggfunc='count'),\n",
    "                                           mean_grade = pd.NamedAgg(column = \"grade\", aggfunc = \"mean\"),\n",
    "                                             var_grade = pd.NamedAgg(column = \"grade\", aggfunc = \"var\"))\n",
    "    print(\"between class variance: {}\".format(class_var))\n",
    "    plt.figure()\n",
    "    plt.hist(class_tab[\"size\"])\n",
    "    plt.xlabel(\"Class Size\")\n",
    "    plt.ylabel(\"Number of Classes\")\n",
    "    plt.title(\"Histogram of Class Sizes\")\n",
    "    return df"
   ]
  },
  {
   "cell_type": "code",
   "execution_count": 17,
   "metadata": {
    "ExecuteTime": {
     "end_time": "2020-05-29T20:47:25.191869Z",
     "start_time": "2020-05-29T20:47:24.871739Z"
    },
    "scrolled": false
   },
   "outputs": [
    {
     "name": "stdout",
     "output_type": "stream",
     "text": [
      "total variance in grades: 1.347032719059103\n",
      "between class variance: 0.3604792888212968\n",
      "6515 students and 673 classes\n"
     ]
    },
    {
     "data": {
      "text/html": [
       "<div>\n",
       "<style scoped>\n",
       "    .dataframe tbody tr th:only-of-type {\n",
       "        vertical-align: middle;\n",
       "    }\n",
       "\n",
       "    .dataframe tbody tr th {\n",
       "        vertical-align: top;\n",
       "    }\n",
       "\n",
       "    .dataframe thead th {\n",
       "        text-align: right;\n",
       "    }\n",
       "</style>\n",
       "<table border=\"1\" class=\"dataframe\">\n",
       "  <thead>\n",
       "    <tr style=\"text-align: right;\">\n",
       "      <th></th>\n",
       "      <th>grade</th>\n",
       "      <th>class_id</th>\n",
       "      <th>student_id</th>\n",
       "      <th>major</th>\n",
       "      <th>firstname</th>\n",
       "    </tr>\n",
       "  </thead>\n",
       "  <tbody>\n",
       "    <tr>\n",
       "      <th>0</th>\n",
       "      <td>1</td>\n",
       "      <td>AG1560</td>\n",
       "      <td>98443</td>\n",
       "      <td>ENGINEERING MECHANICS PHYSICS AND SCIENCE</td>\n",
       "      <td>Essie</td>\n",
       "    </tr>\n",
       "    <tr>\n",
       "      <th>1</th>\n",
       "      <td>1</td>\n",
       "      <td>FW3283</td>\n",
       "      <td>98443</td>\n",
       "      <td>ENGINEERING MECHANICS PHYSICS AND SCIENCE</td>\n",
       "      <td>Essie</td>\n",
       "    </tr>\n",
       "    <tr>\n",
       "      <th>2</th>\n",
       "      <td>1</td>\n",
       "      <td>JN5915</td>\n",
       "      <td>50321</td>\n",
       "      <td>BIOLOGICAL ENGINEERING</td>\n",
       "      <td>Marty</td>\n",
       "    </tr>\n",
       "    <tr>\n",
       "      <th>3</th>\n",
       "      <td>1</td>\n",
       "      <td>MO5833</td>\n",
       "      <td>50321</td>\n",
       "      <td>BIOLOGICAL ENGINEERING</td>\n",
       "      <td>Marty</td>\n",
       "    </tr>\n",
       "    <tr>\n",
       "      <th>4</th>\n",
       "      <td>-1</td>\n",
       "      <td>LM8058</td>\n",
       "      <td>62266</td>\n",
       "      <td>N/A (less than bachelor's degree)</td>\n",
       "      <td>Renee</td>\n",
       "    </tr>\n",
       "    <tr>\n",
       "      <th>...</th>\n",
       "      <td>...</td>\n",
       "      <td>...</td>\n",
       "      <td>...</td>\n",
       "      <td>...</td>\n",
       "      <td>...</td>\n",
       "    </tr>\n",
       "    <tr>\n",
       "      <th>13459</th>\n",
       "      <td>-1</td>\n",
       "      <td>IC2514</td>\n",
       "      <td>33549</td>\n",
       "      <td>ATMOSPHERIC SCIENCES AND METEOROLOGY</td>\n",
       "      <td>Charisse</td>\n",
       "    </tr>\n",
       "    <tr>\n",
       "      <th>13460</th>\n",
       "      <td>0</td>\n",
       "      <td>AA3460</td>\n",
       "      <td>4386</td>\n",
       "      <td>GENERAL MEDICAL AND HEALTH SERVICES</td>\n",
       "      <td>Riley</td>\n",
       "    </tr>\n",
       "    <tr>\n",
       "      <th>13461</th>\n",
       "      <td>0</td>\n",
       "      <td>ME7722</td>\n",
       "      <td>4386</td>\n",
       "      <td>GENERAL MEDICAL AND HEALTH SERVICES</td>\n",
       "      <td>Riley</td>\n",
       "    </tr>\n",
       "    <tr>\n",
       "      <th>13462</th>\n",
       "      <td>0</td>\n",
       "      <td>BP6801</td>\n",
       "      <td>85286</td>\n",
       "      <td>PHYSICAL SCIENCES</td>\n",
       "      <td>Cyrus</td>\n",
       "    </tr>\n",
       "    <tr>\n",
       "      <th>13463</th>\n",
       "      <td>-2</td>\n",
       "      <td>HD0587</td>\n",
       "      <td>85286</td>\n",
       "      <td>PHYSICAL SCIENCES</td>\n",
       "      <td>Cyrus</td>\n",
       "    </tr>\n",
       "  </tbody>\n",
       "</table>\n",
       "<p>13464 rows × 5 columns</p>\n",
       "</div>"
      ],
      "text/plain": [
       "       grade class_id student_id                                      major  \\\n",
       "0          1   AG1560      98443  ENGINEERING MECHANICS PHYSICS AND SCIENCE   \n",
       "1          1   FW3283      98443  ENGINEERING MECHANICS PHYSICS AND SCIENCE   \n",
       "2          1   JN5915      50321                     BIOLOGICAL ENGINEERING   \n",
       "3          1   MO5833      50321                     BIOLOGICAL ENGINEERING   \n",
       "4         -1   LM8058      62266          N/A (less than bachelor's degree)   \n",
       "...      ...      ...        ...                                        ...   \n",
       "13459     -1   IC2514      33549       ATMOSPHERIC SCIENCES AND METEOROLOGY   \n",
       "13460      0   AA3460       4386        GENERAL MEDICAL AND HEALTH SERVICES   \n",
       "13461      0   ME7722       4386        GENERAL MEDICAL AND HEALTH SERVICES   \n",
       "13462      0   BP6801      85286                          PHYSICAL SCIENCES   \n",
       "13463     -2   HD0587      85286                          PHYSICAL SCIENCES   \n",
       "\n",
       "      firstname  \n",
       "0         Essie  \n",
       "1         Essie  \n",
       "2         Marty  \n",
       "3         Marty  \n",
       "4         Renee  \n",
       "...         ...  \n",
       "13459  Charisse  \n",
       "13460     Riley  \n",
       "13461     Riley  \n",
       "13462     Cyrus  \n",
       "13463     Cyrus  \n",
       "\n",
       "[13464 rows x 5 columns]"
      ]
     },
     "execution_count": 17,
     "metadata": {},
     "output_type": "execute_result"
    },
    {
     "data": {
      "image/png": "[encoded data removed]",
      "text/plain": [
       "<Figure size 432x288 with 1 Axes>"
      ]
     },
     "metadata": {
      "needs_background": "light"
     },
     "output_type": "display_data"
    }
   ],
   "source": [
    "df_all = question1(df_grades)\n",
    "# df_all = solution.question1()\n",
    "\n",
    "ns = len(np.unique(df_all['student_id']))\n",
    "nc = len(np.unique(df_all['class_id']))\n",
    "nn = len(df_all)\n",
    "\n",
    "print(\"{} students and {} classes\".format(ns,nc))\n",
    "\n",
    "df_all[[\"grade\",\"class_id\",\"student_id\",\"major\",\"firstname\"]]"
   ]
  },
  {
   "cell_type": "markdown",
   "metadata": {},
   "source": [
    "# Constructing the sparse regressor matrices\n",
    "\n",
    "In a similar fashion to what we covered in the class we want to estimate a two-way fixed model of grates. Specifically, we are want to fit:\n",
    "\n",
    "$$y_{ic} = \\alpha_i + \\psi_c + \\epsilon_{ic}$$ \n",
    "\n",
    "where $i$ denotes each individual, $c$ denote each courses and $\\epsilon_{ic}$ is an error term that will assume conditional mean independent of the assignment of students to courses.\n",
    "\n",
    "We are going to estimate this using least-square. This requires that we construct the matrices that correspond to the equation for $y_{ic}$. We then want to consruct the $A$ and $J$ such that \n",
    "\n",
    "$$Y = A \\alpha + J \\psi + E$$ \n",
    "\n",
    "where for $n_s$ students each with $n_g$ grades in difference courses and a total of $n_c$ courses we have that $Y$ is $n_s \\cdot n_g \\times 1$ vector, $A$ is a $n_s \\cdot n_g \\times n_s$ matrix and $J$ is $n_s \\cdot n_g \\times n_c$. $\\alpha$ is the vector of size $n_s$ and $\\psi$ is a vector of size $n_c$.\n",
    "\n",
    "Each fo the $n_s \\cdot n_g$ correspond to a grade, in each row $A$ has a $1$ in the column corresponding to the individual of this row. Similary, $J$ has a $1$ for for the column corresponding to the class of that row.\n",
    "\n",
    "So, I ask you to:\n",
    "\n",
    " 1. construct these matrices using python sparse matrices `scipy.sparse.csc.csc_matrix`\n"
   ]
  },
  {
   "cell_type": "code",
   "execution_count": 78,
   "metadata": {
    "ExecuteTime": {
     "end_time": "2020-05-29T20:47:32.946282Z",
     "start_time": "2020-05-29T20:47:32.516687Z"
    }
   },
   "outputs": [
    {
     "name": "stdout",
     "output_type": "stream",
     "text": [
      "<class 'scipy.sparse.csc.csc_matrix'>\n",
      "(13464, 6515)\n",
      "(13464, 673)\n",
      "(13464,)\n",
      "13464.0\n",
      "13464.0\n"
     ]
    },
    {
     "data": {
      "image/png": "[encoded data removed]",
      "text/plain": [
       "<Figure size 432x288 with 1 Axes>"
      ]
     },
     "metadata": {
      "needs_background": "light"
     },
     "output_type": "display_data"
    },
    {
     "data": {
      "image/png": "[encoded data removed]",
      "text/plain": [
       "<Figure size 432x288 with 1 Axes>"
      ]
     },
     "metadata": {
      "needs_background": "light"
     },
     "output_type": "display_data"
    }
   ],
   "source": [
    "from scipy.sparse.linalg import spsolve\n",
    "Y,A,J = solution.question2(df_all)\n",
    "\n",
    "print(type(A))\n",
    "print(A.shape)\n",
    "print(J.shape)\n",
    "print(Y.shape)\n",
    "print(A.sum())\n",
    "print(J.sum())\n",
    "\n",
    "# getting a nice diagonal here requires sorting by the studend_id\n",
    "plt.spy(A,aspect=0.1,markersize=0.2)\n",
    "plt.show()\n",
    "plt.spy(J,aspect=0.1,markersize=0.2)\n",
    "plt.show()"
   ]
  },
  {
   "cell_type": "markdown",
   "metadata": {},
   "source": [
    "# Estimating the model\n",
    "\n",
    "Next we estimate our model using the OLS estiamtor formula. We first remove the last column of $J$ (since the model we wrote does not pin down a constant we force the last course to have $\\psi=0$). Solve the linear system using the formula\n",
    "\n",
    "$$ \\hat{\\gamma} = (M'M)^{-1} M' Y $$\n",
    "\n",
    "where $M = [A,J]$ and $\\gamma = (\\alpha,\\psi)$.\n",
    "\n",
    "So do the following:\n",
    "\n",
    " 1. select the last column simply by doing `J = J[:,1:(nc-1]]`\n",
    " 2. use `scipy.sparse.hstack` to concatenate the matrices to create M\n",
    " 3. use `scipy.sparse.linalg.spsolve` to solve a sparse linear system\n",
    " 4. extract $\\hat{\\alpha}$ from $\\hat{\\gamma}$ by selecting the first $n_s$ terms \n",
    " 5. merge $\\hat{\\alpha}$ into `df_all`\n",
    " 6. compute the variance of $\\hat{\\alpha}$ in `df_all`\n",
    " 7. compute the variance of the residuals\n",
    " 8. What share of the total variation in grades can be attributed to difference in students?\n"
   ]
  },
  {
   "cell_type": "code",
   "execution_count": 113,
   "metadata": {
    "ExecuteTime": {
     "end_time": "2020-05-29T21:36:46.166385Z",
     "start_time": "2020-05-29T21:36:41.741158Z"
    }
   },
   "outputs": [
    {
     "name": "stdout",
     "output_type": "stream",
     "text": [
      "1.2723264013339926 0.2961433631652088 2.238309182130912 1.0014340821700642\n"
     ]
    },
    {
     "data": {
      "text/html": [
       "<div>\n",
       "<style scoped>\n",
       "    .dataframe tbody tr th:only-of-type {\n",
       "        vertical-align: middle;\n",
       "    }\n",
       "\n",
       "    .dataframe tbody tr th {\n",
       "        vertical-align: top;\n",
       "    }\n",
       "\n",
       "    .dataframe thead th {\n",
       "        text-align: right;\n",
       "    }\n",
       "</style>\n",
       "<table border=\"1\" class=\"dataframe\">\n",
       "  <thead>\n",
       "    <tr style=\"text-align: right;\">\n",
       "      <th></th>\n",
       "      <th>grade</th>\n",
       "      <th>class_id</th>\n",
       "      <th>student_id</th>\n",
       "      <th>major</th>\n",
       "      <th>firstname</th>\n",
       "      <th>alpha_hat</th>\n",
       "    </tr>\n",
       "  </thead>\n",
       "  <tbody>\n",
       "    <tr>\n",
       "      <th>0</th>\n",
       "      <td>1.534625</td>\n",
       "      <td>AG1560</td>\n",
       "      <td>98443</td>\n",
       "      <td>ENGINEERING MECHANICS PHYSICS AND SCIENCE</td>\n",
       "      <td>Essie</td>\n",
       "      <td>1.641192</td>\n",
       "    </tr>\n",
       "    <tr>\n",
       "      <th>1</th>\n",
       "      <td>1.666892</td>\n",
       "      <td>FW3283</td>\n",
       "      <td>98443</td>\n",
       "      <td>ENGINEERING MECHANICS PHYSICS AND SCIENCE</td>\n",
       "      <td>Essie</td>\n",
       "      <td>1.641192</td>\n",
       "    </tr>\n",
       "    <tr>\n",
       "      <th>2</th>\n",
       "      <td>1.852535</td>\n",
       "      <td>JN5915</td>\n",
       "      <td>50321</td>\n",
       "      <td>BIOLOGICAL ENGINEERING</td>\n",
       "      <td>Marty</td>\n",
       "      <td>2.319451</td>\n",
       "    </tr>\n",
       "    <tr>\n",
       "      <th>3</th>\n",
       "      <td>1.957949</td>\n",
       "      <td>MO5833</td>\n",
       "      <td>50321</td>\n",
       "      <td>BIOLOGICAL ENGINEERING</td>\n",
       "      <td>Marty</td>\n",
       "      <td>2.319451</td>\n",
       "    </tr>\n",
       "    <tr>\n",
       "      <th>4</th>\n",
       "      <td>-1.616509</td>\n",
       "      <td>LM8058</td>\n",
       "      <td>62266</td>\n",
       "      <td>N/A (less than bachelor's degree)</td>\n",
       "      <td>Renee</td>\n",
       "      <td>-0.955532</td>\n",
       "    </tr>\n",
       "    <tr>\n",
       "      <th>...</th>\n",
       "      <td>...</td>\n",
       "      <td>...</td>\n",
       "      <td>...</td>\n",
       "      <td>...</td>\n",
       "      <td>...</td>\n",
       "      <td>...</td>\n",
       "    </tr>\n",
       "    <tr>\n",
       "      <th>13459</th>\n",
       "      <td>-1.382056</td>\n",
       "      <td>IC2514</td>\n",
       "      <td>33549</td>\n",
       "      <td>ATMOSPHERIC SCIENCES AND METEOROLOGY</td>\n",
       "      <td>Charisse</td>\n",
       "      <td>-0.193704</td>\n",
       "    </tr>\n",
       "    <tr>\n",
       "      <th>13460</th>\n",
       "      <td>-0.251954</td>\n",
       "      <td>AA3460</td>\n",
       "      <td>4386</td>\n",
       "      <td>GENERAL MEDICAL AND HEALTH SERVICES</td>\n",
       "      <td>Riley</td>\n",
       "      <td>1.355011</td>\n",
       "    </tr>\n",
       "    <tr>\n",
       "      <th>13461</th>\n",
       "      <td>0.576073</td>\n",
       "      <td>ME7722</td>\n",
       "      <td>4386</td>\n",
       "      <td>GENERAL MEDICAL AND HEALTH SERVICES</td>\n",
       "      <td>Riley</td>\n",
       "      <td>1.355011</td>\n",
       "    </tr>\n",
       "    <tr>\n",
       "      <th>13462</th>\n",
       "      <td>-0.436195</td>\n",
       "      <td>BP6801</td>\n",
       "      <td>85286</td>\n",
       "      <td>PHYSICAL SCIENCES</td>\n",
       "      <td>Cyrus</td>\n",
       "      <td>0.140501</td>\n",
       "    </tr>\n",
       "    <tr>\n",
       "      <th>13463</th>\n",
       "      <td>-2.151344</td>\n",
       "      <td>HD0587</td>\n",
       "      <td>85286</td>\n",
       "      <td>PHYSICAL SCIENCES</td>\n",
       "      <td>Cyrus</td>\n",
       "      <td>0.140501</td>\n",
       "    </tr>\n",
       "  </tbody>\n",
       "</table>\n",
       "<p>13464 rows × 6 columns</p>\n",
       "</div>"
      ],
      "text/plain": [
       "          grade class_id  student_id  \\\n",
       "0      1.534625   AG1560       98443   \n",
       "1      1.666892   FW3283       98443   \n",
       "2      1.852535   JN5915       50321   \n",
       "3      1.957949   MO5833       50321   \n",
       "4     -1.616509   LM8058       62266   \n",
       "...         ...      ...         ...   \n",
       "13459 -1.382056   IC2514       33549   \n",
       "13460 -0.251954   AA3460        4386   \n",
       "13461  0.576073   ME7722        4386   \n",
       "13462 -0.436195   BP6801       85286   \n",
       "13463 -2.151344   HD0587       85286   \n",
       "\n",
       "                                           major firstname  alpha_hat  \n",
       "0      ENGINEERING MECHANICS PHYSICS AND SCIENCE     Essie   1.641192  \n",
       "1      ENGINEERING MECHANICS PHYSICS AND SCIENCE     Essie   1.641192  \n",
       "2                         BIOLOGICAL ENGINEERING     Marty   2.319451  \n",
       "3                         BIOLOGICAL ENGINEERING     Marty   2.319451  \n",
       "4              N/A (less than bachelor's degree)     Renee  -0.955532  \n",
       "...                                          ...       ...        ...  \n",
       "13459       ATMOSPHERIC SCIENCES AND METEOROLOGY  Charisse  -0.193704  \n",
       "13460        GENERAL MEDICAL AND HEALTH SERVICES     Riley   1.355011  \n",
       "13461        GENERAL MEDICAL AND HEALTH SERVICES     Riley   1.355011  \n",
       "13462                          PHYSICAL SCIENCES     Cyrus   0.140501  \n",
       "13463                          PHYSICAL SCIENCES     Cyrus   0.140501  \n",
       "\n",
       "[13464 rows x 6 columns]"
      ]
     },
     "execution_count": 113,
     "metadata": {},
     "output_type": "execute_result"
    }
   ],
   "source": [
    "df_all, M, gamma_hat = solution.question3(df_all,A,J,Y)\n",
    "print(df_all['alpha_hat'].var(),df_all['resid'].var(),df_all['grade'].var(),df_all['A'].var())\n",
    "df_all[[\"grade\",\"class_id\",\"student_id\",\"major\",\"firstname\",\"alpha_hat\"]]"
   ]
  },
  {
   "cell_type": "markdown",
   "metadata": {},
   "source": [
    "# A simple evaluation of our estimator\n",
    "\n",
    "To see what we are dealing with, we are simly going to re-simulate using our estimated parameters, then re-run our estimation and compare the new results to the previous one. This is in the spirit of a bootstrap exercise, onyl we will just do it once this time.\n",
    "\n",
    "Please do:\n",
    "\n",
    " 1. create $Y_2 = M \\hat{\\gamma} + \\hat{\\sigma}_r E$ where $E$ is a vector of draw from a standard normal.\n",
    " 2. estimate $\\hat{\\gamma}_2$ from $Y_2$\n",
    " 3. report the new variance term and compare them to the previously estimated\n",
    " 4. comment on the results (not that because of the seed and ordering, your number doesn't have to match mine exactly)\n"
   ]
  },
  {
   "cell_type": "code",
   "execution_count": 93,
   "metadata": {
    "ExecuteTime": {
     "end_time": "2020-05-29T21:08:46.590613Z",
     "start_time": "2020-05-29T21:08:42.577398Z"
    }
   },
   "outputs": [
    {
     "data": {
      "text/plain": [
       "(1.4346423413900549, 0.13670786305558028)"
      ]
     },
     "execution_count": 93,
     "metadata": {},
     "output_type": "execute_result"
    }
   ],
   "source": [
    "df_all = solution.question4(df_all,M,gamma_hat)\n",
    "df_all['alpha_hat2'].var(),df_all['resid2'].var()"
   ]
  },
  {
   "cell_type": "markdown",
   "metadata": {},
   "source": [
    "Noticed how even the variance of the residual has shrunk? Now is the time to remember STATS 101. We have all heard this thing about degree of freedom correction! Indeed we should correct our raw variance estimates to control for the fact that we have estimated a bunhc of dummies. Usually we use $n/n-1$ because we only estimate one mean. Here however we have estimated $n_s +n_c - 1$ means! Hence we should use \n",
    "\n",
    "$$ \\frac{N}{N-n_s -n_c +1} \\hat{Var}(\\hat{\\epsilon}) $$\n",
    "\n",
    "please do:\n",
    "\n",
    " 1. compute this variance corrected for degree of freedom using your recomputed residuals \n",
    " 2. compare this variance to the variance you estimated in quetion 3\n",
    " 3. what does this suggest?"
   ]
  },
  {
   "cell_type": "code",
   "execution_count": 121,
   "metadata": {
    "ExecuteTime": {
     "end_time": "2020-05-29T21:49:40.960930Z",
     "start_time": "2020-05-29T21:49:40.879416Z"
    }
   },
   "outputs": [
    {
     "name": "stdout",
     "output_type": "stream",
     "text": [
      "Var2 with degree of freedom correction:0.29323477269082887\n"
     ]
    }
   ],
   "source": [
    "solution.question4b(df_all)"
   ]
  },
  {
   "cell_type": "markdown",
   "metadata": {},
   "source": [
    "# Evaluate impact of academic measure on earnings \n",
    "\n",
    "In this section we load a separate data set that contains for each student their earnings at age 35. We are intereted in the effect of $\\alpha$ on earnings. \n",
    "\n",
    "Do the following:\n",
    "\n",
    " 1. load the data the earnings data listed in the intro\n",
    " 2. merge $\\alpha$ into the data\n",
    " 3. regress earnings on $\\alpha$."
   ]
  },
  {
   "cell_type": "code",
   "execution_count": 108,
   "metadata": {
    "ExecuteTime": {
     "end_time": "2020-05-29T21:24:02.382987Z",
     "start_time": "2020-05-29T21:24:02.216161Z"
    }
   },
   "outputs": [
    {
     "name": "stdout",
     "output_type": "stream",
     "text": [
      "                            OLS Regression Results                            \n",
      "==============================================================================\n",
      "Dep. Variable:               earnings   R-squared:                       0.027\n",
      "Model:                            OLS   Adj. R-squared:                  0.026\n",
      "Method:                 Least Squares   F-statistic:                     183.2\n",
      "Date:                Fri, 29 May 2020   Prob (F-statistic):           3.27e-41\n",
      "Time:                        16:24:02   Log-Likelihood:                -9566.5\n",
      "No. Observations:                6732   AIC:                         1.914e+04\n",
      "Df Residuals:                    6730   BIC:                         1.915e+04\n",
      "Df Model:                           1                                         \n",
      "Covariance Type:            nonrobust                                         \n",
      "==============================================================================\n",
      "                 coef    std err          t      P>|t|      [0.025      0.975]\n",
      "------------------------------------------------------------------------------\n",
      "Intercept     -0.1072      0.015     -7.388      0.000      -0.136      -0.079\n",
      "alpha_hat      0.1466      0.011     13.537      0.000       0.125       0.168\n",
      "==============================================================================\n",
      "Omnibus:                        3.940   Durbin-Watson:                   1.971\n",
      "Prob(Omnibus):                  0.139   Jarque-Bera (JB):                3.910\n",
      "Skew:                           0.044   Prob(JB):                        0.142\n",
      "Kurtosis:                       2.922   Cond. No.                         1.97\n",
      "==============================================================================\n",
      "\n",
      "Warnings:\n",
      "[1] Standard Errors assume that the covariance matrix of the errors is correctly specified.\n"
     ]
    },
    {
     "data": {
      "text/html": [
       "<div>\n",
       "<style scoped>\n",
       "    .dataframe tbody tr th:only-of-type {\n",
       "        vertical-align: middle;\n",
       "    }\n",
       "\n",
       "    .dataframe tbody tr th {\n",
       "        vertical-align: top;\n",
       "    }\n",
       "\n",
       "    .dataframe thead th {\n",
       "        text-align: right;\n",
       "    }\n",
       "</style>\n",
       "<table border=\"1\" class=\"dataframe\">\n",
       "  <thead>\n",
       "    <tr style=\"text-align: right;\">\n",
       "      <th></th>\n",
       "      <th>student_id</th>\n",
       "      <th>major</th>\n",
       "      <th>firstname</th>\n",
       "      <th>earnings</th>\n",
       "      <th>alpha_hat</th>\n",
       "    </tr>\n",
       "  </thead>\n",
       "  <tbody>\n",
       "    <tr>\n",
       "      <th>0</th>\n",
       "      <td>98443</td>\n",
       "      <td>ENGINEERING MECHANICS PHYSICS AND SCIENCE</td>\n",
       "      <td>Essie</td>\n",
       "      <td>0.345659</td>\n",
       "      <td>1.641192</td>\n",
       "    </tr>\n",
       "    <tr>\n",
       "      <th>1</th>\n",
       "      <td>50321</td>\n",
       "      <td>BIOLOGICAL ENGINEERING</td>\n",
       "      <td>Marty</td>\n",
       "      <td>-0.911299</td>\n",
       "      <td>2.319451</td>\n",
       "    </tr>\n",
       "    <tr>\n",
       "      <th>2</th>\n",
       "      <td>62266</td>\n",
       "      <td>N/A (less than bachelor's degree)</td>\n",
       "      <td>Renee</td>\n",
       "      <td>-2.666607</td>\n",
       "      <td>-0.955532</td>\n",
       "    </tr>\n",
       "    <tr>\n",
       "      <th>3</th>\n",
       "      <td>50732</td>\n",
       "      <td>MUSIC</td>\n",
       "      <td>Franklin</td>\n",
       "      <td>-0.416194</td>\n",
       "      <td>2.119203</td>\n",
       "    </tr>\n",
       "    <tr>\n",
       "      <th>4</th>\n",
       "      <td>95557</td>\n",
       "      <td>ECONOMICS</td>\n",
       "      <td>Antonio</td>\n",
       "      <td>0.775642</td>\n",
       "      <td>2.736958</td>\n",
       "    </tr>\n",
       "    <tr>\n",
       "      <th>...</th>\n",
       "      <td>...</td>\n",
       "      <td>...</td>\n",
       "      <td>...</td>\n",
       "      <td>...</td>\n",
       "      <td>...</td>\n",
       "    </tr>\n",
       "    <tr>\n",
       "      <th>6727</th>\n",
       "      <td>60663</td>\n",
       "      <td>ECOLOGY</td>\n",
       "      <td>Curley</td>\n",
       "      <td>-1.137731</td>\n",
       "      <td>0.966792</td>\n",
       "    </tr>\n",
       "    <tr>\n",
       "      <th>6728</th>\n",
       "      <td>88662</td>\n",
       "      <td>HEALTH AND MEDICAL PREPARATORY PROGRAMS</td>\n",
       "      <td>Arvil</td>\n",
       "      <td>-2.481996</td>\n",
       "      <td>0.063130</td>\n",
       "    </tr>\n",
       "    <tr>\n",
       "      <th>6729</th>\n",
       "      <td>33549</td>\n",
       "      <td>ATMOSPHERIC SCIENCES AND METEOROLOGY</td>\n",
       "      <td>Charisse</td>\n",
       "      <td>-0.670838</td>\n",
       "      <td>-0.193704</td>\n",
       "    </tr>\n",
       "    <tr>\n",
       "      <th>6730</th>\n",
       "      <td>4386</td>\n",
       "      <td>GENERAL MEDICAL AND HEALTH SERVICES</td>\n",
       "      <td>Riley</td>\n",
       "      <td>2.373190</td>\n",
       "      <td>1.355011</td>\n",
       "    </tr>\n",
       "    <tr>\n",
       "      <th>6731</th>\n",
       "      <td>85286</td>\n",
       "      <td>PHYSICAL SCIENCES</td>\n",
       "      <td>Cyrus</td>\n",
       "      <td>-0.842226</td>\n",
       "      <td>0.140501</td>\n",
       "    </tr>\n",
       "  </tbody>\n",
       "</table>\n",
       "<p>6732 rows × 5 columns</p>\n",
       "</div>"
      ],
      "text/plain": [
       "      student_id                                      major firstname  \\\n",
       "0          98443  ENGINEERING MECHANICS PHYSICS AND SCIENCE     Essie   \n",
       "1          50321                     BIOLOGICAL ENGINEERING     Marty   \n",
       "2          62266          N/A (less than bachelor's degree)     Renee   \n",
       "3          50732                                      MUSIC  Franklin   \n",
       "4          95557                                  ECONOMICS   Antonio   \n",
       "...          ...                                        ...       ...   \n",
       "6727       60663                                    ECOLOGY    Curley   \n",
       "6728       88662    HEALTH AND MEDICAL PREPARATORY PROGRAMS     Arvil   \n",
       "6729       33549       ATMOSPHERIC SCIENCES AND METEOROLOGY  Charisse   \n",
       "6730        4386        GENERAL MEDICAL AND HEALTH SERVICES     Riley   \n",
       "6731       85286                          PHYSICAL SCIENCES     Cyrus   \n",
       "\n",
       "      earnings  alpha_hat  \n",
       "0     0.345659   1.641192  \n",
       "1    -0.911299   2.319451  \n",
       "2    -2.666607  -0.955532  \n",
       "3    -0.416194   2.119203  \n",
       "4     0.775642   2.736958  \n",
       "...        ...        ...  \n",
       "6727 -1.137731   0.966792  \n",
       "6728 -2.481996   0.063130  \n",
       "6729 -0.670838  -0.193704  \n",
       "6730  2.373190   1.355011  \n",
       "6731 -0.842226   0.140501  \n",
       "\n",
       "[6732 rows x 5 columns]"
      ]
     },
     "execution_count": 108,
     "metadata": {},
     "output_type": "execute_result"
    }
   ],
   "source": [
    "df_earnings = solution.question5(df_all)\n",
    "df_earnings"
   ]
  },
  {
   "cell_type": "markdown",
   "metadata": {},
   "source": [
    "# Bias correction - construct the Q matrix\n",
    "\n",
    "We want to apply bias correction to refine our results. As we have seen in class thaqt we can directly compute the bias of the expression of interest.\n",
    "\n",
    "$$ E[ \\hat{\\gamma} Q \\hat{\\gamma}' ] = \\gamma Q \\gamma + \\frac{\\sigma^2}{n} \\text{Tr}[ ( M'M )^{-1} Q] $$\n",
    "\n",
    "under homoskedatic assumption of the error and hence we get the following expresison for the bias for any $Q$ matrix:\n",
    "\n",
    "$$ B = \\frac{\\sigma^2}{N} \\text{Tr}[ ( M'M )^{-1} Q] $$\n",
    "\n",
    "When computing the variance of the measured ability of the student, we simply use a diagonal matrix on $\\gamma$ which selects only the ability part and removes the average. In other words we want to construct:\n",
    "\n",
    "do:\n",
    " 1. Construct such Q matrix.\n",
    " 2. check that $\\gamma Q \\gamma' = \\hat{Var}(\\hat{a})$."
   ]
  },
  {
   "cell_type": "code",
   "execution_count": 117,
   "metadata": {
    "ExecuteTime": {
     "end_time": "2020-05-29T21:38:31.470861Z",
     "start_time": "2020-05-29T21:38:30.625410Z"
    }
   },
   "outputs": [
    {
     "name": "stdout",
     "output_type": "stream",
     "text": [
      "[[ 0.8 -0.2 -0.2 -0.2 -0.2  0.   0.   0. ]\n",
      " [-0.2  0.8 -0.2 -0.2 -0.2  0.   0.   0. ]\n",
      " [-0.2 -0.2  0.8 -0.2 -0.2  0.   0.   0. ]\n",
      " [-0.2 -0.2 -0.2  0.8 -0.2  0.   0.   0. ]\n",
      " [-0.2 -0.2 -0.2 -0.2  0.8  0.   0.   0. ]\n",
      " [ 0.   0.   0.   0.   0.   0.   0.   0. ]\n",
      " [ 0.   0.   0.   0.   0.   0.   0.   0. ]\n",
      " [ 0.   0.   0.   0.   0.   0.   0.   0. ]]\n"
     ]
    },
    {
     "data": {
      "text/plain": [
       "(1.2933390582972624, 1.293339058297262)"
      ]
     },
     "execution_count": 117,
     "metadata": {},
     "output_type": "execute_result"
    }
   ],
   "source": [
    "# a small example if we had ns=5,nc=4\n",
    "Qbis = solution.question6(ns=5,nc=4)\n",
    "print(Qbis)\n",
    "\n",
    "# the full Q\n",
    "Q = solution.question6(ns,nc)\n",
    "\n",
    "# comparing Q expression to df_all expression\n",
    "1/(ns)*np.matmul( gamma_hat, np.matmul(Q,gamma_hat )), gamma_hat[range(ns)].var()"
   ]
  },
  {
   "cell_type": "markdown",
   "metadata": {},
   "source": [
    "# Bias correction - Variance sahre\n",
    "\n",
    "We are now finally in the position to compute our bias. We have are matrix $Q$. Now we also need the variance of the residual! Given what we have learn in Question 4, we definitely want to use the formula with degree of freedom correction.\n",
    "\n",
    "1. Compute $\\sigma^2_r$ with the degree of freedom correction\n",
    "2. Invert $M'M$ using `scipy.sparse.linalg`\n",
    "3. Compute $B = \\frac{\\sigma^2}{N} \\text{Tr}[ ( M'M )^{-1} Q]$ using `np.trace`\n",
    "4. Remove this from original estimate to get the share of variance explained by student differences!\n",
    "\n",
    "Note that inversing a matrix is far longer than solving a linear system. You might need to be patient here!\n"
   ]
  },
  {
   "cell_type": "code",
   "execution_count": 124,
   "metadata": {
    "ExecuteTime": {
     "end_time": "2020-05-29T22:03:04.700325Z",
     "start_time": "2020-05-29T22:01:26.849096Z"
    }
   },
   "outputs": [
    {
     "name": "stderr",
     "output_type": "stream",
     "text": [
      "/Users/thibautlamadon/anaconda3/envs/econ21340-env/lib/python3.7/site-packages/scipy/sparse/linalg/dsolve/linsolve.py:310: SparseEfficiencyWarning: splu requires CSC matrix format\n",
      "  warn('splu requires CSC matrix format', SparseEfficiencyWarning)\n",
      "/Users/thibautlamadon/anaconda3/envs/econ21340-env/lib/python3.7/site-packages/scipy/sparse/linalg/dsolve/linsolve.py:208: SparseEfficiencyWarning: spsolve is more efficient when sparse b is in the CSC matrix format\n",
      "  'is in the CSC matrix format', SparseEfficiencyWarning)\n"
     ]
    },
    {
     "data": {
      "text/plain": [
       "0.34566337103526645"
      ]
     },
     "execution_count": 124,
     "metadata": {},
     "output_type": "execute_result"
    }
   ],
   "source": [
    "B = solution.question7(M,Q,df_all)\n",
    "B"
   ]
  },
  {
   "cell_type": "code",
   "execution_count": 125,
   "metadata": {
    "ExecuteTime": {
     "end_time": "2020-05-29T22:03:10.688151Z",
     "start_time": "2020-05-29T22:03:10.635514Z"
    }
   },
   "outputs": [
    {
     "data": {
      "text/plain": [
       "0.9476756872619955"
      ]
     },
     "execution_count": 125,
     "metadata": {},
     "output_type": "execute_result"
    }
   ],
   "source": [
    "gamma_hat[range(ns)].var() - B"
   ]
  },
  {
   "cell_type": "markdown",
   "metadata": {},
   "source": [
    "# Bias correction - Regression coefficient\n",
    "\n",
    "Finally, we look back at our regression of earnings on estimated academic ability. We have seen in class that when the regressor has measurment error this will suffer from attenuation bias. Here we now know exactly how much of the variance is noise thanks to our bias correction.\n",
    "\n",
    "The attenuation bias is given by :\n",
    "\n",
    "$$ \\beta_2 = \\frac{Var(x)}{Var(x) + B} \\beta $$\n",
    "\n",
    "We then decide to compute a correction for our regression using our estimated $B$. \n",
    "\n",
    "Do:\n",
    "\n",
    " 1. compute the corrected beta\n",
    " 2. FIY, the true $\\beta$ I used to simulate the data was **2.0**, is your final parameter far? Is is economically different from the $\\beta$ we got in Question 5?\n",
    " \n",
    "\n"
   ]
  },
  {
   "cell_type": "markdown",
   "metadata": {},
   "source": [
    "# Conclusion\n",
    "\n",
    "I hope you have learned about the pitfalls of over-fitting in this assignment! There are many and they can drastically affect the results and the conclusion of an empirical analysis. \n",
    "\n",
    "This is the end of the class, I hope you enjoyed it and that you learned a thing or twom, have a nice summer!"
   ]
  }
 ],
 "metadata": {
  "@webio": {
   "lastCommId": null,
   "lastKernelId": null
  },
  "kernelspec": {
   "display_name": "Python 3",
   "language": "python",
   "name": "python3"
  },
  "language_info": {
   "codemirror_mode": {
    "name": "ipython",
    "version": 3
   },
   "file_extension": ".py",
   "mimetype": "text/x-python",
   "name": "python",
   "nbconvert_exporter": "python",
   "pygments_lexer": "ipython3",
   "version": "3.7.0"
  },
  "toc": {
   "base_numbering": 1,
   "nav_menu": {},
   "number_sections": true,
   "sideBar": true,
   "skip_h1_title": false,
   "title_cell": "Table of Contents",
   "title_sidebar": "Contents",
   "toc_cell": false,
   "toc_position": {},
   "toc_section_display": true,
   "toc_window_display": false
  },
  "varInspector": {
   "cols": {
    "lenName": 16,
    "lenType": 16,
    "lenVar": 40
   },
   "kernels_config": {
    "python": {
     "delete_cmd_postfix": "",
     "delete_cmd_prefix": "del ",
     "library": "var_list.py",
     "varRefreshCmd": "print(var_dic_list())"
    },
    "r": {
     "delete_cmd_postfix": ") ",
     "delete_cmd_prefix": "rm(",
     "library": "var_list.r",
     "varRefreshCmd": "cat(var_dic_list()) "
    }
   },
   "types_to_exclude": [
    "module",
    "function",
    "builtin_function_or_method",
    "instance",
    "_Feature"
   ],
   "window_display": false
  }
 },
 "nbformat": 4,
 "nbformat_minor": 2
}
