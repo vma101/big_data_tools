{
 "cells": [
  {
   "cell_type": "markdown",
   "metadata": {},
   "source": [
    "## Homework #2\n",
    "**Michael Carrion, Vanessa Ma, Rahul Rangwani**"
   ]
  },
  {
   "cell_type": "code",
   "execution_count": 4,
   "metadata": {},
   "outputs": [],
   "source": [
    "# Set up\n",
    "import pandas as pd\n",
    "import numpy as np\n",
    "import time\n",
    "\n",
    "data = pd.read_stata(\"data/CPS_2012_micro.dta\")"
   ]
  },
  {
   "cell_type": "code",
   "execution_count": 5,
   "metadata": {},
   "outputs": [
    {
     "data": {
      "text/html": [
       "<div>\n",
       "<style scoped>\n",
       "    .dataframe tbody tr th:only-of-type {\n",
       "        vertical-align: middle;\n",
       "    }\n",
       "\n",
       "    .dataframe tbody tr th {\n",
       "        vertical-align: top;\n",
       "    }\n",
       "\n",
       "    .dataframe thead th {\n",
       "        text-align: right;\n",
       "    }\n",
       "</style>\n",
       "<table border=\"1\" class=\"dataframe\">\n",
       "  <thead>\n",
       "    <tr style=\"text-align: right;\">\n",
       "      <th></th>\n",
       "      <th>year</th>\n",
       "      <th>statefip</th>\n",
       "      <th>wtsupp</th>\n",
       "      <th>age</th>\n",
       "      <th>sex</th>\n",
       "      <th>yrseduc</th>\n",
       "      <th>wage_per_hour</th>\n",
       "      <th>lnwage</th>\n",
       "      <th>age2</th>\n",
       "      <th>fp</th>\n",
       "    </tr>\n",
       "  </thead>\n",
       "  <tbody>\n",
       "    <tr>\n",
       "      <th>0</th>\n",
       "      <td>2012</td>\n",
       "      <td>Maine</td>\n",
       "      <td>569.43</td>\n",
       "      <td>44</td>\n",
       "      <td>Female</td>\n",
       "      <td>14.0</td>\n",
       "      <td>7.020000</td>\n",
       "      <td>1.948763</td>\n",
       "      <td>1936.0</td>\n",
       "      <td>True</td>\n",
       "    </tr>\n",
       "    <tr>\n",
       "      <th>1</th>\n",
       "      <td>2012</td>\n",
       "      <td>Maine</td>\n",
       "      <td>595.47</td>\n",
       "      <td>25</td>\n",
       "      <td>Male</td>\n",
       "      <td>16.0</td>\n",
       "      <td>2.117143</td>\n",
       "      <td>0.750067</td>\n",
       "      <td>625.0</td>\n",
       "      <td>True</td>\n",
       "    </tr>\n",
       "    <tr>\n",
       "      <th>2</th>\n",
       "      <td>2012</td>\n",
       "      <td>Maine</td>\n",
       "      <td>635.66</td>\n",
       "      <td>61</td>\n",
       "      <td>Female</td>\n",
       "      <td>16.0</td>\n",
       "      <td>16.672501</td>\n",
       "      <td>2.813761</td>\n",
       "      <td>3721.0</td>\n",
       "      <td>True</td>\n",
       "    </tr>\n",
       "    <tr>\n",
       "      <th>3</th>\n",
       "      <td>2012</td>\n",
       "      <td>Maine</td>\n",
       "      <td>635.66</td>\n",
       "      <td>62</td>\n",
       "      <td>Male</td>\n",
       "      <td>16.0</td>\n",
       "      <td>17.784000</td>\n",
       "      <td>2.878299</td>\n",
       "      <td>3844.0</td>\n",
       "      <td>True</td>\n",
       "    </tr>\n",
       "    <tr>\n",
       "      <th>4</th>\n",
       "      <td>2012</td>\n",
       "      <td>Maine</td>\n",
       "      <td>513.39</td>\n",
       "      <td>25</td>\n",
       "      <td>Female</td>\n",
       "      <td>12.0</td>\n",
       "      <td>9.633000</td>\n",
       "      <td>2.265195</td>\n",
       "      <td>625.0</td>\n",
       "      <td>True</td>\n",
       "    </tr>\n",
       "  </tbody>\n",
       "</table>\n",
       "</div>"
      ],
      "text/plain": [
       "   year statefip  wtsupp age     sex  yrseduc  wage_per_hour    lnwage  \\\n",
       "0  2012    Maine  569.43  44  Female     14.0       7.020000  1.948763   \n",
       "1  2012    Maine  595.47  25    Male     16.0       2.117143  0.750067   \n",
       "2  2012    Maine  635.66  61  Female     16.0      16.672501  2.813761   \n",
       "3  2012    Maine  635.66  62    Male     16.0      17.784000  2.878299   \n",
       "4  2012    Maine  513.39  25  Female     12.0       9.633000  2.265195   \n",
       "\n",
       "     age2    fp  \n",
       "0  1936.0  True  \n",
       "1   625.0  True  \n",
       "2  3721.0  True  \n",
       "3  3844.0  True  \n",
       "4   625.0  True  "
      ]
     },
     "execution_count": 5,
     "metadata": {},
     "output_type": "execute_result"
    }
   ],
   "source": [
    "np.random.seed(60356548)\n",
    "\n",
    "# we draw the policy for each state\n",
    "fpol = { k:np.random.uniform() > 0.5 for k in np.unique(data['statefip']) }\n",
    "data['fp'] = data['statefip'].map(fpol)\n",
    "\n",
    "data.head()"
   ]
  },
  {
   "cell_type": "markdown",
   "metadata": {},
   "source": [
    "Question 1:<br>\n",
    "1) Compute average wage in each state for each age decile <br>\n",
    "2) Pivot table with states in rows and age deciles in columns <br>\n",
    "3) Using pandas styling, highlight the lowest wage in each age decile, format average wage with only 2 decimal points"
   ]
  },
  {
   "cell_type": "code",
   "execution_count": 6,
   "metadata": {},
   "outputs": [],
   "source": [
    "def highlight_min(s):\n",
    "    '''\n",
    "    highlight the minimum in a Series yellow.\n",
    "    '''\n",
    "    is_min = s == s.min()\n",
    "    return ['background-color: yellow' if v else '' for v in is_min]\n",
    "\n",
    "def tibo_question1(data):\n",
    "    data[\"decile\"] = data[\"age\"].astype(int) // 10 * 10 + 10\n",
    "    wage_decile = pd.pivot_table(data, \"wage_per_hour\", index = \"statefip\", columns = \"decile\")\n",
    "    wage_decile = wage_decile.style.\\\n",
    "        set_precision(2).\\\n",
    "        apply(highlight_min, axis = 0)\n",
    "    return wage_decile"
   ]
  },
  {
   "cell_type": "code",
   "execution_count": 7,
   "metadata": {
    "scrolled": false
   },
   "outputs": [
    {
     "data": {
      "text/html": [
       "<style  type=\"text/css\" >\n",
       "    #T_a4a64eda_865f_11ea_9b8c_f45c89b618dfrow12_col0 {\n",
       "            background-color:  yellow;\n",
       "        }    #T_a4a64eda_865f_11ea_9b8c_f45c89b618dfrow12_col5 {\n",
       "            background-color:  yellow;\n",
       "        }    #T_a4a64eda_865f_11ea_9b8c_f45c89b618dfrow24_col4 {\n",
       "            background-color:  yellow;\n",
       "        }    #T_a4a64eda_865f_11ea_9b8c_f45c89b618dfrow40_col1 {\n",
       "            background-color:  yellow;\n",
       "        }    #T_a4a64eda_865f_11ea_9b8c_f45c89b618dfrow40_col2 {\n",
       "            background-color:  yellow;\n",
       "        }    #T_a4a64eda_865f_11ea_9b8c_f45c89b618dfrow40_col3 {\n",
       "            background-color:  yellow;\n",
       "        }</style><table id=\"T_a4a64eda_865f_11ea_9b8c_f45c89b618df\" ><thead>    <tr>        <th class=\"index_name level0\" >decile</th>        <th class=\"col_heading level0 col0\" >20</th>        <th class=\"col_heading level0 col1\" >30</th>        <th class=\"col_heading level0 col2\" >40</th>        <th class=\"col_heading level0 col3\" >50</th>        <th class=\"col_heading level0 col4\" >60</th>        <th class=\"col_heading level0 col5\" >70</th>    </tr>    <tr>        <th class=\"index_name level0\" >statefip</th>        <th class=\"blank\" ></th>        <th class=\"blank\" ></th>        <th class=\"blank\" ></th>        <th class=\"blank\" ></th>        <th class=\"blank\" ></th>        <th class=\"blank\" ></th>    </tr></thead><tbody>\n",
       "                <tr>\n",
       "                        <th id=\"T_a4a64eda_865f_11ea_9b8c_f45c89b618dflevel0_row0\" class=\"row_heading level0 row0\" >Alabama</th>\n",
       "                        <td id=\"T_a4a64eda_865f_11ea_9b8c_f45c89b618dfrow0_col0\" class=\"data row0 col0\" >6.44</td>\n",
       "                        <td id=\"T_a4a64eda_865f_11ea_9b8c_f45c89b618dfrow0_col1\" class=\"data row0 col1\" >10.77</td>\n",
       "                        <td id=\"T_a4a64eda_865f_11ea_9b8c_f45c89b618dfrow0_col2\" class=\"data row0 col2\" >15.56</td>\n",
       "                        <td id=\"T_a4a64eda_865f_11ea_9b8c_f45c89b618dfrow0_col3\" class=\"data row0 col3\" >18.64</td>\n",
       "                        <td id=\"T_a4a64eda_865f_11ea_9b8c_f45c89b618dfrow0_col4\" class=\"data row0 col4\" >17.83</td>\n",
       "                        <td id=\"T_a4a64eda_865f_11ea_9b8c_f45c89b618dfrow0_col5\" class=\"data row0 col5\" >15.93</td>\n",
       "            </tr>\n",
       "            <tr>\n",
       "                        <th id=\"T_a4a64eda_865f_11ea_9b8c_f45c89b618dflevel0_row1\" class=\"row_heading level0 row1\" >Alaska</th>\n",
       "                        <td id=\"T_a4a64eda_865f_11ea_9b8c_f45c89b618dfrow1_col0\" class=\"data row1 col0\" >7.16</td>\n",
       "                        <td id=\"T_a4a64eda_865f_11ea_9b8c_f45c89b618dfrow1_col1\" class=\"data row1 col1\" >13.30</td>\n",
       "                        <td id=\"T_a4a64eda_865f_11ea_9b8c_f45c89b618dfrow1_col2\" class=\"data row1 col2\" >19.42</td>\n",
       "                        <td id=\"T_a4a64eda_865f_11ea_9b8c_f45c89b618dfrow1_col3\" class=\"data row1 col3\" >19.41</td>\n",
       "                        <td id=\"T_a4a64eda_865f_11ea_9b8c_f45c89b618dfrow1_col4\" class=\"data row1 col4\" >21.18</td>\n",
       "                        <td id=\"T_a4a64eda_865f_11ea_9b8c_f45c89b618dfrow1_col5\" class=\"data row1 col5\" >20.19</td>\n",
       "            </tr>\n",
       "            <tr>\n",
       "                        <th id=\"T_a4a64eda_865f_11ea_9b8c_f45c89b618dflevel0_row2\" class=\"row_heading level0 row2\" >Arizona</th>\n",
       "                        <td id=\"T_a4a64eda_865f_11ea_9b8c_f45c89b618dfrow2_col0\" class=\"data row2 col0\" >6.58</td>\n",
       "                        <td id=\"T_a4a64eda_865f_11ea_9b8c_f45c89b618dfrow2_col1\" class=\"data row2 col1\" >11.73</td>\n",
       "                        <td id=\"T_a4a64eda_865f_11ea_9b8c_f45c89b618dfrow2_col2\" class=\"data row2 col2\" >15.92</td>\n",
       "                        <td id=\"T_a4a64eda_865f_11ea_9b8c_f45c89b618dfrow2_col3\" class=\"data row2 col3\" >19.06</td>\n",
       "                        <td id=\"T_a4a64eda_865f_11ea_9b8c_f45c89b618dfrow2_col4\" class=\"data row2 col4\" >18.17</td>\n",
       "                        <td id=\"T_a4a64eda_865f_11ea_9b8c_f45c89b618dfrow2_col5\" class=\"data row2 col5\" >21.06</td>\n",
       "            </tr>\n",
       "            <tr>\n",
       "                        <th id=\"T_a4a64eda_865f_11ea_9b8c_f45c89b618dflevel0_row3\" class=\"row_heading level0 row3\" >Arkansas</th>\n",
       "                        <td id=\"T_a4a64eda_865f_11ea_9b8c_f45c89b618dfrow3_col0\" class=\"data row3 col0\" >5.58</td>\n",
       "                        <td id=\"T_a4a64eda_865f_11ea_9b8c_f45c89b618dfrow3_col1\" class=\"data row3 col1\" >11.71</td>\n",
       "                        <td id=\"T_a4a64eda_865f_11ea_9b8c_f45c89b618dfrow3_col2\" class=\"data row3 col2\" >15.24</td>\n",
       "                        <td id=\"T_a4a64eda_865f_11ea_9b8c_f45c89b618dfrow3_col3\" class=\"data row3 col3\" >17.04</td>\n",
       "                        <td id=\"T_a4a64eda_865f_11ea_9b8c_f45c89b618dfrow3_col4\" class=\"data row3 col4\" >16.12</td>\n",
       "                        <td id=\"T_a4a64eda_865f_11ea_9b8c_f45c89b618dfrow3_col5\" class=\"data row3 col5\" >15.03</td>\n",
       "            </tr>\n",
       "            <tr>\n",
       "                        <th id=\"T_a4a64eda_865f_11ea_9b8c_f45c89b618dflevel0_row4\" class=\"row_heading level0 row4\" >California</th>\n",
       "                        <td id=\"T_a4a64eda_865f_11ea_9b8c_f45c89b618dfrow4_col0\" class=\"data row4 col0\" >9.86</td>\n",
       "                        <td id=\"T_a4a64eda_865f_11ea_9b8c_f45c89b618dfrow4_col1\" class=\"data row4 col1\" >12.27</td>\n",
       "                        <td id=\"T_a4a64eda_865f_11ea_9b8c_f45c89b618dfrow4_col2\" class=\"data row4 col2\" >18.49</td>\n",
       "                        <td id=\"T_a4a64eda_865f_11ea_9b8c_f45c89b618dfrow4_col3\" class=\"data row4 col3\" >20.53</td>\n",
       "                        <td id=\"T_a4a64eda_865f_11ea_9b8c_f45c89b618dfrow4_col4\" class=\"data row4 col4\" >21.44</td>\n",
       "                        <td id=\"T_a4a64eda_865f_11ea_9b8c_f45c89b618dfrow4_col5\" class=\"data row4 col5\" >21.15</td>\n",
       "            </tr>\n",
       "            <tr>\n",
       "                        <th id=\"T_a4a64eda_865f_11ea_9b8c_f45c89b618dflevel0_row5\" class=\"row_heading level0 row5\" >Colorado</th>\n",
       "                        <td id=\"T_a4a64eda_865f_11ea_9b8c_f45c89b618dfrow5_col0\" class=\"data row5 col0\" >12.25</td>\n",
       "                        <td id=\"T_a4a64eda_865f_11ea_9b8c_f45c89b618dfrow5_col1\" class=\"data row5 col1\" >11.98</td>\n",
       "                        <td id=\"T_a4a64eda_865f_11ea_9b8c_f45c89b618dfrow5_col2\" class=\"data row5 col2\" >18.52</td>\n",
       "                        <td id=\"T_a4a64eda_865f_11ea_9b8c_f45c89b618dfrow5_col3\" class=\"data row5 col3\" >20.66</td>\n",
       "                        <td id=\"T_a4a64eda_865f_11ea_9b8c_f45c89b618dfrow5_col4\" class=\"data row5 col4\" >21.93</td>\n",
       "                        <td id=\"T_a4a64eda_865f_11ea_9b8c_f45c89b618dfrow5_col5\" class=\"data row5 col5\" >21.72</td>\n",
       "            </tr>\n",
       "            <tr>\n",
       "                        <th id=\"T_a4a64eda_865f_11ea_9b8c_f45c89b618dflevel0_row6\" class=\"row_heading level0 row6\" >Connecticut</th>\n",
       "                        <td id=\"T_a4a64eda_865f_11ea_9b8c_f45c89b618dfrow6_col0\" class=\"data row6 col0\" >4.55</td>\n",
       "                        <td id=\"T_a4a64eda_865f_11ea_9b8c_f45c89b618dfrow6_col1\" class=\"data row6 col1\" >12.96</td>\n",
       "                        <td id=\"T_a4a64eda_865f_11ea_9b8c_f45c89b618dfrow6_col2\" class=\"data row6 col2\" >20.50</td>\n",
       "                        <td id=\"T_a4a64eda_865f_11ea_9b8c_f45c89b618dfrow6_col3\" class=\"data row6 col3\" >23.96</td>\n",
       "                        <td id=\"T_a4a64eda_865f_11ea_9b8c_f45c89b618dfrow6_col4\" class=\"data row6 col4\" >25.66</td>\n",
       "                        <td id=\"T_a4a64eda_865f_11ea_9b8c_f45c89b618dfrow6_col5\" class=\"data row6 col5\" >21.75</td>\n",
       "            </tr>\n",
       "            <tr>\n",
       "                        <th id=\"T_a4a64eda_865f_11ea_9b8c_f45c89b618dflevel0_row7\" class=\"row_heading level0 row7\" >Delaware</th>\n",
       "                        <td id=\"T_a4a64eda_865f_11ea_9b8c_f45c89b618dfrow7_col0\" class=\"data row7 col0\" >7.00</td>\n",
       "                        <td id=\"T_a4a64eda_865f_11ea_9b8c_f45c89b618dfrow7_col1\" class=\"data row7 col1\" >12.13</td>\n",
       "                        <td id=\"T_a4a64eda_865f_11ea_9b8c_f45c89b618dfrow7_col2\" class=\"data row7 col2\" >16.14</td>\n",
       "                        <td id=\"T_a4a64eda_865f_11ea_9b8c_f45c89b618dfrow7_col3\" class=\"data row7 col3\" >20.08</td>\n",
       "                        <td id=\"T_a4a64eda_865f_11ea_9b8c_f45c89b618dfrow7_col4\" class=\"data row7 col4\" >17.95</td>\n",
       "                        <td id=\"T_a4a64eda_865f_11ea_9b8c_f45c89b618dfrow7_col5\" class=\"data row7 col5\" >19.41</td>\n",
       "            </tr>\n",
       "            <tr>\n",
       "                        <th id=\"T_a4a64eda_865f_11ea_9b8c_f45c89b618dflevel0_row8\" class=\"row_heading level0 row8\" >District of Columbia</th>\n",
       "                        <td id=\"T_a4a64eda_865f_11ea_9b8c_f45c89b618dfrow8_col0\" class=\"data row8 col0\" >24.08</td>\n",
       "                        <td id=\"T_a4a64eda_865f_11ea_9b8c_f45c89b618dfrow8_col1\" class=\"data row8 col1\" >16.56</td>\n",
       "                        <td id=\"T_a4a64eda_865f_11ea_9b8c_f45c89b618dfrow8_col2\" class=\"data row8 col2\" >25.57</td>\n",
       "                        <td id=\"T_a4a64eda_865f_11ea_9b8c_f45c89b618dfrow8_col3\" class=\"data row8 col3\" >25.43</td>\n",
       "                        <td id=\"T_a4a64eda_865f_11ea_9b8c_f45c89b618dfrow8_col4\" class=\"data row8 col4\" >25.74</td>\n",
       "                        <td id=\"T_a4a64eda_865f_11ea_9b8c_f45c89b618dfrow8_col5\" class=\"data row8 col5\" >28.26</td>\n",
       "            </tr>\n",
       "            <tr>\n",
       "                        <th id=\"T_a4a64eda_865f_11ea_9b8c_f45c89b618dflevel0_row9\" class=\"row_heading level0 row9\" >Florida</th>\n",
       "                        <td id=\"T_a4a64eda_865f_11ea_9b8c_f45c89b618dfrow9_col0\" class=\"data row9 col0\" >7.52</td>\n",
       "                        <td id=\"T_a4a64eda_865f_11ea_9b8c_f45c89b618dfrow9_col1\" class=\"data row9 col1\" >11.37</td>\n",
       "                        <td id=\"T_a4a64eda_865f_11ea_9b8c_f45c89b618dfrow9_col2\" class=\"data row9 col2\" >15.90</td>\n",
       "                        <td id=\"T_a4a64eda_865f_11ea_9b8c_f45c89b618dfrow9_col3\" class=\"data row9 col3\" >18.50</td>\n",
       "                        <td id=\"T_a4a64eda_865f_11ea_9b8c_f45c89b618dfrow9_col4\" class=\"data row9 col4\" >18.91</td>\n",
       "                        <td id=\"T_a4a64eda_865f_11ea_9b8c_f45c89b618dfrow9_col5\" class=\"data row9 col5\" >17.22</td>\n",
       "            </tr>\n",
       "            <tr>\n",
       "                        <th id=\"T_a4a64eda_865f_11ea_9b8c_f45c89b618dflevel0_row10\" class=\"row_heading level0 row10\" >Georgia</th>\n",
       "                        <td id=\"T_a4a64eda_865f_11ea_9b8c_f45c89b618dfrow10_col0\" class=\"data row10 col0\" >9.87</td>\n",
       "                        <td id=\"T_a4a64eda_865f_11ea_9b8c_f45c89b618dfrow10_col1\" class=\"data row10 col1\" >11.83</td>\n",
       "                        <td id=\"T_a4a64eda_865f_11ea_9b8c_f45c89b618dfrow10_col2\" class=\"data row10 col2\" >16.68</td>\n",
       "                        <td id=\"T_a4a64eda_865f_11ea_9b8c_f45c89b618dfrow10_col3\" class=\"data row10 col3\" >20.02</td>\n",
       "                        <td id=\"T_a4a64eda_865f_11ea_9b8c_f45c89b618dfrow10_col4\" class=\"data row10 col4\" >18.82</td>\n",
       "                        <td id=\"T_a4a64eda_865f_11ea_9b8c_f45c89b618dfrow10_col5\" class=\"data row10 col5\" >17.87</td>\n",
       "            </tr>\n",
       "            <tr>\n",
       "                        <th id=\"T_a4a64eda_865f_11ea_9b8c_f45c89b618dflevel0_row11\" class=\"row_heading level0 row11\" >Hawaii</th>\n",
       "                        <td id=\"T_a4a64eda_865f_11ea_9b8c_f45c89b618dfrow11_col0\" class=\"data row11 col0\" >13.92</td>\n",
       "                        <td id=\"T_a4a64eda_865f_11ea_9b8c_f45c89b618dfrow11_col1\" class=\"data row11 col1\" >11.38</td>\n",
       "                        <td id=\"T_a4a64eda_865f_11ea_9b8c_f45c89b618dfrow11_col2\" class=\"data row11 col2\" >17.11</td>\n",
       "                        <td id=\"T_a4a64eda_865f_11ea_9b8c_f45c89b618dfrow11_col3\" class=\"data row11 col3\" >18.21</td>\n",
       "                        <td id=\"T_a4a64eda_865f_11ea_9b8c_f45c89b618dfrow11_col4\" class=\"data row11 col4\" >18.34</td>\n",
       "                        <td id=\"T_a4a64eda_865f_11ea_9b8c_f45c89b618dfrow11_col5\" class=\"data row11 col5\" >20.53</td>\n",
       "            </tr>\n",
       "            <tr>\n",
       "                        <th id=\"T_a4a64eda_865f_11ea_9b8c_f45c89b618dflevel0_row12\" class=\"row_heading level0 row12\" >Idaho</th>\n",
       "                        <td id=\"T_a4a64eda_865f_11ea_9b8c_f45c89b618dfrow12_col0\" class=\"data row12 col0\" >3.03</td>\n",
       "                        <td id=\"T_a4a64eda_865f_11ea_9b8c_f45c89b618dfrow12_col1\" class=\"data row12 col1\" >10.66</td>\n",
       "                        <td id=\"T_a4a64eda_865f_11ea_9b8c_f45c89b618dfrow12_col2\" class=\"data row12 col2\" >16.15</td>\n",
       "                        <td id=\"T_a4a64eda_865f_11ea_9b8c_f45c89b618dfrow12_col3\" class=\"data row12 col3\" >17.30</td>\n",
       "                        <td id=\"T_a4a64eda_865f_11ea_9b8c_f45c89b618dfrow12_col4\" class=\"data row12 col4\" >17.35</td>\n",
       "                        <td id=\"T_a4a64eda_865f_11ea_9b8c_f45c89b618dfrow12_col5\" class=\"data row12 col5\" >13.83</td>\n",
       "            </tr>\n",
       "            <tr>\n",
       "                        <th id=\"T_a4a64eda_865f_11ea_9b8c_f45c89b618dflevel0_row13\" class=\"row_heading level0 row13\" >Illinois</th>\n",
       "                        <td id=\"T_a4a64eda_865f_11ea_9b8c_f45c89b618dfrow13_col0\" class=\"data row13 col0\" >6.77</td>\n",
       "                        <td id=\"T_a4a64eda_865f_11ea_9b8c_f45c89b618dfrow13_col1\" class=\"data row13 col1\" >11.79</td>\n",
       "                        <td id=\"T_a4a64eda_865f_11ea_9b8c_f45c89b618dfrow13_col2\" class=\"data row13 col2\" >18.05</td>\n",
       "                        <td id=\"T_a4a64eda_865f_11ea_9b8c_f45c89b618dfrow13_col3\" class=\"data row13 col3\" >20.16</td>\n",
       "                        <td id=\"T_a4a64eda_865f_11ea_9b8c_f45c89b618dfrow13_col4\" class=\"data row13 col4\" >21.51</td>\n",
       "                        <td id=\"T_a4a64eda_865f_11ea_9b8c_f45c89b618dfrow13_col5\" class=\"data row13 col5\" >20.15</td>\n",
       "            </tr>\n",
       "            <tr>\n",
       "                        <th id=\"T_a4a64eda_865f_11ea_9b8c_f45c89b618dflevel0_row14\" class=\"row_heading level0 row14\" >Indiana</th>\n",
       "                        <td id=\"T_a4a64eda_865f_11ea_9b8c_f45c89b618dfrow14_col0\" class=\"data row14 col0\" >7.54</td>\n",
       "                        <td id=\"T_a4a64eda_865f_11ea_9b8c_f45c89b618dfrow14_col1\" class=\"data row14 col1\" >12.32</td>\n",
       "                        <td id=\"T_a4a64eda_865f_11ea_9b8c_f45c89b618dfrow14_col2\" class=\"data row14 col2\" >16.37</td>\n",
       "                        <td id=\"T_a4a64eda_865f_11ea_9b8c_f45c89b618dfrow14_col3\" class=\"data row14 col3\" >18.37</td>\n",
       "                        <td id=\"T_a4a64eda_865f_11ea_9b8c_f45c89b618dfrow14_col4\" class=\"data row14 col4\" >18.40</td>\n",
       "                        <td id=\"T_a4a64eda_865f_11ea_9b8c_f45c89b618dfrow14_col5\" class=\"data row14 col5\" >17.95</td>\n",
       "            </tr>\n",
       "            <tr>\n",
       "                        <th id=\"T_a4a64eda_865f_11ea_9b8c_f45c89b618dflevel0_row15\" class=\"row_heading level0 row15\" >Iowa</th>\n",
       "                        <td id=\"T_a4a64eda_865f_11ea_9b8c_f45c89b618dfrow15_col0\" class=\"data row15 col0\" >7.73</td>\n",
       "                        <td id=\"T_a4a64eda_865f_11ea_9b8c_f45c89b618dfrow15_col1\" class=\"data row15 col1\" >11.19</td>\n",
       "                        <td id=\"T_a4a64eda_865f_11ea_9b8c_f45c89b618dfrow15_col2\" class=\"data row15 col2\" >16.05</td>\n",
       "                        <td id=\"T_a4a64eda_865f_11ea_9b8c_f45c89b618dfrow15_col3\" class=\"data row15 col3\" >18.14</td>\n",
       "                        <td id=\"T_a4a64eda_865f_11ea_9b8c_f45c89b618dfrow15_col4\" class=\"data row15 col4\" >16.79</td>\n",
       "                        <td id=\"T_a4a64eda_865f_11ea_9b8c_f45c89b618dfrow15_col5\" class=\"data row15 col5\" >17.97</td>\n",
       "            </tr>\n",
       "            <tr>\n",
       "                        <th id=\"T_a4a64eda_865f_11ea_9b8c_f45c89b618dflevel0_row16\" class=\"row_heading level0 row16\" >Kansas</th>\n",
       "                        <td id=\"T_a4a64eda_865f_11ea_9b8c_f45c89b618dfrow16_col0\" class=\"data row16 col0\" >5.14</td>\n",
       "                        <td id=\"T_a4a64eda_865f_11ea_9b8c_f45c89b618dfrow16_col1\" class=\"data row16 col1\" >11.25</td>\n",
       "                        <td id=\"T_a4a64eda_865f_11ea_9b8c_f45c89b618dfrow16_col2\" class=\"data row16 col2\" >16.63</td>\n",
       "                        <td id=\"T_a4a64eda_865f_11ea_9b8c_f45c89b618dfrow16_col3\" class=\"data row16 col3\" >17.01</td>\n",
       "                        <td id=\"T_a4a64eda_865f_11ea_9b8c_f45c89b618dfrow16_col4\" class=\"data row16 col4\" >19.31</td>\n",
       "                        <td id=\"T_a4a64eda_865f_11ea_9b8c_f45c89b618dfrow16_col5\" class=\"data row16 col5\" >17.95</td>\n",
       "            </tr>\n",
       "            <tr>\n",
       "                        <th id=\"T_a4a64eda_865f_11ea_9b8c_f45c89b618dflevel0_row17\" class=\"row_heading level0 row17\" >Kentucky</th>\n",
       "                        <td id=\"T_a4a64eda_865f_11ea_9b8c_f45c89b618dfrow17_col0\" class=\"data row17 col0\" >7.64</td>\n",
       "                        <td id=\"T_a4a64eda_865f_11ea_9b8c_f45c89b618dfrow17_col1\" class=\"data row17 col1\" >11.64</td>\n",
       "                        <td id=\"T_a4a64eda_865f_11ea_9b8c_f45c89b618dfrow17_col2\" class=\"data row17 col2\" >15.27</td>\n",
       "                        <td id=\"T_a4a64eda_865f_11ea_9b8c_f45c89b618dfrow17_col3\" class=\"data row17 col3\" >16.47</td>\n",
       "                        <td id=\"T_a4a64eda_865f_11ea_9b8c_f45c89b618dfrow17_col4\" class=\"data row17 col4\" >17.95</td>\n",
       "                        <td id=\"T_a4a64eda_865f_11ea_9b8c_f45c89b618dfrow17_col5\" class=\"data row17 col5\" >16.08</td>\n",
       "            </tr>\n",
       "            <tr>\n",
       "                        <th id=\"T_a4a64eda_865f_11ea_9b8c_f45c89b618dflevel0_row18\" class=\"row_heading level0 row18\" >Louisiana</th>\n",
       "                        <td id=\"T_a4a64eda_865f_11ea_9b8c_f45c89b618dfrow18_col0\" class=\"data row18 col0\" >7.19</td>\n",
       "                        <td id=\"T_a4a64eda_865f_11ea_9b8c_f45c89b618dfrow18_col1\" class=\"data row18 col1\" >12.00</td>\n",
       "                        <td id=\"T_a4a64eda_865f_11ea_9b8c_f45c89b618dfrow18_col2\" class=\"data row18 col2\" >14.42</td>\n",
       "                        <td id=\"T_a4a64eda_865f_11ea_9b8c_f45c89b618dfrow18_col3\" class=\"data row18 col3\" >16.58</td>\n",
       "                        <td id=\"T_a4a64eda_865f_11ea_9b8c_f45c89b618dfrow18_col4\" class=\"data row18 col4\" >16.44</td>\n",
       "                        <td id=\"T_a4a64eda_865f_11ea_9b8c_f45c89b618dfrow18_col5\" class=\"data row18 col5\" >22.01</td>\n",
       "            </tr>\n",
       "            <tr>\n",
       "                        <th id=\"T_a4a64eda_865f_11ea_9b8c_f45c89b618dflevel0_row19\" class=\"row_heading level0 row19\" >Maine</th>\n",
       "                        <td id=\"T_a4a64eda_865f_11ea_9b8c_f45c89b618dfrow19_col0\" class=\"data row19 col0\" >3.90</td>\n",
       "                        <td id=\"T_a4a64eda_865f_11ea_9b8c_f45c89b618dfrow19_col1\" class=\"data row19 col1\" >11.43</td>\n",
       "                        <td id=\"T_a4a64eda_865f_11ea_9b8c_f45c89b618dfrow19_col2\" class=\"data row19 col2\" >16.30</td>\n",
       "                        <td id=\"T_a4a64eda_865f_11ea_9b8c_f45c89b618dfrow19_col3\" class=\"data row19 col3\" >17.50</td>\n",
       "                        <td id=\"T_a4a64eda_865f_11ea_9b8c_f45c89b618dfrow19_col4\" class=\"data row19 col4\" >18.52</td>\n",
       "                        <td id=\"T_a4a64eda_865f_11ea_9b8c_f45c89b618dfrow19_col5\" class=\"data row19 col5\" >16.00</td>\n",
       "            </tr>\n",
       "            <tr>\n",
       "                        <th id=\"T_a4a64eda_865f_11ea_9b8c_f45c89b618dflevel0_row20\" class=\"row_heading level0 row20\" >Maryland</th>\n",
       "                        <td id=\"T_a4a64eda_865f_11ea_9b8c_f45c89b618dfrow20_col0\" class=\"data row20 col0\" >6.35</td>\n",
       "                        <td id=\"T_a4a64eda_865f_11ea_9b8c_f45c89b618dfrow20_col1\" class=\"data row20 col1\" >14.04</td>\n",
       "                        <td id=\"T_a4a64eda_865f_11ea_9b8c_f45c89b618dfrow20_col2\" class=\"data row20 col2\" >20.12</td>\n",
       "                        <td id=\"T_a4a64eda_865f_11ea_9b8c_f45c89b618dfrow20_col3\" class=\"data row20 col3\" >22.96</td>\n",
       "                        <td id=\"T_a4a64eda_865f_11ea_9b8c_f45c89b618dfrow20_col4\" class=\"data row20 col4\" >22.92</td>\n",
       "                        <td id=\"T_a4a64eda_865f_11ea_9b8c_f45c89b618dfrow20_col5\" class=\"data row20 col5\" >24.50</td>\n",
       "            </tr>\n",
       "            <tr>\n",
       "                        <th id=\"T_a4a64eda_865f_11ea_9b8c_f45c89b618dflevel0_row21\" class=\"row_heading level0 row21\" >Massachusetts</th>\n",
       "                        <td id=\"T_a4a64eda_865f_11ea_9b8c_f45c89b618dfrow21_col0\" class=\"data row21 col0\" >5.18</td>\n",
       "                        <td id=\"T_a4a64eda_865f_11ea_9b8c_f45c89b618dfrow21_col1\" class=\"data row21 col1\" >13.52</td>\n",
       "                        <td id=\"T_a4a64eda_865f_11ea_9b8c_f45c89b618dfrow21_col2\" class=\"data row21 col2\" >21.83</td>\n",
       "                        <td id=\"T_a4a64eda_865f_11ea_9b8c_f45c89b618dfrow21_col3\" class=\"data row21 col3\" >23.65</td>\n",
       "                        <td id=\"T_a4a64eda_865f_11ea_9b8c_f45c89b618dfrow21_col4\" class=\"data row21 col4\" >23.87</td>\n",
       "                        <td id=\"T_a4a64eda_865f_11ea_9b8c_f45c89b618dfrow21_col5\" class=\"data row21 col5\" >21.34</td>\n",
       "            </tr>\n",
       "            <tr>\n",
       "                        <th id=\"T_a4a64eda_865f_11ea_9b8c_f45c89b618dflevel0_row22\" class=\"row_heading level0 row22\" >Michigan</th>\n",
       "                        <td id=\"T_a4a64eda_865f_11ea_9b8c_f45c89b618dfrow22_col0\" class=\"data row22 col0\" >6.03</td>\n",
       "                        <td id=\"T_a4a64eda_865f_11ea_9b8c_f45c89b618dfrow22_col1\" class=\"data row22 col1\" >11.05</td>\n",
       "                        <td id=\"T_a4a64eda_865f_11ea_9b8c_f45c89b618dfrow22_col2\" class=\"data row22 col2\" >17.94</td>\n",
       "                        <td id=\"T_a4a64eda_865f_11ea_9b8c_f45c89b618dfrow22_col3\" class=\"data row22 col3\" >19.64</td>\n",
       "                        <td id=\"T_a4a64eda_865f_11ea_9b8c_f45c89b618dfrow22_col4\" class=\"data row22 col4\" >20.54</td>\n",
       "                        <td id=\"T_a4a64eda_865f_11ea_9b8c_f45c89b618dfrow22_col5\" class=\"data row22 col5\" >20.84</td>\n",
       "            </tr>\n",
       "            <tr>\n",
       "                        <th id=\"T_a4a64eda_865f_11ea_9b8c_f45c89b618dflevel0_row23\" class=\"row_heading level0 row23\" >Minnesota</th>\n",
       "                        <td id=\"T_a4a64eda_865f_11ea_9b8c_f45c89b618dfrow23_col0\" class=\"data row23 col0\" >6.43</td>\n",
       "                        <td id=\"T_a4a64eda_865f_11ea_9b8c_f45c89b618dfrow23_col1\" class=\"data row23 col1\" >12.64</td>\n",
       "                        <td id=\"T_a4a64eda_865f_11ea_9b8c_f45c89b618dfrow23_col2\" class=\"data row23 col2\" >19.12</td>\n",
       "                        <td id=\"T_a4a64eda_865f_11ea_9b8c_f45c89b618dfrow23_col3\" class=\"data row23 col3\" >20.89</td>\n",
       "                        <td id=\"T_a4a64eda_865f_11ea_9b8c_f45c89b618dfrow23_col4\" class=\"data row23 col4\" >19.29</td>\n",
       "                        <td id=\"T_a4a64eda_865f_11ea_9b8c_f45c89b618dfrow23_col5\" class=\"data row23 col5\" >16.72</td>\n",
       "            </tr>\n",
       "            <tr>\n",
       "                        <th id=\"T_a4a64eda_865f_11ea_9b8c_f45c89b618dflevel0_row24\" class=\"row_heading level0 row24\" >Mississippi</th>\n",
       "                        <td id=\"T_a4a64eda_865f_11ea_9b8c_f45c89b618dfrow24_col0\" class=\"data row24 col0\" >5.54</td>\n",
       "                        <td id=\"T_a4a64eda_865f_11ea_9b8c_f45c89b618dfrow24_col1\" class=\"data row24 col1\" >10.82</td>\n",
       "                        <td id=\"T_a4a64eda_865f_11ea_9b8c_f45c89b618dfrow24_col2\" class=\"data row24 col2\" >14.71</td>\n",
       "                        <td id=\"T_a4a64eda_865f_11ea_9b8c_f45c89b618dfrow24_col3\" class=\"data row24 col3\" >17.26</td>\n",
       "                        <td id=\"T_a4a64eda_865f_11ea_9b8c_f45c89b618dfrow24_col4\" class=\"data row24 col4\" >14.60</td>\n",
       "                        <td id=\"T_a4a64eda_865f_11ea_9b8c_f45c89b618dfrow24_col5\" class=\"data row24 col5\" >17.69</td>\n",
       "            </tr>\n",
       "            <tr>\n",
       "                        <th id=\"T_a4a64eda_865f_11ea_9b8c_f45c89b618dflevel0_row25\" class=\"row_heading level0 row25\" >Missouri</th>\n",
       "                        <td id=\"T_a4a64eda_865f_11ea_9b8c_f45c89b618dfrow25_col0\" class=\"data row25 col0\" >6.82</td>\n",
       "                        <td id=\"T_a4a64eda_865f_11ea_9b8c_f45c89b618dfrow25_col1\" class=\"data row25 col1\" >11.51</td>\n",
       "                        <td id=\"T_a4a64eda_865f_11ea_9b8c_f45c89b618dfrow25_col2\" class=\"data row25 col2\" >15.69</td>\n",
       "                        <td id=\"T_a4a64eda_865f_11ea_9b8c_f45c89b618dfrow25_col3\" class=\"data row25 col3\" >18.79</td>\n",
       "                        <td id=\"T_a4a64eda_865f_11ea_9b8c_f45c89b618dfrow25_col4\" class=\"data row25 col4\" >19.43</td>\n",
       "                        <td id=\"T_a4a64eda_865f_11ea_9b8c_f45c89b618dfrow25_col5\" class=\"data row25 col5\" >17.13</td>\n",
       "            </tr>\n",
       "            <tr>\n",
       "                        <th id=\"T_a4a64eda_865f_11ea_9b8c_f45c89b618dflevel0_row26\" class=\"row_heading level0 row26\" >Montana</th>\n",
       "                        <td id=\"T_a4a64eda_865f_11ea_9b8c_f45c89b618dfrow26_col0\" class=\"data row26 col0\" >4.60</td>\n",
       "                        <td id=\"T_a4a64eda_865f_11ea_9b8c_f45c89b618dfrow26_col1\" class=\"data row26 col1\" >10.45</td>\n",
       "                        <td id=\"T_a4a64eda_865f_11ea_9b8c_f45c89b618dfrow26_col2\" class=\"data row26 col2\" >14.67</td>\n",
       "                        <td id=\"T_a4a64eda_865f_11ea_9b8c_f45c89b618dfrow26_col3\" class=\"data row26 col3\" >16.33</td>\n",
       "                        <td id=\"T_a4a64eda_865f_11ea_9b8c_f45c89b618dfrow26_col4\" class=\"data row26 col4\" >15.93</td>\n",
       "                        <td id=\"T_a4a64eda_865f_11ea_9b8c_f45c89b618dfrow26_col5\" class=\"data row26 col5\" >15.74</td>\n",
       "            </tr>\n",
       "            <tr>\n",
       "                        <th id=\"T_a4a64eda_865f_11ea_9b8c_f45c89b618dflevel0_row27\" class=\"row_heading level0 row27\" >Nebraska</th>\n",
       "                        <td id=\"T_a4a64eda_865f_11ea_9b8c_f45c89b618dfrow27_col0\" class=\"data row27 col0\" >7.90</td>\n",
       "                        <td id=\"T_a4a64eda_865f_11ea_9b8c_f45c89b618dfrow27_col1\" class=\"data row27 col1\" >10.51</td>\n",
       "                        <td id=\"T_a4a64eda_865f_11ea_9b8c_f45c89b618dfrow27_col2\" class=\"data row27 col2\" >16.52</td>\n",
       "                        <td id=\"T_a4a64eda_865f_11ea_9b8c_f45c89b618dfrow27_col3\" class=\"data row27 col3\" >17.01</td>\n",
       "                        <td id=\"T_a4a64eda_865f_11ea_9b8c_f45c89b618dfrow27_col4\" class=\"data row27 col4\" >16.73</td>\n",
       "                        <td id=\"T_a4a64eda_865f_11ea_9b8c_f45c89b618dfrow27_col5\" class=\"data row27 col5\" >15.74</td>\n",
       "            </tr>\n",
       "            <tr>\n",
       "                        <th id=\"T_a4a64eda_865f_11ea_9b8c_f45c89b618dflevel0_row28\" class=\"row_heading level0 row28\" >Nevada</th>\n",
       "                        <td id=\"T_a4a64eda_865f_11ea_9b8c_f45c89b618dfrow28_col0\" class=\"data row28 col0\" >7.55</td>\n",
       "                        <td id=\"T_a4a64eda_865f_11ea_9b8c_f45c89b618dfrow28_col1\" class=\"data row28 col1\" >11.74</td>\n",
       "                        <td id=\"T_a4a64eda_865f_11ea_9b8c_f45c89b618dfrow28_col2\" class=\"data row28 col2\" >16.80</td>\n",
       "                        <td id=\"T_a4a64eda_865f_11ea_9b8c_f45c89b618dfrow28_col3\" class=\"data row28 col3\" >18.03</td>\n",
       "                        <td id=\"T_a4a64eda_865f_11ea_9b8c_f45c89b618dfrow28_col4\" class=\"data row28 col4\" >17.44</td>\n",
       "                        <td id=\"T_a4a64eda_865f_11ea_9b8c_f45c89b618dfrow28_col5\" class=\"data row28 col5\" >17.46</td>\n",
       "            </tr>\n",
       "            <tr>\n",
       "                        <th id=\"T_a4a64eda_865f_11ea_9b8c_f45c89b618dflevel0_row29\" class=\"row_heading level0 row29\" >New Hampshire</th>\n",
       "                        <td id=\"T_a4a64eda_865f_11ea_9b8c_f45c89b618dfrow29_col0\" class=\"data row29 col0\" >11.10</td>\n",
       "                        <td id=\"T_a4a64eda_865f_11ea_9b8c_f45c89b618dfrow29_col1\" class=\"data row29 col1\" >13.16</td>\n",
       "                        <td id=\"T_a4a64eda_865f_11ea_9b8c_f45c89b618dfrow29_col2\" class=\"data row29 col2\" >19.86</td>\n",
       "                        <td id=\"T_a4a64eda_865f_11ea_9b8c_f45c89b618dfrow29_col3\" class=\"data row29 col3\" >21.32</td>\n",
       "                        <td id=\"T_a4a64eda_865f_11ea_9b8c_f45c89b618dfrow29_col4\" class=\"data row29 col4\" >20.97</td>\n",
       "                        <td id=\"T_a4a64eda_865f_11ea_9b8c_f45c89b618dfrow29_col5\" class=\"data row29 col5\" >20.98</td>\n",
       "            </tr>\n",
       "            <tr>\n",
       "                        <th id=\"T_a4a64eda_865f_11ea_9b8c_f45c89b618dflevel0_row30\" class=\"row_heading level0 row30\" >New Jersey</th>\n",
       "                        <td id=\"T_a4a64eda_865f_11ea_9b8c_f45c89b618dfrow30_col0\" class=\"data row30 col0\" >9.94</td>\n",
       "                        <td id=\"T_a4a64eda_865f_11ea_9b8c_f45c89b618dfrow30_col1\" class=\"data row30 col1\" >11.92</td>\n",
       "                        <td id=\"T_a4a64eda_865f_11ea_9b8c_f45c89b618dfrow30_col2\" class=\"data row30 col2\" >21.15</td>\n",
       "                        <td id=\"T_a4a64eda_865f_11ea_9b8c_f45c89b618dfrow30_col3\" class=\"data row30 col3\" >22.30</td>\n",
       "                        <td id=\"T_a4a64eda_865f_11ea_9b8c_f45c89b618dfrow30_col4\" class=\"data row30 col4\" >24.61</td>\n",
       "                        <td id=\"T_a4a64eda_865f_11ea_9b8c_f45c89b618dfrow30_col5\" class=\"data row30 col5\" >20.65</td>\n",
       "            </tr>\n",
       "            <tr>\n",
       "                        <th id=\"T_a4a64eda_865f_11ea_9b8c_f45c89b618dflevel0_row31\" class=\"row_heading level0 row31\" >New Mexico</th>\n",
       "                        <td id=\"T_a4a64eda_865f_11ea_9b8c_f45c89b618dfrow31_col0\" class=\"data row31 col0\" >5.55</td>\n",
       "                        <td id=\"T_a4a64eda_865f_11ea_9b8c_f45c89b618dfrow31_col1\" class=\"data row31 col1\" >11.65</td>\n",
       "                        <td id=\"T_a4a64eda_865f_11ea_9b8c_f45c89b618dfrow31_col2\" class=\"data row31 col2\" >17.02</td>\n",
       "                        <td id=\"T_a4a64eda_865f_11ea_9b8c_f45c89b618dfrow31_col3\" class=\"data row31 col3\" >20.04</td>\n",
       "                        <td id=\"T_a4a64eda_865f_11ea_9b8c_f45c89b618dfrow31_col4\" class=\"data row31 col4\" >18.92</td>\n",
       "                        <td id=\"T_a4a64eda_865f_11ea_9b8c_f45c89b618dfrow31_col5\" class=\"data row31 col5\" >21.80</td>\n",
       "            </tr>\n",
       "            <tr>\n",
       "                        <th id=\"T_a4a64eda_865f_11ea_9b8c_f45c89b618dflevel0_row32\" class=\"row_heading level0 row32\" >New York</th>\n",
       "                        <td id=\"T_a4a64eda_865f_11ea_9b8c_f45c89b618dfrow32_col0\" class=\"data row32 col0\" >5.61</td>\n",
       "                        <td id=\"T_a4a64eda_865f_11ea_9b8c_f45c89b618dfrow32_col1\" class=\"data row32 col1\" >13.59</td>\n",
       "                        <td id=\"T_a4a64eda_865f_11ea_9b8c_f45c89b618dfrow32_col2\" class=\"data row32 col2\" >19.15</td>\n",
       "                        <td id=\"T_a4a64eda_865f_11ea_9b8c_f45c89b618dfrow32_col3\" class=\"data row32 col3\" >20.44</td>\n",
       "                        <td id=\"T_a4a64eda_865f_11ea_9b8c_f45c89b618dfrow32_col4\" class=\"data row32 col4\" >20.33</td>\n",
       "                        <td id=\"T_a4a64eda_865f_11ea_9b8c_f45c89b618dfrow32_col5\" class=\"data row32 col5\" >19.61</td>\n",
       "            </tr>\n",
       "            <tr>\n",
       "                        <th id=\"T_a4a64eda_865f_11ea_9b8c_f45c89b618dflevel0_row33\" class=\"row_heading level0 row33\" >North Carolina</th>\n",
       "                        <td id=\"T_a4a64eda_865f_11ea_9b8c_f45c89b618dfrow33_col0\" class=\"data row33 col0\" >8.79</td>\n",
       "                        <td id=\"T_a4a64eda_865f_11ea_9b8c_f45c89b618dfrow33_col1\" class=\"data row33 col1\" >11.05</td>\n",
       "                        <td id=\"T_a4a64eda_865f_11ea_9b8c_f45c89b618dfrow33_col2\" class=\"data row33 col2\" >15.78</td>\n",
       "                        <td id=\"T_a4a64eda_865f_11ea_9b8c_f45c89b618dfrow33_col3\" class=\"data row33 col3\" >18.25</td>\n",
       "                        <td id=\"T_a4a64eda_865f_11ea_9b8c_f45c89b618dfrow33_col4\" class=\"data row33 col4\" >18.98</td>\n",
       "                        <td id=\"T_a4a64eda_865f_11ea_9b8c_f45c89b618dfrow33_col5\" class=\"data row33 col5\" >19.67</td>\n",
       "            </tr>\n",
       "            <tr>\n",
       "                        <th id=\"T_a4a64eda_865f_11ea_9b8c_f45c89b618dflevel0_row34\" class=\"row_heading level0 row34\" >North Dakota</th>\n",
       "                        <td id=\"T_a4a64eda_865f_11ea_9b8c_f45c89b618dfrow34_col0\" class=\"data row34 col0\" >5.97</td>\n",
       "                        <td id=\"T_a4a64eda_865f_11ea_9b8c_f45c89b618dfrow34_col1\" class=\"data row34 col1\" >12.10</td>\n",
       "                        <td id=\"T_a4a64eda_865f_11ea_9b8c_f45c89b618dfrow34_col2\" class=\"data row34 col2\" >16.24</td>\n",
       "                        <td id=\"T_a4a64eda_865f_11ea_9b8c_f45c89b618dfrow34_col3\" class=\"data row34 col3\" >18.08</td>\n",
       "                        <td id=\"T_a4a64eda_865f_11ea_9b8c_f45c89b618dfrow34_col4\" class=\"data row34 col4\" >16.48</td>\n",
       "                        <td id=\"T_a4a64eda_865f_11ea_9b8c_f45c89b618dfrow34_col5\" class=\"data row34 col5\" >15.84</td>\n",
       "            </tr>\n",
       "            <tr>\n",
       "                        <th id=\"T_a4a64eda_865f_11ea_9b8c_f45c89b618dflevel0_row35\" class=\"row_heading level0 row35\" >Ohio</th>\n",
       "                        <td id=\"T_a4a64eda_865f_11ea_9b8c_f45c89b618dfrow35_col0\" class=\"data row35 col0\" >6.62</td>\n",
       "                        <td id=\"T_a4a64eda_865f_11ea_9b8c_f45c89b618dfrow35_col1\" class=\"data row35 col1\" >10.69</td>\n",
       "                        <td id=\"T_a4a64eda_865f_11ea_9b8c_f45c89b618dfrow35_col2\" class=\"data row35 col2\" >16.13</td>\n",
       "                        <td id=\"T_a4a64eda_865f_11ea_9b8c_f45c89b618dfrow35_col3\" class=\"data row35 col3\" >17.51</td>\n",
       "                        <td id=\"T_a4a64eda_865f_11ea_9b8c_f45c89b618dfrow35_col4\" class=\"data row35 col4\" >18.71</td>\n",
       "                        <td id=\"T_a4a64eda_865f_11ea_9b8c_f45c89b618dfrow35_col5\" class=\"data row35 col5\" >20.02</td>\n",
       "            </tr>\n",
       "            <tr>\n",
       "                        <th id=\"T_a4a64eda_865f_11ea_9b8c_f45c89b618dflevel0_row36\" class=\"row_heading level0 row36\" >Oklahoma</th>\n",
       "                        <td id=\"T_a4a64eda_865f_11ea_9b8c_f45c89b618dfrow36_col0\" class=\"data row36 col0\" >6.01</td>\n",
       "                        <td id=\"T_a4a64eda_865f_11ea_9b8c_f45c89b618dfrow36_col1\" class=\"data row36 col1\" >10.48</td>\n",
       "                        <td id=\"T_a4a64eda_865f_11ea_9b8c_f45c89b618dfrow36_col2\" class=\"data row36 col2\" >15.60</td>\n",
       "                        <td id=\"T_a4a64eda_865f_11ea_9b8c_f45c89b618dfrow36_col3\" class=\"data row36 col3\" >17.61</td>\n",
       "                        <td id=\"T_a4a64eda_865f_11ea_9b8c_f45c89b618dfrow36_col4\" class=\"data row36 col4\" >18.26</td>\n",
       "                        <td id=\"T_a4a64eda_865f_11ea_9b8c_f45c89b618dfrow36_col5\" class=\"data row36 col5\" >20.10</td>\n",
       "            </tr>\n",
       "            <tr>\n",
       "                        <th id=\"T_a4a64eda_865f_11ea_9b8c_f45c89b618dflevel0_row37\" class=\"row_heading level0 row37\" >Oregon</th>\n",
       "                        <td id=\"T_a4a64eda_865f_11ea_9b8c_f45c89b618dfrow37_col0\" class=\"data row37 col0\" >3.68</td>\n",
       "                        <td id=\"T_a4a64eda_865f_11ea_9b8c_f45c89b618dfrow37_col1\" class=\"data row37 col1\" >11.71</td>\n",
       "                        <td id=\"T_a4a64eda_865f_11ea_9b8c_f45c89b618dfrow37_col2\" class=\"data row37 col2\" >16.97</td>\n",
       "                        <td id=\"T_a4a64eda_865f_11ea_9b8c_f45c89b618dfrow37_col3\" class=\"data row37 col3\" >20.36</td>\n",
       "                        <td id=\"T_a4a64eda_865f_11ea_9b8c_f45c89b618dfrow37_col4\" class=\"data row37 col4\" >19.33</td>\n",
       "                        <td id=\"T_a4a64eda_865f_11ea_9b8c_f45c89b618dfrow37_col5\" class=\"data row37 col5\" >19.26</td>\n",
       "            </tr>\n",
       "            <tr>\n",
       "                        <th id=\"T_a4a64eda_865f_11ea_9b8c_f45c89b618dflevel0_row38\" class=\"row_heading level0 row38\" >Pennsylvania</th>\n",
       "                        <td id=\"T_a4a64eda_865f_11ea_9b8c_f45c89b618dfrow38_col0\" class=\"data row38 col0\" >9.18</td>\n",
       "                        <td id=\"T_a4a64eda_865f_11ea_9b8c_f45c89b618dfrow38_col1\" class=\"data row38 col1\" >12.15</td>\n",
       "                        <td id=\"T_a4a64eda_865f_11ea_9b8c_f45c89b618dfrow38_col2\" class=\"data row38 col2\" >18.20</td>\n",
       "                        <td id=\"T_a4a64eda_865f_11ea_9b8c_f45c89b618dfrow38_col3\" class=\"data row38 col3\" >20.17</td>\n",
       "                        <td id=\"T_a4a64eda_865f_11ea_9b8c_f45c89b618dfrow38_col4\" class=\"data row38 col4\" >19.02</td>\n",
       "                        <td id=\"T_a4a64eda_865f_11ea_9b8c_f45c89b618dfrow38_col5\" class=\"data row38 col5\" >17.21</td>\n",
       "            </tr>\n",
       "            <tr>\n",
       "                        <th id=\"T_a4a64eda_865f_11ea_9b8c_f45c89b618dflevel0_row39\" class=\"row_heading level0 row39\" >Rhode Island</th>\n",
       "                        <td id=\"T_a4a64eda_865f_11ea_9b8c_f45c89b618dfrow39_col0\" class=\"data row39 col0\" >8.44</td>\n",
       "                        <td id=\"T_a4a64eda_865f_11ea_9b8c_f45c89b618dfrow39_col1\" class=\"data row39 col1\" >11.95</td>\n",
       "                        <td id=\"T_a4a64eda_865f_11ea_9b8c_f45c89b618dfrow39_col2\" class=\"data row39 col2\" >18.00</td>\n",
       "                        <td id=\"T_a4a64eda_865f_11ea_9b8c_f45c89b618dfrow39_col3\" class=\"data row39 col3\" >21.30</td>\n",
       "                        <td id=\"T_a4a64eda_865f_11ea_9b8c_f45c89b618dfrow39_col4\" class=\"data row39 col4\" >22.12</td>\n",
       "                        <td id=\"T_a4a64eda_865f_11ea_9b8c_f45c89b618dfrow39_col5\" class=\"data row39 col5\" >21.16</td>\n",
       "            </tr>\n",
       "            <tr>\n",
       "                        <th id=\"T_a4a64eda_865f_11ea_9b8c_f45c89b618dflevel0_row40\" class=\"row_heading level0 row40\" >South Carolina</th>\n",
       "                        <td id=\"T_a4a64eda_865f_11ea_9b8c_f45c89b618dfrow40_col0\" class=\"data row40 col0\" >5.13</td>\n",
       "                        <td id=\"T_a4a64eda_865f_11ea_9b8c_f45c89b618dfrow40_col1\" class=\"data row40 col1\" >10.26</td>\n",
       "                        <td id=\"T_a4a64eda_865f_11ea_9b8c_f45c89b618dfrow40_col2\" class=\"data row40 col2\" >13.65</td>\n",
       "                        <td id=\"T_a4a64eda_865f_11ea_9b8c_f45c89b618dfrow40_col3\" class=\"data row40 col3\" >15.08</td>\n",
       "                        <td id=\"T_a4a64eda_865f_11ea_9b8c_f45c89b618dfrow40_col4\" class=\"data row40 col4\" >16.27</td>\n",
       "                        <td id=\"T_a4a64eda_865f_11ea_9b8c_f45c89b618dfrow40_col5\" class=\"data row40 col5\" >15.83</td>\n",
       "            </tr>\n",
       "            <tr>\n",
       "                        <th id=\"T_a4a64eda_865f_11ea_9b8c_f45c89b618dflevel0_row41\" class=\"row_heading level0 row41\" >South Dakota</th>\n",
       "                        <td id=\"T_a4a64eda_865f_11ea_9b8c_f45c89b618dfrow41_col0\" class=\"data row41 col0\" >5.79</td>\n",
       "                        <td id=\"T_a4a64eda_865f_11ea_9b8c_f45c89b618dfrow41_col1\" class=\"data row41 col1\" >10.50</td>\n",
       "                        <td id=\"T_a4a64eda_865f_11ea_9b8c_f45c89b618dfrow41_col2\" class=\"data row41 col2\" >14.67</td>\n",
       "                        <td id=\"T_a4a64eda_865f_11ea_9b8c_f45c89b618dfrow41_col3\" class=\"data row41 col3\" >15.86</td>\n",
       "                        <td id=\"T_a4a64eda_865f_11ea_9b8c_f45c89b618dfrow41_col4\" class=\"data row41 col4\" >15.95</td>\n",
       "                        <td id=\"T_a4a64eda_865f_11ea_9b8c_f45c89b618dfrow41_col5\" class=\"data row41 col5\" >14.90</td>\n",
       "            </tr>\n",
       "            <tr>\n",
       "                        <th id=\"T_a4a64eda_865f_11ea_9b8c_f45c89b618dflevel0_row42\" class=\"row_heading level0 row42\" >Tennessee</th>\n",
       "                        <td id=\"T_a4a64eda_865f_11ea_9b8c_f45c89b618dfrow42_col0\" class=\"data row42 col0\" >5.56</td>\n",
       "                        <td id=\"T_a4a64eda_865f_11ea_9b8c_f45c89b618dfrow42_col1\" class=\"data row42 col1\" >10.81</td>\n",
       "                        <td id=\"T_a4a64eda_865f_11ea_9b8c_f45c89b618dfrow42_col2\" class=\"data row42 col2\" >16.12</td>\n",
       "                        <td id=\"T_a4a64eda_865f_11ea_9b8c_f45c89b618dfrow42_col3\" class=\"data row42 col3\" >16.54</td>\n",
       "                        <td id=\"T_a4a64eda_865f_11ea_9b8c_f45c89b618dfrow42_col4\" class=\"data row42 col4\" >15.54</td>\n",
       "                        <td id=\"T_a4a64eda_865f_11ea_9b8c_f45c89b618dfrow42_col5\" class=\"data row42 col5\" >17.97</td>\n",
       "            </tr>\n",
       "            <tr>\n",
       "                        <th id=\"T_a4a64eda_865f_11ea_9b8c_f45c89b618dflevel0_row43\" class=\"row_heading level0 row43\" >Texas</th>\n",
       "                        <td id=\"T_a4a64eda_865f_11ea_9b8c_f45c89b618dfrow43_col0\" class=\"data row43 col0\" >7.01</td>\n",
       "                        <td id=\"T_a4a64eda_865f_11ea_9b8c_f45c89b618dfrow43_col1\" class=\"data row43 col1\" >11.94</td>\n",
       "                        <td id=\"T_a4a64eda_865f_11ea_9b8c_f45c89b618dfrow43_col2\" class=\"data row43 col2\" >16.40</td>\n",
       "                        <td id=\"T_a4a64eda_865f_11ea_9b8c_f45c89b618dfrow43_col3\" class=\"data row43 col3\" >17.03</td>\n",
       "                        <td id=\"T_a4a64eda_865f_11ea_9b8c_f45c89b618dfrow43_col4\" class=\"data row43 col4\" >17.52</td>\n",
       "                        <td id=\"T_a4a64eda_865f_11ea_9b8c_f45c89b618dfrow43_col5\" class=\"data row43 col5\" >18.42</td>\n",
       "            </tr>\n",
       "            <tr>\n",
       "                        <th id=\"T_a4a64eda_865f_11ea_9b8c_f45c89b618dflevel0_row44\" class=\"row_heading level0 row44\" >Utah</th>\n",
       "                        <td id=\"T_a4a64eda_865f_11ea_9b8c_f45c89b618dfrow44_col0\" class=\"data row44 col0\" >10.37</td>\n",
       "                        <td id=\"T_a4a64eda_865f_11ea_9b8c_f45c89b618dfrow44_col1\" class=\"data row44 col1\" >12.20</td>\n",
       "                        <td id=\"T_a4a64eda_865f_11ea_9b8c_f45c89b618dfrow44_col2\" class=\"data row44 col2\" >16.88</td>\n",
       "                        <td id=\"T_a4a64eda_865f_11ea_9b8c_f45c89b618dfrow44_col3\" class=\"data row44 col3\" >19.62</td>\n",
       "                        <td id=\"T_a4a64eda_865f_11ea_9b8c_f45c89b618dfrow44_col4\" class=\"data row44 col4\" >19.66</td>\n",
       "                        <td id=\"T_a4a64eda_865f_11ea_9b8c_f45c89b618dfrow44_col5\" class=\"data row44 col5\" >21.04</td>\n",
       "            </tr>\n",
       "            <tr>\n",
       "                        <th id=\"T_a4a64eda_865f_11ea_9b8c_f45c89b618dflevel0_row45\" class=\"row_heading level0 row45\" >Vermont</th>\n",
       "                        <td id=\"T_a4a64eda_865f_11ea_9b8c_f45c89b618dfrow45_col0\" class=\"data row45 col0\" >6.25</td>\n",
       "                        <td id=\"T_a4a64eda_865f_11ea_9b8c_f45c89b618dfrow45_col1\" class=\"data row45 col1\" >12.30</td>\n",
       "                        <td id=\"T_a4a64eda_865f_11ea_9b8c_f45c89b618dfrow45_col2\" class=\"data row45 col2\" >16.13</td>\n",
       "                        <td id=\"T_a4a64eda_865f_11ea_9b8c_f45c89b618dfrow45_col3\" class=\"data row45 col3\" >17.46</td>\n",
       "                        <td id=\"T_a4a64eda_865f_11ea_9b8c_f45c89b618dfrow45_col4\" class=\"data row45 col4\" >18.12</td>\n",
       "                        <td id=\"T_a4a64eda_865f_11ea_9b8c_f45c89b618dfrow45_col5\" class=\"data row45 col5\" >20.10</td>\n",
       "            </tr>\n",
       "            <tr>\n",
       "                        <th id=\"T_a4a64eda_865f_11ea_9b8c_f45c89b618dflevel0_row46\" class=\"row_heading level0 row46\" >Virginia</th>\n",
       "                        <td id=\"T_a4a64eda_865f_11ea_9b8c_f45c89b618dfrow46_col0\" class=\"data row46 col0\" >6.84</td>\n",
       "                        <td id=\"T_a4a64eda_865f_11ea_9b8c_f45c89b618dfrow46_col1\" class=\"data row46 col1\" >13.43</td>\n",
       "                        <td id=\"T_a4a64eda_865f_11ea_9b8c_f45c89b618dfrow46_col2\" class=\"data row46 col2\" >19.38</td>\n",
       "                        <td id=\"T_a4a64eda_865f_11ea_9b8c_f45c89b618dfrow46_col3\" class=\"data row46 col3\" >22.01</td>\n",
       "                        <td id=\"T_a4a64eda_865f_11ea_9b8c_f45c89b618dfrow46_col4\" class=\"data row46 col4\" >23.26</td>\n",
       "                        <td id=\"T_a4a64eda_865f_11ea_9b8c_f45c89b618dfrow46_col5\" class=\"data row46 col5\" >20.52</td>\n",
       "            </tr>\n",
       "            <tr>\n",
       "                        <th id=\"T_a4a64eda_865f_11ea_9b8c_f45c89b618dflevel0_row47\" class=\"row_heading level0 row47\" >Washington</th>\n",
       "                        <td id=\"T_a4a64eda_865f_11ea_9b8c_f45c89b618dfrow47_col0\" class=\"data row47 col0\" >4.59</td>\n",
       "                        <td id=\"T_a4a64eda_865f_11ea_9b8c_f45c89b618dfrow47_col1\" class=\"data row47 col1\" >12.90</td>\n",
       "                        <td id=\"T_a4a64eda_865f_11ea_9b8c_f45c89b618dfrow47_col2\" class=\"data row47 col2\" >19.05</td>\n",
       "                        <td id=\"T_a4a64eda_865f_11ea_9b8c_f45c89b618dfrow47_col3\" class=\"data row47 col3\" >19.86</td>\n",
       "                        <td id=\"T_a4a64eda_865f_11ea_9b8c_f45c89b618dfrow47_col4\" class=\"data row47 col4\" >20.92</td>\n",
       "                        <td id=\"T_a4a64eda_865f_11ea_9b8c_f45c89b618dfrow47_col5\" class=\"data row47 col5\" >20.39</td>\n",
       "            </tr>\n",
       "            <tr>\n",
       "                        <th id=\"T_a4a64eda_865f_11ea_9b8c_f45c89b618dflevel0_row48\" class=\"row_heading level0 row48\" >West Virginia</th>\n",
       "                        <td id=\"T_a4a64eda_865f_11ea_9b8c_f45c89b618dfrow48_col0\" class=\"data row48 col0\" >9.79</td>\n",
       "                        <td id=\"T_a4a64eda_865f_11ea_9b8c_f45c89b618dfrow48_col1\" class=\"data row48 col1\" >11.39</td>\n",
       "                        <td id=\"T_a4a64eda_865f_11ea_9b8c_f45c89b618dfrow48_col2\" class=\"data row48 col2\" >15.25</td>\n",
       "                        <td id=\"T_a4a64eda_865f_11ea_9b8c_f45c89b618dfrow48_col3\" class=\"data row48 col3\" >16.78</td>\n",
       "                        <td id=\"T_a4a64eda_865f_11ea_9b8c_f45c89b618dfrow48_col4\" class=\"data row48 col4\" >16.33</td>\n",
       "                        <td id=\"T_a4a64eda_865f_11ea_9b8c_f45c89b618dfrow48_col5\" class=\"data row48 col5\" >18.91</td>\n",
       "            </tr>\n",
       "            <tr>\n",
       "                        <th id=\"T_a4a64eda_865f_11ea_9b8c_f45c89b618dflevel0_row49\" class=\"row_heading level0 row49\" >Wisconsin</th>\n",
       "                        <td id=\"T_a4a64eda_865f_11ea_9b8c_f45c89b618dfrow49_col0\" class=\"data row49 col0\" >6.85</td>\n",
       "                        <td id=\"T_a4a64eda_865f_11ea_9b8c_f45c89b618dfrow49_col1\" class=\"data row49 col1\" >11.22</td>\n",
       "                        <td id=\"T_a4a64eda_865f_11ea_9b8c_f45c89b618dfrow49_col2\" class=\"data row49 col2\" >16.49</td>\n",
       "                        <td id=\"T_a4a64eda_865f_11ea_9b8c_f45c89b618dfrow49_col3\" class=\"data row49 col3\" >18.52</td>\n",
       "                        <td id=\"T_a4a64eda_865f_11ea_9b8c_f45c89b618dfrow49_col4\" class=\"data row49 col4\" >19.55</td>\n",
       "                        <td id=\"T_a4a64eda_865f_11ea_9b8c_f45c89b618dfrow49_col5\" class=\"data row49 col5\" >17.29</td>\n",
       "            </tr>\n",
       "            <tr>\n",
       "                        <th id=\"T_a4a64eda_865f_11ea_9b8c_f45c89b618dflevel0_row50\" class=\"row_heading level0 row50\" >Wyoming</th>\n",
       "                        <td id=\"T_a4a64eda_865f_11ea_9b8c_f45c89b618dfrow50_col0\" class=\"data row50 col0\" >6.95</td>\n",
       "                        <td id=\"T_a4a64eda_865f_11ea_9b8c_f45c89b618dfrow50_col1\" class=\"data row50 col1\" >13.13</td>\n",
       "                        <td id=\"T_a4a64eda_865f_11ea_9b8c_f45c89b618dfrow50_col2\" class=\"data row50 col2\" >18.28</td>\n",
       "                        <td id=\"T_a4a64eda_865f_11ea_9b8c_f45c89b618dfrow50_col3\" class=\"data row50 col3\" >18.06</td>\n",
       "                        <td id=\"T_a4a64eda_865f_11ea_9b8c_f45c89b618dfrow50_col4\" class=\"data row50 col4\" >18.04</td>\n",
       "                        <td id=\"T_a4a64eda_865f_11ea_9b8c_f45c89b618dfrow50_col5\" class=\"data row50 col5\" >15.44</td>\n",
       "            </tr>\n",
       "    </tbody></table>"
      ],
      "text/plain": [
       "<pandas.io.formats.style.Styler at 0x10aef2d50>"
      ]
     },
     "execution_count": 7,
     "metadata": {},
     "output_type": "execute_result"
    }
   ],
   "source": [
    "tibo_question1(data)"
   ]
  },
  {
   "cell_type": "code",
   "execution_count": 7,
   "metadata": {},
   "outputs": [
    {
     "name": "stdout",
     "output_type": "stream",
     "text": [
      "                            OLS Regression Results                            \n",
      "==============================================================================\n",
      "Dep. Variable:                 lnwage   R-squared:                       0.000\n",
      "Model:                            OLS   Adj. R-squared:                  0.000\n",
      "Method:                 Least Squares   F-statistic:                     11.53\n",
      "Date:                Thu, 30 Apr 2020   Prob (F-statistic):           0.000687\n",
      "Time:                        13:24:13   Log-Likelihood:                -62336.\n",
      "No. Observations:               65685   AIC:                         1.247e+05\n",
      "Df Residuals:                   65683   BIC:                         1.247e+05\n",
      "Df Model:                           1                                         \n",
      "Covariance Type:            nonrobust                                         \n",
      "==============================================================================\n",
      "                 coef    std err          t      P>|t|      [0.025      0.975]\n",
      "------------------------------------------------------------------------------\n",
      "Intercept      2.6687      0.003    836.168      0.000       2.662       2.675\n",
      "fp[T.True]     0.0168      0.005      3.395      0.001       0.007       0.026\n",
      "==============================================================================\n",
      "Omnibus:                        5.904   Durbin-Watson:                   1.582\n",
      "Prob(Omnibus):                  0.052   Jarque-Bera (JB):                5.915\n",
      "Skew:                           0.023   Prob(JB):                       0.0519\n",
      "Kurtosis:                       2.992   Cond. No.                         2.47\n",
      "==============================================================================\n",
      "\n",
      "Warnings:\n",
      "[1] Standard Errors assume that the covariance matrix of the errors is correctly specified.\n"
     ]
    }
   ],
   "source": [
    "# First Regression\n",
    "import statsmodels.api as sm\n",
    "import statsmodels.formula.api as smf\n",
    "import matplotlib.pyplot as plt\n",
    "\n",
    "results = smf.ols('lnwage ~ fp', data=data).fit()\n",
    "print(results.summary())"
   ]
  },
  {
   "cell_type": "code",
   "execution_count": 8,
   "metadata": {},
   "outputs": [
    {
     "data": {
      "text/plain": [
       "3.3949698497460123"
      ]
     },
     "execution_count": 8,
     "metadata": {},
     "output_type": "execute_result"
    }
   ],
   "source": [
    "results.tvalues[1]"
   ]
  },
  {
   "cell_type": "markdown",
   "metadata": {},
   "source": [
    "Question 2: <br>\n",
    "Follow the steps and report how often we would consider the coefficient on fp significant at 5%. You should find something close to 5% and you should feel better about the theory! <br>\n",
    "1) compute the variance of lnwage in the sample. This is an estimate of our homoskedastic error. <br>\n",
    "2) simulate a fictitious outcome y2 simply equal to normal error with the estimated variance, and truly independent across individuals. Use .assign(y2 = ...) on the pandas dataFrame. <br>\n",
    "3) regress this outcome y2 on fp, our fictitious policy and collect the coefficient, also save if the coefficient is significant at 5%.<br>\n",
    "4) run steps (2,3) 500 times."
   ]
  },
  {
   "cell_type": "code",
   "execution_count": 19,
   "metadata": {},
   "outputs": [],
   "source": [
    "# IID Errors\n",
    "def tibo_question2(data):\n",
    "    lnwage_var = data[\"lnwage\"].var()\n",
    "    tstats = []\n",
    "    for iter in range(0, 500):\n",
    "        data = data.assign(y2 = np.random.normal(0, np.sqrt(lnwage_var), len(data.index)))\n",
    "        results = smf.ols('y2 ~ fp', data=data).fit()\n",
    "        tstats.append(results.tvalues[1])\n",
    "    return tstats"
   ]
  },
  {
   "cell_type": "code",
   "execution_count": 20,
   "metadata": {
    "scrolled": true
   },
   "outputs": [
    {
     "data": {
      "text/plain": [
       "<matplotlib.lines.Line2D at 0x1202c2990>"
      ]
     },
     "execution_count": 20,
     "metadata": {},
     "output_type": "execute_result"
    },
    {
     "data": {
      "image/png": "[encoded data removed]",
      "text/plain": [
       "<Figure size 432x288 with 1 Axes>"
      ]
     },
     "metadata": {
      "needs_background": "light"
     },
     "output_type": "display_data"
    }
   ],
   "source": [
    "tstats = tibo_question2(data)\n",
    "plt.hist(tstats)\n",
    "plt.axvline(1.96,color='red',linestyle=\":\")\n",
    "plt.axvline(-1.96,color='red',linestyle=\":\")"
   ]
  },
  {
   "cell_type": "code",
   "execution_count": 21,
   "metadata": {},
   "outputs": [
    {
     "data": {
      "text/plain": [
       "0.048"
      ]
     },
     "execution_count": 21,
     "metadata": {},
     "output_type": "execute_result"
    }
   ],
   "source": [
    "# I check that the distribution is outside of the 0.025 to 0.0975 quantiles \n",
    "# of the normal with probability close to 0.05\n",
    "(np.abs(tstats)>1.96).mean()"
   ]
  },
  {
   "cell_type": "markdown",
   "metadata": {},
   "source": [
    "Question 3: <br>\n",
    "We go back and we do the same exercise, only this time we redraw the policy in each replciations and regress the wages on it, and collect the t-stats. We then plot the histogram of the t-stats and compute the probability of rejecting the null that the coefficient on the policy is 0. <br>\n",
    "Replicate 500 times the very first regression to recreate an histogram of t-stats similar to the following one. Compute the probability to reject the null of effect and comment on its value given the way you simulated the data (2 sentences max)."
   ]
  },
  {
   "cell_type": "code",
   "execution_count": 24,
   "metadata": {},
   "outputs": [],
   "source": [
    "def tibo_question3(data):\n",
    "    tstats = []\n",
    "    for iter in range(0, 500):\n",
    "        fpol = { k:np.random.uniform() > 0.5 for k in np.unique(data['statefip']) }\n",
    "        data = data.assign(fp = data['statefip'].map(fpol))\n",
    "        results = smf.ols('lnwage ~ fp', data=data).fit()\n",
    "        tstats.append(results.tvalues[1])\n",
    "    return tstats"
   ]
  },
  {
   "cell_type": "code",
   "execution_count": 25,
   "metadata": {},
   "outputs": [
    {
     "data": {
      "text/plain": [
       "<matplotlib.lines.Line2D at 0x120b5ded0>"
      ]
     },
     "execution_count": 25,
     "metadata": {},
     "output_type": "execute_result"
    },
    {
     "data": {
      "image/png": "[encoded data removed]",
      "text/plain": [
       "<Figure size 432x288 with 1 Axes>"
      ]
     },
     "metadata": {
      "needs_background": "light"
     },
     "output_type": "display_data"
    }
   ],
   "source": [
    "tstats = tibo_question3(data)\n",
    "plt.hist(tstats)\n",
    "plt.axvline(1.96,color='red',linestyle=\":\")\n",
    "plt.axvline(-1.96,color='red',linestyle=\":\")"
   ]
  },
  {
   "cell_type": "code",
   "execution_count": 27,
   "metadata": {},
   "outputs": [
    {
     "data": {
      "text/plain": [
       "0.726"
      ]
     },
     "execution_count": 27,
     "metadata": {},
     "output_type": "execute_result"
    }
   ],
   "source": [
    "(np.abs(tstats)>1.96).mean()"
   ]
  },
  {
   "cell_type": "markdown",
   "metadata": {},
   "source": [
    "Thus, in about 73% of cases we reject the null that the policy has no significant effect on log(wages). When we use the wage data, the observations are not iid (as in Q2 above). This is why the t-statistic is significant much more than in Q2. Because people from the same state likely have correlated wages, we should instead turn to clustering."
   ]
  },
  {
   "cell_type": "markdown",
   "metadata": {},
   "source": [
    "## Heteroskedastic errors\n",
    "\n",
    "Now we want to simulate heteroskedastic robust standard errors which requires us to use some co-variates. We then want to repeat the previous procedure, but we are going to use a different code for simulation and a new test for the significance. `statsmodels` can do that for you using the `cov_type` argument of the `fit` method.\n",
    "\n",
    "We want to check this by simulating from a model with heteroskedesatic errors. To do so we are going to use linear model for the variance:\n",
    "\n",
    "$$ y_{i} = 0 + s(x_i) \\cdot \\epsilon_i$$\n",
    "\n",
    "We are going to use a linear specification for both $m(x_i)$ and $s^2(x_i)$. \n",
    "\n",
    " 1. run the following regression `lnwage ~ yrseduc + age + age^2` to bet the $m(x_i) = x_i' \\beta$ where the $x_i$ are education, age and age squared. \n",
    " 2. extract the residuals $\\hat{u}_i$ from the previous regression. Then regress $\\hat{u}^2_i$ on `yrseduc + age + age^2`, to get the $s^2(x_i) = x_i' \\gamma$ model.\n",
    " 2. using $m(x_i) = x_i' \\beta$ and $s^2(x_i) = x_i' \\gamma$, construct $ y_{i} = 0 + s(x_i) \\cdot \\epsilon_i$ where $\\epsilon_i$ is drawn iid Normal(0,1).\n",
    " 5. replicate this 500 times, evaluate the significance of `fp` using heteroskedastic roduct inference by calling `.fit(cov_type='HC0')`, also save without using the robust errors.\n",
    "\n",
    "Question 4:<br>\n",
    "Follow the steps and report the distributions of t-stats, as well as the rejection rates for each of the two variance specifications."
   ]
  },
  {
   "cell_type": "code",
   "execution_count": 9,
   "metadata": {},
   "outputs": [],
   "source": [
    "## T-statistics\n",
    "from tqdm import tqdm\n",
    "\n",
    "def tibo_question4(data):\n",
    "    start = time.time()\n",
    "    tstats, tstats_robust = [], []\n",
    "    for iter in tqdm(range(0, 500)):\n",
    "        reg = smf.ols('lnwage ~ yrseduc + age + age2', data=data).fit()\n",
    "        data = data.assign(resid2 = reg.resid**2) \n",
    "        reg2 = smf.ols('resid2 ~ yrseduc + age + age2',data=data).fit()\n",
    "        #data = data.assign(y2 = reg.fittedvalues + (reg2.fittedvalues**0.5)*np.random.normal(size=len(data))) \n",
    "        data = data.assign(y2 = (reg2.fittedvalues**0.5)*np.random.normal(size=len(data))) \n",
    "        results = smf.ols('y2 ~ fp', data=data).fit()\n",
    "        results_robust = smf.ols('y2 ~ fp', data=data).fit(cov_type='HC0')\n",
    "        tstats.append(results.tvalues[1])\n",
    "        tstats_robust.append(results_robust.tvalues[1])\n",
    "    end = time.time()\n",
    "    print(\"Time: \", round((end - start) / 60, 2), \"min\")\n",
    "    return tstats, tstats_robust"
   ]
  },
  {
   "cell_type": "code",
   "execution_count": 10,
   "metadata": {},
   "outputs": [
    {
     "name": "stderr",
     "output_type": "stream",
     "text": [
      "100%|██████████| 500/500 [12:53<00:00,  1.55s/it]  "
     ]
    },
    {
     "name": "stdout",
     "output_type": "stream",
     "text": [
      "Time:  12.9 min\n"
     ]
    },
    {
     "name": "stderr",
     "output_type": "stream",
     "text": [
      "\n"
     ]
    },
    {
     "data": {
      "text/plain": [
       "<matplotlib.lines.Line2D at 0x1a1fe4e050>"
      ]
     },
     "execution_count": 10,
     "metadata": {},
     "output_type": "execute_result"
    },
    {
     "data": {
      "image/png": "[encoded data removed]",
      "text/plain": [
       "<Figure size 432x288 with 1 Axes>"
      ]
     },
     "metadata": {
      "needs_background": "light"
     },
     "output_type": "display_data"
    }
   ],
   "source": [
    "#Rejection Rates -- non-robust tstats\n",
    "tstats, tstats_robust = tibo_question4(data)\n",
    "\n",
    "plt.hist(tstats)\n",
    "plt.title(\"Non-Robust T-stats\")\n",
    "\n",
    "plt.axvline(1.96,color='red',linestyle=\":\")\n",
    "plt.axvline(-1.96,color='red',linestyle=\":\")"
   ]
  },
  {
   "cell_type": "code",
   "execution_count": 11,
   "metadata": {},
   "outputs": [
    {
     "data": {
      "text/plain": [
       "<matplotlib.lines.Line2D at 0x11a4422d0>"
      ]
     },
     "execution_count": 11,
     "metadata": {},
     "output_type": "execute_result"
    },
    {
     "data": {
      "image/png": "[encoded data removed]",
      "text/plain": [
       "<Figure size 432x288 with 1 Axes>"
      ]
     },
     "metadata": {
      "needs_background": "light"
     },
     "output_type": "display_data"
    }
   ],
   "source": [
    "plt.hist(tstats_robust)\n",
    "plt.title(\"Robust T-stats\")\n",
    "\n",
    "plt.axvline(1.96,color='red',linestyle=\":\")\n",
    "plt.axvline(-1.96,color='red',linestyle=\":\")"
   ]
  },
  {
   "cell_type": "code",
   "execution_count": 12,
   "metadata": {},
   "outputs": [
    {
     "name": "stdout",
     "output_type": "stream",
     "text": [
      "Rejection Rate Regular T-stats:  0.052\n",
      "Rejection Rate Robust T-stats:  0.052\n"
     ]
    }
   ],
   "source": [
    "print(\"Rejection Rate Regular T-stats: \", (np.abs(tstats)>1.96).mean())\n",
    "print(\"Rejection Rate Robust T-stats: \", (np.abs(tstats_robust)>1.96).mean())"
   ]
  },
  {
   "cell_type": "markdown",
   "metadata": {},
   "source": [
    "## State clustered errors\n",
    "\n",
    "We are going to simulate correlated error within state. To do so we continue to draw independent error terms $u_i$ but we add to them a common draw at the state level. In practice you can do that by doing similar to drawing the `fp`. We then create the outcome as \n",
    "\n",
    "$$y_{ig} = (1-\\rho) u_i + \\rho v_g $$\n",
    "\n",
    "Here is a way of doing this: "
   ]
  },
  {
   "cell_type": "code",
   "execution_count": 115,
   "metadata": {},
   "outputs": [
    {
     "data": {
      "text/html": [
       "<div>\n",
       "<style scoped>\n",
       "    .dataframe tbody tr th:only-of-type {\n",
       "        vertical-align: middle;\n",
       "    }\n",
       "\n",
       "    .dataframe tbody tr th {\n",
       "        vertical-align: top;\n",
       "    }\n",
       "\n",
       "    .dataframe thead th {\n",
       "        text-align: right;\n",
       "    }\n",
       "</style>\n",
       "<table border=\"1\" class=\"dataframe\">\n",
       "  <thead>\n",
       "    <tr style=\"text-align: right;\">\n",
       "      <th></th>\n",
       "      <th>year</th>\n",
       "      <th>statefip</th>\n",
       "      <th>wtsupp</th>\n",
       "      <th>age</th>\n",
       "      <th>sex</th>\n",
       "      <th>yrseduc</th>\n",
       "      <th>wage_per_hour</th>\n",
       "      <th>lnwage</th>\n",
       "      <th>age2</th>\n",
       "      <th>fp</th>\n",
       "      <th>decile</th>\n",
       "      <th>u</th>\n",
       "      <th>v</th>\n",
       "    </tr>\n",
       "  </thead>\n",
       "  <tbody>\n",
       "    <tr>\n",
       "      <th>0</th>\n",
       "      <td>2012</td>\n",
       "      <td>Maine</td>\n",
       "      <td>569.43</td>\n",
       "      <td>44</td>\n",
       "      <td>Female</td>\n",
       "      <td>14.0</td>\n",
       "      <td>7.020000</td>\n",
       "      <td>1.948763</td>\n",
       "      <td>1936.0</td>\n",
       "      <td>True</td>\n",
       "      <td>50</td>\n",
       "      <td>0.314822</td>\n",
       "      <td>0.166238</td>\n",
       "    </tr>\n",
       "    <tr>\n",
       "      <th>1</th>\n",
       "      <td>2012</td>\n",
       "      <td>Maine</td>\n",
       "      <td>595.47</td>\n",
       "      <td>25</td>\n",
       "      <td>Male</td>\n",
       "      <td>16.0</td>\n",
       "      <td>2.117143</td>\n",
       "      <td>0.750067</td>\n",
       "      <td>625.0</td>\n",
       "      <td>True</td>\n",
       "      <td>30</td>\n",
       "      <td>1.375460</td>\n",
       "      <td>0.696557</td>\n",
       "    </tr>\n",
       "    <tr>\n",
       "      <th>2</th>\n",
       "      <td>2012</td>\n",
       "      <td>Maine</td>\n",
       "      <td>635.66</td>\n",
       "      <td>61</td>\n",
       "      <td>Female</td>\n",
       "      <td>16.0</td>\n",
       "      <td>16.672501</td>\n",
       "      <td>2.813761</td>\n",
       "      <td>3721.0</td>\n",
       "      <td>True</td>\n",
       "      <td>70</td>\n",
       "      <td>0.726437</td>\n",
       "      <td>0.372046</td>\n",
       "    </tr>\n",
       "    <tr>\n",
       "      <th>3</th>\n",
       "      <td>2012</td>\n",
       "      <td>Maine</td>\n",
       "      <td>635.66</td>\n",
       "      <td>62</td>\n",
       "      <td>Male</td>\n",
       "      <td>16.0</td>\n",
       "      <td>17.784000</td>\n",
       "      <td>2.878299</td>\n",
       "      <td>3844.0</td>\n",
       "      <td>True</td>\n",
       "      <td>70</td>\n",
       "      <td>1.041121</td>\n",
       "      <td>0.529387</td>\n",
       "    </tr>\n",
       "    <tr>\n",
       "      <th>4</th>\n",
       "      <td>2012</td>\n",
       "      <td>Maine</td>\n",
       "      <td>513.39</td>\n",
       "      <td>25</td>\n",
       "      <td>Female</td>\n",
       "      <td>12.0</td>\n",
       "      <td>9.633000</td>\n",
       "      <td>2.265195</td>\n",
       "      <td>625.0</td>\n",
       "      <td>True</td>\n",
       "      <td>30</td>\n",
       "      <td>-0.786331</td>\n",
       "      <td>-0.384339</td>\n",
       "    </tr>\n",
       "  </tbody>\n",
       "</table>\n",
       "</div>"
      ],
      "text/plain": [
       "   year statefip  wtsupp age     sex  yrseduc  wage_per_hour    lnwage  \\\n",
       "0  2012    Maine  569.43  44  Female     14.0       7.020000  1.948763   \n",
       "1  2012    Maine  595.47  25    Male     16.0       2.117143  0.750067   \n",
       "2  2012    Maine  635.66  61  Female     16.0      16.672501  2.813761   \n",
       "3  2012    Maine  635.66  62    Male     16.0      17.784000  2.878299   \n",
       "4  2012    Maine  513.39  25  Female     12.0       9.633000  2.265195   \n",
       "\n",
       "     age2    fp  decile         u         v  \n",
       "0  1936.0  True      50  0.314822  0.166238  \n",
       "1   625.0  True      30  1.375460  0.696557  \n",
       "2  3721.0  True      70  0.726437  0.372046  \n",
       "3  3844.0  True      70  1.041121  0.529387  \n",
       "4   625.0  True      30 -0.786331 -0.384339  "
      ]
     },
     "execution_count": 115,
     "metadata": {},
     "output_type": "execute_result"
    }
   ],
   "source": [
    "rho=0.5\n",
    "data['u'] = np.random.normal(size=len(data))\n",
    "data['v'] = data.groupby('statefip')['u'].transform(lambda x : (1-rho)*x.to_numpy() + rho*np.random.normal(size=1))"
   ]
  },
  {
   "cell_type": "markdown",
   "metadata": {},
   "source": [
    "Question 5: <br>\n",
    "First, explain the `groupby` expression. Next find another way of doing line 2 and 3, but try to minize the number of characters (see [python golfing](https://www.geeksforgeeks.org/code-golfing-in-python/) or more generaly [wikipedia](https://en.wikipedia.org/wiki/Code_golf))."
   ]
  },
  {
   "cell_type": "markdown",
   "metadata": {},
   "source": [
    "The groupby expression splits the dataframe by state, and allows us to apply our function to each state individually. This is needed to assign an error term at the state level."
   ]
  },
  {
   "cell_type": "code",
   "execution_count": 123,
   "metadata": {},
   "outputs": [],
   "source": [
    "#Abbreviated\n",
    "rho = 0.5\n",
    "n = np.random.normal(size=len(data))\n",
    "data['y'] = (1-rho)*n+rho*n[pd.factorize(data.statefip)[0]]"
   ]
  },
  {
   "cell_type": "code",
   "execution_count": 117,
   "metadata": {},
   "outputs": [
    {
     "data": {
      "text/html": [
       "<div>\n",
       "<style scoped>\n",
       "    .dataframe tbody tr th:only-of-type {\n",
       "        vertical-align: middle;\n",
       "    }\n",
       "\n",
       "    .dataframe tbody tr th {\n",
       "        vertical-align: top;\n",
       "    }\n",
       "\n",
       "    .dataframe thead th {\n",
       "        text-align: right;\n",
       "    }\n",
       "</style>\n",
       "<table border=\"1\" class=\"dataframe\">\n",
       "  <thead>\n",
       "    <tr style=\"text-align: right;\">\n",
       "      <th></th>\n",
       "      <th>year</th>\n",
       "      <th>statefip</th>\n",
       "      <th>wtsupp</th>\n",
       "      <th>age</th>\n",
       "      <th>sex</th>\n",
       "      <th>yrseduc</th>\n",
       "      <th>wage_per_hour</th>\n",
       "      <th>lnwage</th>\n",
       "      <th>age2</th>\n",
       "      <th>fp</th>\n",
       "      <th>u</th>\n",
       "      <th>v</th>\n",
       "      <th>y</th>\n",
       "    </tr>\n",
       "  </thead>\n",
       "  <tbody>\n",
       "    <tr>\n",
       "      <th>0</th>\n",
       "      <td>2012</td>\n",
       "      <td>Maine</td>\n",
       "      <td>569.43</td>\n",
       "      <td>44</td>\n",
       "      <td>Female</td>\n",
       "      <td>14.0</td>\n",
       "      <td>7.020000</td>\n",
       "      <td>1.948763</td>\n",
       "      <td>1936.0</td>\n",
       "      <td>True</td>\n",
       "      <td>-0.235821</td>\n",
       "      <td>-0.235821</td>\n",
       "      <td>-0.235821</td>\n",
       "    </tr>\n",
       "    <tr>\n",
       "      <th>1</th>\n",
       "      <td>2012</td>\n",
       "      <td>Maine</td>\n",
       "      <td>595.47</td>\n",
       "      <td>25</td>\n",
       "      <td>Male</td>\n",
       "      <td>16.0</td>\n",
       "      <td>2.117143</td>\n",
       "      <td>0.750067</td>\n",
       "      <td>625.0</td>\n",
       "      <td>True</td>\n",
       "      <td>-1.316322</td>\n",
       "      <td>-0.235821</td>\n",
       "      <td>-0.776071</td>\n",
       "    </tr>\n",
       "    <tr>\n",
       "      <th>2</th>\n",
       "      <td>2012</td>\n",
       "      <td>Maine</td>\n",
       "      <td>635.66</td>\n",
       "      <td>61</td>\n",
       "      <td>Female</td>\n",
       "      <td>16.0</td>\n",
       "      <td>16.672501</td>\n",
       "      <td>2.813761</td>\n",
       "      <td>3721.0</td>\n",
       "      <td>True</td>\n",
       "      <td>1.322015</td>\n",
       "      <td>-0.235821</td>\n",
       "      <td>0.543097</td>\n",
       "    </tr>\n",
       "    <tr>\n",
       "      <th>3</th>\n",
       "      <td>2012</td>\n",
       "      <td>Maine</td>\n",
       "      <td>635.66</td>\n",
       "      <td>62</td>\n",
       "      <td>Male</td>\n",
       "      <td>16.0</td>\n",
       "      <td>17.784000</td>\n",
       "      <td>2.878299</td>\n",
       "      <td>3844.0</td>\n",
       "      <td>True</td>\n",
       "      <td>0.906937</td>\n",
       "      <td>-0.235821</td>\n",
       "      <td>0.335558</td>\n",
       "    </tr>\n",
       "    <tr>\n",
       "      <th>4</th>\n",
       "      <td>2012</td>\n",
       "      <td>Maine</td>\n",
       "      <td>513.39</td>\n",
       "      <td>25</td>\n",
       "      <td>Female</td>\n",
       "      <td>12.0</td>\n",
       "      <td>9.633000</td>\n",
       "      <td>2.265195</td>\n",
       "      <td>625.0</td>\n",
       "      <td>True</td>\n",
       "      <td>1.639615</td>\n",
       "      <td>-0.235821</td>\n",
       "      <td>0.701897</td>\n",
       "    </tr>\n",
       "  </tbody>\n",
       "</table>\n",
       "</div>"
      ],
      "text/plain": [
       "   year statefip  wtsupp age     sex  yrseduc  wage_per_hour    lnwage  \\\n",
       "0  2012    Maine  569.43  44  Female     14.0       7.020000  1.948763   \n",
       "1  2012    Maine  595.47  25    Male     16.0       2.117143  0.750067   \n",
       "2  2012    Maine  635.66  61  Female     16.0      16.672501  2.813761   \n",
       "3  2012    Maine  635.66  62    Male     16.0      17.784000  2.878299   \n",
       "4  2012    Maine  513.39  25  Female     12.0       9.633000  2.265195   \n",
       "\n",
       "     age2    fp         u         v         y  \n",
       "0  1936.0  True -0.235821 -0.235821 -0.235821  \n",
       "1   625.0  True -1.316322 -0.235821 -0.776071  \n",
       "2  3721.0  True  1.322015 -0.235821  0.543097  \n",
       "3  3844.0  True  0.906937 -0.235821  0.335558  \n",
       "4   625.0  True  1.639615 -0.235821  0.701897  "
      ]
     },
     "execution_count": 117,
     "metadata": {},
     "output_type": "execute_result"
    }
   ],
   "source": [
    "#test\n",
    "n = np.random.normal(size=len(data))\n",
    "data['u'] = n\n",
    "data['v'] = n[pd.factorize(data.statefip)[0]]\n",
    "data['y'] = (1-rho)*n+rho*n[pd.factorize(data.statefip)[0]]\n",
    "data.head() #If we should not pull from same list n, change first n to n[::-1], size=len(data)*2"
   ]
  },
  {
   "cell_type": "markdown",
   "metadata": {},
   "source": [
    "Groupby is somewhat like a pivot table."
   ]
  },
  {
   "cell_type": "markdown",
   "metadata": {},
   "source": [
    "Before we get started estimating the effect of the policy, let's write a function that computes the within state correlation in the error term. \n",
    "\n",
    "To that end draw 500 pairs of people where the 2 people in a pair belong to the same state. This gives you 2 vector of length 500. Compute the correlation between these 2 vectors. Use the `sample` and `query` methods of `pandas`. Similarly construct a placebo function that just takes random pairs of workers without imposing that they come from the same state.\n",
    "\n",
    "Question 6: <br> \n",
    "Write your own version of the `tibo_pair_cor` and `tibo_cor_placebo` functions."
   ]
  },
  {
   "cell_type": "code",
   "execution_count": 235,
   "metadata": {},
   "outputs": [],
   "source": [
    "def tibo_pair_cor(data):\n",
    "    l1, l2 = [], []\n",
    "    for iter in range(0, 500):\n",
    "        a = data.sample().reset_index()\n",
    "        b = data.query(\"statefip == @a.statefip[0]\").sample().reset_index()\n",
    "        l1.append(a.y[0]) #find correlation between y's\n",
    "        l2.append(b.y[0])\n",
    "    return np.corrcoef(l1,l2)[0,1]\n",
    "\n",
    "def tibo_pair_cor_placebo(data):\n",
    "    l1, l2 = data.sample(500)['y'], data.sample(500)['y']\n",
    "    return np.corrcoef(l1,l2)[0,1]"
   ]
  },
  {
   "cell_type": "code",
   "execution_count": 237,
   "metadata": {},
   "outputs": [
    {
     "name": "stdout",
     "output_type": "stream",
     "text": [
      "0.3885625426251621\n",
      "0.021181384513487528\n",
      "0.923442424530743\n",
      "0.009290175384837762\n"
     ]
    }
   ],
   "source": [
    "rho=0.5\n",
    "data['u'] = np.random.normal(size=len(data))\n",
    "data['y'] = data.groupby('statefip')['u'].transform(lambda x : (1-rho)*x.to_numpy() + rho*np.random.normal(size=1))\n",
    "\n",
    "print(tibo_pair_cor(data))\n",
    "print(tibo_pair_cor_placebo(data))\n",
    "\n",
    "rho=0.8\n",
    "data['u'] = np.random.normal(size=len(data))\n",
    "data['y'] = data.groupby('statefip')['u'].transform(lambda x : (1-rho)*x.to_numpy() + rho*np.random.normal(size=1))\n",
    "\n",
    "print(tibo_pair_cor(data))\n",
    "print(tibo_pair_cor_placebo(data))"
   ]
  },
  {
   "cell_type": "markdown",
   "metadata": {},
   "source": [
    "We are then going to replicate the data construction 500 times.\n",
    "\n",
    "Question 7: <br> \n",
    "For $\\rho=0.2,0.5,0.8$ run 500 replications and report the proportion at each value of $\\rho$ for which the coefficient on$\\text{fp}$ is significant at 5%. Report the results for three different regression using regular `fit`, using `cov_type='HC0'` and using `cov_type='cluster'`."
   ]
  },
  {
   "cell_type": "markdown",
   "metadata": {},
   "source": [
    "<font color='red'> NOTE: TAKES VERY LONG </font>"
   ]
  },
  {
   "cell_type": "code",
   "execution_count": 8,
   "metadata": {},
   "outputs": [],
   "source": [
    "def tibo_question7(data):\n",
    "    def cluster(data,rho):\n",
    "        tstats, tstats_robust, tstats_cluster = [], [], []\n",
    "        for iter in range(0,500):\n",
    "            data['u'] = np.random.normal(size=len(data))\n",
    "            data['y'] = data.groupby('statefip')['u'].transform(lambda x : (1-rho)*x.to_numpy() + rho*np.random.normal(size=1))\n",
    "            results = smf.ols('y ~ fp', data=data).fit()\n",
    "            results_robust = smf.ols('y ~ fp', data=data).fit(cov_type = 'HC0')\n",
    "            results_cluster = smf.ols('y ~ fp', data=data).fit(cov_type='cluster', cov_kwds={\"groups\":data['statefip']})\n",
    "            tstats.append(results.tvalues[1])\n",
    "            tstats_robust.append(results_robust.tvalues[1])\n",
    "            tstats_cluster.append(results_cluster.tvalues[1])\n",
    "        print(\"Rho: \", rho, \" Fit: \", \"Non-Robust\", \" Prop. Significant: \", (np.abs(tstats)>1.96).mean())\n",
    "        print(\"Rho: \", rho, \" Fit: \", \"Robust\", \" Prop. Significant: \", (np.abs(tstats_robust)>1.96).mean())\n",
    "        print(\"Rho: \", rho, \" Fit: \", \"Cluster\", \" Prop. Significant: \", (np.abs(tstats_cluster)>1.96).mean())\n",
    "        #return tstats, tstats_robust, tstats_cluster\n",
    "    \n",
    "    start = time.time()\n",
    "    rhos = [0.2,0.5,0.8]\n",
    "    for r in rhos:\n",
    "        cluster(data,r)\n",
    "    end = time.time()\n",
    "    print(\"Time: \", round((end - start) / 60, 2), \"min\")"
   ]
  },
  {
   "cell_type": "code",
   "execution_count": 9,
   "metadata": {},
   "outputs": [
    {
     "name": "stdout",
     "output_type": "stream",
     "text": [
      "Rho:  0.2  Fit:  Non-Robust  Prop. Significant:  0.846\n",
      "Rho:  0.2  Fit:  Robust  Prop. Significant:  0.846\n",
      "Rho:  0.2  Fit:  Cluster  Prop. Significant:  0.082\n",
      "Rho:  0.5  Fit:  Non-Robust  Prop. Significant:  0.94\n",
      "Rho:  0.5  Fit:  Robust  Prop. Significant:  0.94\n",
      "Rho:  0.5  Fit:  Cluster  Prop. Significant:  0.07\n",
      "Rho:  0.8  Fit:  Non-Robust  Prop. Significant:  0.958\n",
      "Rho:  0.8  Fit:  Robust  Prop. Significant:  0.958\n",
      "Rho:  0.8  Fit:  Cluster  Prop. Significant:  0.074\n",
      "Time:  135.53 min\n"
     ]
    }
   ],
   "source": [
    "tibo_question7(data)"
   ]
  },
  {
   "cell_type": "markdown",
   "metadata": {},
   "source": [
    "As expected, the clustered t-statistics are significant much less frequently than in the other, non-clustered cases."
   ]
  },
  {
   "cell_type": "code",
   "execution_count": 51,
   "metadata": {},
   "outputs": [
    {
     "name": "stdout",
     "output_type": "stream",
     "text": [
      "                            OLS Regression Results                            \n",
      "==============================================================================\n",
      "Dep. Variable:                      y   R-squared:                       0.010\n",
      "Model:                            OLS   Adj. R-squared:                  0.010\n",
      "Method:                 Least Squares   F-statistic:                    0.9980\n",
      "Date:                Fri, 24 Apr 2020   Prob (F-statistic):              0.323\n",
      "Time:                        16:13:48   Log-Likelihood:                -71205.\n",
      "No. Observations:               65685   AIC:                         1.424e+05\n",
      "Df Residuals:                   65683   BIC:                         1.424e+05\n",
      "Df Model:                           1                                         \n",
      "Covariance Type:              cluster                                         \n",
      "==============================================================================\n",
      "                 coef    std err          z      P>|z|      [0.025      0.975]\n",
      "------------------------------------------------------------------------------\n",
      "Intercept      0.0755      0.087      0.870      0.384      -0.095       0.246\n",
      "fp[T.True]    -0.1484      0.149     -0.999      0.318      -0.440       0.143\n",
      "==============================================================================\n",
      "Omnibus:                      146.793   Durbin-Watson:                   0.973\n",
      "Prob(Omnibus):                  0.000   Jarque-Bera (JB):              147.492\n",
      "Skew:                          -0.114   Prob(JB):                     9.39e-33\n",
      "Kurtosis:                       2.956   Cond. No.                         2.47\n",
      "==============================================================================\n",
      "\n",
      "Warnings:\n",
      "[1] Standard Errors are robust to cluster correlation (cluster)\n"
     ]
    }
   ],
   "source": [
    "# here is an example of clustered errors \n",
    "rho=0.5\n",
    "data['u'] = np.random.normal(size=len(data))\n",
    "data['v'] = data.groupby('statefip')['u'].transform(lambda x : (1-rho)*x.to_numpy() + rho*np.random.normal(size=1))\n",
    "\n",
    "data['y'] =  data.v\n",
    "results = smf.ols('y ~ fp', data=data).fit(cov_type='cluster',cov_kwds={\"groups\":data['statefip']})\n",
    "print(results.summary())"
   ]
  },
  {
   "cell_type": "code",
   "execution_count": 52,
   "metadata": {},
   "outputs": [
    {
     "name": "stdout",
     "output_type": "stream",
     "text": [
      "                            OLS Regression Results                            \n",
      "==============================================================================\n",
      "Dep. Variable:                      y   R-squared:                       0.010\n",
      "Model:                            OLS   Adj. R-squared:                  0.010\n",
      "Method:                 Least Squares   F-statistic:                     686.9\n",
      "Date:                Fri, 24 Apr 2020   Prob (F-statistic):          1.28e-150\n",
      "Time:                        16:13:53   Log-Likelihood:                -71205.\n",
      "No. Observations:               65685   AIC:                         1.424e+05\n",
      "Df Residuals:                   65683   BIC:                         1.424e+05\n",
      "Df Model:                           1                                         \n",
      "Covariance Type:            nonrobust                                         \n",
      "==============================================================================\n",
      "                 coef    std err          t      P>|t|      [0.025      0.975]\n",
      "------------------------------------------------------------------------------\n",
      "Intercept      0.0755      0.004     20.671      0.000       0.068       0.083\n",
      "fp[T.True]    -0.1484      0.006    -26.208      0.000      -0.160      -0.137\n",
      "==============================================================================\n",
      "Omnibus:                      146.793   Durbin-Watson:                   0.973\n",
      "Prob(Omnibus):                  0.000   Jarque-Bera (JB):              147.492\n",
      "Skew:                          -0.114   Prob(JB):                     9.39e-33\n",
      "Kurtosis:                       2.956   Cond. No.                         2.47\n",
      "==============================================================================\n",
      "\n",
      "Warnings:\n",
      "[1] Standard Errors assume that the covariance matrix of the errors is correctly specified.\n"
     ]
    }
   ],
   "source": [
    "# and here the regression without clustered standard errors\n",
    "results = smf.ols('y ~ fp', data=data).fit()\n",
    "print(results.summary())"
   ]
  },
  {
   "cell_type": "code",
   "execution_count": null,
   "metadata": {},
   "outputs": [],
   "source": []
  }
 ],
 "metadata": {
  "kernelspec": {
   "display_name": "Python 3",
   "language": "python",
   "name": "python3"
  },
  "language_info": {
   "codemirror_mode": {
    "name": "ipython",
    "version": 3
   },
   "file_extension": ".py",
   "mimetype": "text/x-python",
   "name": "python",
   "nbconvert_exporter": "python",
   "pygments_lexer": "ipython3",
   "version": "3.7.0"
  }
 },
 "nbformat": 4,
 "nbformat_minor": 4
}
