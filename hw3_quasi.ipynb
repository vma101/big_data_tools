{
 "cells": [
  {
   "cell_type": "markdown",
   "metadata": {},
   "source": [
    "# Homework #3\n",
    "\n",
    "**Michael Carrion, Rahul Rangwani, Vanessa Ma**"
   ]
  },
  {
   "cell_type": "markdown",
   "metadata": {},
   "source": [
    "In this problem set we are going to make use of `pandas` to analyze the effect of a fictious experiment I have added to a data set. The data we will be using is the sample data provided by Yelp. The goal is to become familiar\n",
    "to working with such dataset.\n",
    "\n",
    "The original data is available here: [Yelp data](https://www.yelp.com/dataset/download).\n",
    "For this homework you will use the data I constructed using the original sample. You can download such file here: \n",
    "\n",
    " - **homework data**: [hw-yelp-data.zip](http://econ21340.lamadon.com/hw-yelp.tar.gz ) (~2.6Go)\n",
    "\n",
    "In the data I introduced an experiment. The back story is that Yelp rolled out a new interface for a randomly selected group of users. These users were randomly selected among those that posted a review in the month of January 2010. The `id` of these users are listed in the `yelp_academic_dataset_review_treatment.json` file present in the archive.\n",
    "\n",
    "For this group of users, a new website interface was put in place on February 1st 2010. As a Yelp budding data scientist/economist, you are asked to analyze the impact of the new app interface. The company is interested in estimating its effect on user engagement, measured by rating activities. We will focus mainly on the number of ratings for each user. \n",
    "\n",
    "In this homework we will cover:\n",
    " 1. loading large dataset using streaming/chunks, learn about json\n",
    " - working with date in pandas\n",
    " - analyze randomly assigned treatment\n",
    " - construct comparable control group\n",
    " - analyze at the level of randomization\n",
    " \n",
    "some useufl links:\n",
    " - [tutorial on dates in pandas](https://pbpython.com/pandas-grouper-agg.html)\n",
    " - [pandas documentation on reshaping](https://pandas.pydata.org/pandas-docs/stable/user_guide/reshaping.html)\n",
    " - [yelp data documentation](https://www.yelp.com/dataset/documentation/main)\n",
    "\n",
    "We start with a simple list of imports, as well as defining the path to the file we will be using. Please update the paths to point to the correct location on your computer."
   ]
  },
  {
   "cell_type": "code",
   "execution_count": 1,
   "metadata": {
    "ExecuteTime": {
     "end_time": "2020-05-20T01:48:33.933316Z",
     "start_time": "2020-05-20T01:48:33.861632Z"
    }
   },
   "outputs": [],
   "source": [
    "# import sys\n",
    "# sys.modules[__name__].__dict__.clear()\n",
    "import os\n",
    "import pandas as pd\n",
    "import tqdm\n",
    "import seaborn as sns\n",
    "import matplotlib.pyplot as plt\n",
    "import numpy as np\n",
    "import datetime\n",
    "\n",
    "# file_review = os.path.expanduser(\"~/Downloads/yelp_academic_dataset_review_experiment.json\")\n",
    "# file_treatment = os.path.expanduser(\"~/Downloads/yelp_academic_dataset_review_treatment.json\")\n",
    "file_review = \"data/yelp_academic_dataset_review_experiment.json\"\n",
    "file_treatment = \"data/yelp_academic_dataset_review_treatment.json\"\n",
    "\n",
    "def file_len(fname):\n",
    "    \"\"\" Function which efficiently computes the number of lines in file\"\"\"\n",
    "    with open(fname) as f:\n",
    "        for i, l in enumerate(f):\n",
    "            pass\n",
    "    return i + 1\n"
   ]
  },
  {
   "cell_type": "markdown",
   "metadata": {},
   "source": [
    "You are already familiar with the following section, this is the code that loads my solution. Since you don't have the file, this part of the code won't work for you. "
   ]
  },
  {
   "cell_type": "code",
   "execution_count": 2,
   "metadata": {
    "ExecuteTime": {
     "end_time": "2020-05-20T01:48:36.202312Z",
     "start_time": "2020-05-20T01:48:36.148758Z"
    }
   },
   "outputs": [],
   "source": [
    "# %cd ..\n",
    "%load_ext autoreload\n",
    "%autoreload 2\n",
    "#import solutions.sol_pset3 as solution # you need to command this, you don't have the solution file!"
   ]
  },
  {
   "cell_type": "markdown",
   "metadata": {},
   "source": [
    "\n",
    "# Loading the yelp review data\n",
    "\n",
    "The data is stored in `json` format. This is a widely used format to store structured data. See [here](https://www.w3schools.com/python/python_json.asp) for working with json in general in python.\n",
    "\n",
    "The data itself is quite large, hence we are going to use `chunksize` argument of the `read_json` function in `pandas`. You can of course try for your self to directly load the data using `pd.read_json(file_review)`,however this might take a while!\n",
    "\n",
    "In the following section, I provided an example of the code that loads the business information using chunks of size `100,000`. The code **contains a few errors**. Use the data documentation (using the link in the intro) to fix the code of loading the data. The provided code also drops variables which will be very needed and keep some others that are just going to clutter your computer memory. Again, look at the documentation and at the questions ahead to keep the right set of variables.\n",
    "\n",
    "\n",
    "Note how the code first compute the length of the file \n",
    "\n",
    "```python\n",
    "size = 100000\n",
    "review = pd.read_json(filepath, lines=True,\n",
    "                      dtype={'review_id':str,\n",
    "                             'user_id':float,\n",
    "                             'business_id':str,\n",
    "                             'stars':int,\n",
    "                             'date':str,\n",
    "                             'text':float,\n",
    "                             'useful':int,\n",
    "                             'funny':str,\n",
    "                             'cool':int},\n",
    "                      chunksize=size)\n",
    "\n",
    "chunk_list = []\n",
    "for chunk_review in tqdm.tqdm(review,total=  np.ceil(file_len(filepath)/size )  ):\n",
    "    # Drop columns that aren't needed\n",
    "    chunk_review = chunk_review.drop(['review_id','date'], axis=1)\n",
    "    chunk_list.append(chunk_review)\n",
    "\n",
    "df = pd.concat(chunk_list, ignore_index=True, join='outer', axis=0)\n",
    "```\n",
    "\n",
    "The following runs my version of the code, it takes around 2 minutes on my laptop. I show you a few of the columns that I chose to extract. In particular, you can check that you get the right row count of `7998013`. "
   ]
  },
  {
   "cell_type": "code",
   "execution_count": 3,
   "metadata": {},
   "outputs": [],
   "source": [
    "def question1(filepath):\n",
    "    size = 100000\n",
    "    review = pd.read_json(filepath, lines=True,\n",
    "                          dtype={'review_id':str,\n",
    "                                 'user_id':str,\n",
    "                                 'business_id':str,\n",
    "                                 'stars':int,\n",
    "                                 'date':str,\n",
    "                                 'text':str,\n",
    "                                 'useful':int,\n",
    "                                 'funny':int,\n",
    "                                 'cool':int},\n",
    "                          chunksize=size)\n",
    "\n",
    "    chunk_list = []\n",
    "    for chunk_review in tqdm.tqdm(review,total=  np.ceil(file_len(filepath)/size )  ):\n",
    "        # Drop columns that aren't needed\n",
    "        chunk_review.drop(['business_id', 'stars','text','useful','funny','cool'], axis=1, inplace = True)\n",
    "        chunk_list.append(chunk_review)\n",
    "        df = pd.concat(chunk_list, ignore_index=True, join='outer', axis=0)\n",
    "    return df\n",
    "\n",
    "### For Vanessa Only\n",
    "def question1_lm(filepath):\n",
    "    size = 100000\n",
    "    chunk_count = 0\n",
    "    chunk_max = 3\n",
    "    review = pd.read_json(filepath, lines=True,\n",
    "                          dtype={'review_id':str,\n",
    "                                 'user_id':str,\n",
    "                                 'business_id':str,\n",
    "                                 'stars':int,\n",
    "                                 'date':str,\n",
    "                                 'text':str,\n",
    "                                 'useful':int,\n",
    "                                 'funny':int,\n",
    "                                 'cool':int},\n",
    "                          chunksize=size)\n",
    "\n",
    "    chunk_list = []\n",
    "    for chunk_review in tqdm.tqdm(review,total=  np.ceil(file_len(filepath)/size )  ):\n",
    "        chunk_count += 1\n",
    "        if chunk_count <= chunk_max:\n",
    "        # Drop columns that aren't needed\n",
    "            chunk_review.drop(['business_id', 'stars','text','useful','funny','cool'], axis=1, inplace = True)\n",
    "            chunk_list.append(chunk_review)\n",
    "        df = pd.concat(chunk_list, ignore_index=True, join='outer', axis=0)\n",
    "    return df"
   ]
  },
  {
   "cell_type": "code",
   "execution_count": 4,
   "metadata": {
    "ExecuteTime": {
     "end_time": "2020-05-20T01:51:00.630840Z",
     "start_time": "2020-05-20T01:48:43.485017Z"
    },
    "scrolled": true
   },
   "outputs": [
    {
     "name": "stderr",
     "output_type": "stream",
     "text": [
      "100%|██████████| 80/80.0 [02:41<00:00,  2.80s/it]\n"
     ]
    },
    {
     "data": {
      "text/html": [
       "<div>\n",
       "<style scoped>\n",
       "    .dataframe tbody tr th:only-of-type {\n",
       "        vertical-align: middle;\n",
       "    }\n",
       "\n",
       "    .dataframe tbody tr th {\n",
       "        vertical-align: top;\n",
       "    }\n",
       "\n",
       "    .dataframe thead th {\n",
       "        text-align: right;\n",
       "    }\n",
       "</style>\n",
       "<table border=\"1\" class=\"dataframe\">\n",
       "  <thead>\n",
       "    <tr style=\"text-align: right;\">\n",
       "      <th></th>\n",
       "      <th>review_id</th>\n",
       "      <th>user_id</th>\n",
       "      <th>date</th>\n",
       "    </tr>\n",
       "  </thead>\n",
       "  <tbody>\n",
       "    <tr>\n",
       "      <th>0</th>\n",
       "      <td>xQY8N_XvtGbearJ5X4QryQ</td>\n",
       "      <td>OwjRMXRC0KyPrIlcjaXeFQ</td>\n",
       "      <td>2015-04-15 05:21:16</td>\n",
       "    </tr>\n",
       "    <tr>\n",
       "      <th>1</th>\n",
       "      <td>UmFMZ8PyXZTY2QcwzsfQYA</td>\n",
       "      <td>nIJD_7ZXHq-FX8byPMOkMQ</td>\n",
       "      <td>2013-12-07 03:16:52</td>\n",
       "    </tr>\n",
       "    <tr>\n",
       "      <th>2</th>\n",
       "      <td>LG2ZaYiOgpr2DK_90pYjNw</td>\n",
       "      <td>V34qejxNsCbcgD8C0HVk-Q</td>\n",
       "      <td>2015-12-05 03:18:11</td>\n",
       "    </tr>\n",
       "    <tr>\n",
       "      <th>3</th>\n",
       "      <td>i6g_oA9Yf9Y31qt0wibXpw</td>\n",
       "      <td>ofKDkJKXSKZXu5xJNGiiBQ</td>\n",
       "      <td>2011-05-27 05:30:52</td>\n",
       "    </tr>\n",
       "    <tr>\n",
       "      <th>4</th>\n",
       "      <td>6TdNDKywdbjoTkizeMce8A</td>\n",
       "      <td>UgMW8bLE0QMJDCkQ1Ax5Mg</td>\n",
       "      <td>2017-01-14 21:56:57</td>\n",
       "    </tr>\n",
       "    <tr>\n",
       "      <th>5</th>\n",
       "      <td>L2O_INwlrRuoX05KSjc4eg</td>\n",
       "      <td>5vD2kmE25YBrbayKhykNxQ</td>\n",
       "      <td>2013-05-07 07:25:25</td>\n",
       "    </tr>\n",
       "    <tr>\n",
       "      <th>6</th>\n",
       "      <td>ZayJ1zWyWgY9S_TRLT_y9Q</td>\n",
       "      <td>aq_ZxGHiri48TUXJlpRkCQ</td>\n",
       "      <td>2015-11-05 23:11:05</td>\n",
       "    </tr>\n",
       "    <tr>\n",
       "      <th>7</th>\n",
       "      <td>lpFIJYpsvDxyph-kPzZ6aA</td>\n",
       "      <td>dsd-KNYKMpx6ma_sRWCSkQ</td>\n",
       "      <td>2017-07-18 18:31:54</td>\n",
       "    </tr>\n",
       "    <tr>\n",
       "      <th>8</th>\n",
       "      <td>JA-xnyHytKiOIHl_ztnK9Q</td>\n",
       "      <td>P6apihD4ASf1vpPxHODxAQ</td>\n",
       "      <td>2015-02-16 06:48:47</td>\n",
       "    </tr>\n",
       "    <tr>\n",
       "      <th>9</th>\n",
       "      <td>z4BCgTkfNtCu4XY5Lp97ww</td>\n",
       "      <td>jOERvhmK6_lo_XGUBPws_w</td>\n",
       "      <td>2009-10-13 04:16:41</td>\n",
       "    </tr>\n",
       "    <tr>\n",
       "      <th>10</th>\n",
       "      <td>TfVth7UNfgilv4J3exPB3A</td>\n",
       "      <td>s5j_CRBWDCCMDJ6r7AYqjQ</td>\n",
       "      <td>2013-12-28 21:02:55</td>\n",
       "    </tr>\n",
       "    <tr>\n",
       "      <th>11</th>\n",
       "      <td>Tyx7AxYQfSRnBFUIXUJwFA</td>\n",
       "      <td>HJECayULRM-6xh2GCCvLiA</td>\n",
       "      <td>2015-10-17 01:38:13</td>\n",
       "    </tr>\n",
       "    <tr>\n",
       "      <th>12</th>\n",
       "      <td>wJMjt5C2y1RKgY0Xb9jhrA</td>\n",
       "      <td>1YIQGP-a534nyksaweEFYA</td>\n",
       "      <td>2015-07-03 21:48:51</td>\n",
       "    </tr>\n",
       "    <tr>\n",
       "      <th>13</th>\n",
       "      <td>QCxPzh7cuxJrLd6A_UTbpw</td>\n",
       "      <td>qftVgPj_kRTildMDjwiqtg</td>\n",
       "      <td>2016-06-11 22:00:11</td>\n",
       "    </tr>\n",
       "    <tr>\n",
       "      <th>14</th>\n",
       "      <td>qWHp2l2lysENZObh6MAulA</td>\n",
       "      <td>5lb0POg2t-AkMFx6603cYQ</td>\n",
       "      <td>2015-05-26 10:36:47</td>\n",
       "    </tr>\n",
       "    <tr>\n",
       "      <th>15</th>\n",
       "      <td>mjbs5CL4eMu4o6_VtYhN3Q</td>\n",
       "      <td>TF4C-F5iqavACQgKTrbjRA</td>\n",
       "      <td>2017-08-07 21:36:36</td>\n",
       "    </tr>\n",
       "    <tr>\n",
       "      <th>16</th>\n",
       "      <td>bVTjZgRNq8ToxzvtiVrqMA</td>\n",
       "      <td>2hRe26HSCAWbFRn5WChK-Q</td>\n",
       "      <td>2015-02-02 06:28:00</td>\n",
       "    </tr>\n",
       "    <tr>\n",
       "      <th>17</th>\n",
       "      <td>Ne_2CSfcKIqXHmv_KC0uqg</td>\n",
       "      <td>6sJN_HlM_uwpfLJ1puf1Fg</td>\n",
       "      <td>2018-02-01 19:15:00</td>\n",
       "    </tr>\n",
       "    <tr>\n",
       "      <th>18</th>\n",
       "      <td>Hy-gUXQh3RVhE8FLH9Dt4Q</td>\n",
       "      <td>kMkWON2lmw0s-M-fwiuByg</td>\n",
       "      <td>2017-06-28 00:39:18</td>\n",
       "    </tr>\n",
       "    <tr>\n",
       "      <th>19</th>\n",
       "      <td>UGErdm6bt48SXTVwJIti2Q</td>\n",
       "      <td>QodunSzok4nIYFNrTSGesQ</td>\n",
       "      <td>2018-03-04 01:03:53</td>\n",
       "    </tr>\n",
       "    <tr>\n",
       "      <th>20</th>\n",
       "      <td>sybVjriZuCEH09zplkcXAw</td>\n",
       "      <td>qkJtn0Rtz_lKlTs5azBkng</td>\n",
       "      <td>2013-12-29 00:34:21</td>\n",
       "    </tr>\n",
       "    <tr>\n",
       "      <th>21</th>\n",
       "      <td>TeX0eOIeZb_wpo86rCedXQ</td>\n",
       "      <td>RR-2nouBn408e3djxC470g</td>\n",
       "      <td>2017-02-09 04:25:03</td>\n",
       "    </tr>\n",
       "    <tr>\n",
       "      <th>22</th>\n",
       "      <td>sgTnHfeaEvyOoWX4TCgkuQ</td>\n",
       "      <td>A0j21z2Q1HGic7jW6e9h7A</td>\n",
       "      <td>2016-12-04 03:15:21</td>\n",
       "    </tr>\n",
       "    <tr>\n",
       "      <th>23</th>\n",
       "      <td>vZvF9HpLUmP3dKUYqv7HHw</td>\n",
       "      <td>2Fi20wCPWrWWvuKDssePeA</td>\n",
       "      <td>2017-05-13 05:19:38</td>\n",
       "    </tr>\n",
       "    <tr>\n",
       "      <th>24</th>\n",
       "      <td>XvLG7ReC8JZmBltOLJzfcA</td>\n",
       "      <td>-Co-ReNx_lXT1xL_Rr0B2g</td>\n",
       "      <td>2009-10-13 09:50:48</td>\n",
       "    </tr>\n",
       "    <tr>\n",
       "      <th>25</th>\n",
       "      <td>mM8i91yWP1QbImEvz5ds0w</td>\n",
       "      <td>TZQSUDDcA4ek5gBd6BzcjA</td>\n",
       "      <td>2017-06-06 19:04:10</td>\n",
       "    </tr>\n",
       "    <tr>\n",
       "      <th>26</th>\n",
       "      <td>-u8Oz_iSZACGwWW_pIT4zw</td>\n",
       "      <td>UreiTV1I9i-XF6_bJhK6Iw</td>\n",
       "      <td>2018-04-15 11:13:11</td>\n",
       "    </tr>\n",
       "    <tr>\n",
       "      <th>27</th>\n",
       "      <td>09qxjFi4abaW66JeSLazuQ</td>\n",
       "      <td>mbdtyUUzZZx5ld1Qc4iGtQ</td>\n",
       "      <td>2010-08-21 01:19:17</td>\n",
       "    </tr>\n",
       "    <tr>\n",
       "      <th>28</th>\n",
       "      <td>K-wdPGHbErfxbKK6PetrmA</td>\n",
       "      <td>FCoXqPxuI7GRBYyzJIwVxw</td>\n",
       "      <td>2015-12-05 02:16:06</td>\n",
       "    </tr>\n",
       "    <tr>\n",
       "      <th>29</th>\n",
       "      <td>01DNCgnW8K6xSyv4krYa1w</td>\n",
       "      <td>XivuRnPq3D-K5cPiBTztIA</td>\n",
       "      <td>2016-04-11 16:42:13</td>\n",
       "    </tr>\n",
       "    <tr>\n",
       "      <th>...</th>\n",
       "      <td>...</td>\n",
       "      <td>...</td>\n",
       "      <td>...</td>\n",
       "    </tr>\n",
       "    <tr>\n",
       "      <th>7997983</th>\n",
       "      <td>b2nh40wvzDHry1A_9tT_9w</td>\n",
       "      <td>pjj4Y76C7jHNpH4WOG6slQ</td>\n",
       "      <td>2019-12-10 00:39:24</td>\n",
       "    </tr>\n",
       "    <tr>\n",
       "      <th>7997984</th>\n",
       "      <td>-lj61VZob0oR5y7VyCZ2mg</td>\n",
       "      <td>ef_mcT9eAn_kJwEymeuipw</td>\n",
       "      <td>2019-12-10 18:58:27</td>\n",
       "    </tr>\n",
       "    <tr>\n",
       "      <th>7997985</th>\n",
       "      <td>BNxUHYareF6R-e3v59CLyA</td>\n",
       "      <td>Zidk6Zt1m4MNLpEQGEEdow</td>\n",
       "      <td>2019-12-10 07:43:02</td>\n",
       "    </tr>\n",
       "    <tr>\n",
       "      <th>7997986</th>\n",
       "      <td>JG54LGja8KUHuS2q-zvfSA</td>\n",
       "      <td>bQ9vOHi0E0Jx-PGBuxfYPw</td>\n",
       "      <td>2019-12-11 02:42:42</td>\n",
       "    </tr>\n",
       "    <tr>\n",
       "      <th>7997987</th>\n",
       "      <td>HktnwyH_vh6AiVX18fFMhg</td>\n",
       "      <td>XbIHnYAJW3UJ4uRDWkRFjQ</td>\n",
       "      <td>2019-02-13 19:53:09</td>\n",
       "    </tr>\n",
       "    <tr>\n",
       "      <th>7997988</th>\n",
       "      <td>iJGMizU1nntT9_gDGeUy_A</td>\n",
       "      <td>IQ8JZGg2po5YrcYqCBQQrw</td>\n",
       "      <td>2019-11-27 05:33:58</td>\n",
       "    </tr>\n",
       "    <tr>\n",
       "      <th>7997989</th>\n",
       "      <td>hFxtEdSyEl4W2mvPVHjmKQ</td>\n",
       "      <td>d6oLMgycbLI4_7fnaUYOVQ</td>\n",
       "      <td>2015-05-06 00:05:18</td>\n",
       "    </tr>\n",
       "    <tr>\n",
       "      <th>7997990</th>\n",
       "      <td>dUoSed7m8xmsnMXjw0zKtg</td>\n",
       "      <td>gvVqmHPMPm4kp_zwW2fVmw</td>\n",
       "      <td>2019-12-13 05:33:37</td>\n",
       "    </tr>\n",
       "    <tr>\n",
       "      <th>7997991</th>\n",
       "      <td>-iC035PO5S653e05ijxoFA</td>\n",
       "      <td>VMfwMYh8iJapW807Pu1Diw</td>\n",
       "      <td>2017-06-09 15:00:11</td>\n",
       "    </tr>\n",
       "    <tr>\n",
       "      <th>7997992</th>\n",
       "      <td>N50u_bwOhkrNnzDByvH0IA</td>\n",
       "      <td>4qNXmOeA5tALz3DgtHoAYA</td>\n",
       "      <td>2019-01-14 22:27:52</td>\n",
       "    </tr>\n",
       "    <tr>\n",
       "      <th>7997993</th>\n",
       "      <td>aDsRfj5BBmqqnopNHswafg</td>\n",
       "      <td>QW-MVWcbmdOz1mCFuc3yPw</td>\n",
       "      <td>2019-12-04 19:01:23</td>\n",
       "    </tr>\n",
       "    <tr>\n",
       "      <th>7997994</th>\n",
       "      <td>vLFc2ljwlCD3Rwfva6rQcw</td>\n",
       "      <td>G5UBCVRqJEgu8fOLetBuvg</td>\n",
       "      <td>2019-01-22 19:45:11</td>\n",
       "    </tr>\n",
       "    <tr>\n",
       "      <th>7997995</th>\n",
       "      <td>bifI5vnJ_LT0eAMD_O3cbw</td>\n",
       "      <td>1z0yKHr5KBlfJqm6O11V4g</td>\n",
       "      <td>2019-12-06 08:47:32</td>\n",
       "    </tr>\n",
       "    <tr>\n",
       "      <th>7997996</th>\n",
       "      <td>T34JvlaKD1qcQARVOOHm4w</td>\n",
       "      <td>7puz3FPymI83yvk1_J7ilQ</td>\n",
       "      <td>2018-02-13 01:36:07</td>\n",
       "    </tr>\n",
       "    <tr>\n",
       "      <th>7997997</th>\n",
       "      <td>kBdIrB1J41TDQArBWOpN0g</td>\n",
       "      <td>VwVHW0hunS1NXceJJtfVrA</td>\n",
       "      <td>2019-06-15 03:00:07</td>\n",
       "    </tr>\n",
       "    <tr>\n",
       "      <th>7997998</th>\n",
       "      <td>0D2VOZxlbgNVoZS5rgBRhg</td>\n",
       "      <td>wvbPHizTJNz26s-xMO-vGw</td>\n",
       "      <td>2018-11-15 19:51:22</td>\n",
       "    </tr>\n",
       "    <tr>\n",
       "      <th>7997999</th>\n",
       "      <td>unTVWYq5bcFPntuIEvdu1g</td>\n",
       "      <td>VC_DDLfl78P1JRHy9XxVaA</td>\n",
       "      <td>2019-12-07 21:57:47</td>\n",
       "    </tr>\n",
       "    <tr>\n",
       "      <th>7998000</th>\n",
       "      <td>SkiPC10TBymnU-y8ScdQ_w</td>\n",
       "      <td>23cjtl3AWJtxKL3O78-Djw</td>\n",
       "      <td>2019-12-08 00:49:06</td>\n",
       "    </tr>\n",
       "    <tr>\n",
       "      <th>7998001</th>\n",
       "      <td>wOQzy0OFrR2-l5FyE5fw3A</td>\n",
       "      <td>I9R44KGJtwT3VLfi03R4aA</td>\n",
       "      <td>2019-12-08 06:02:45</td>\n",
       "    </tr>\n",
       "    <tr>\n",
       "      <th>7998002</th>\n",
       "      <td>LtgyXp37zMQuXJUQJYC_1A</td>\n",
       "      <td>OmBHPdD3UhTeO3UHq6kBjA</td>\n",
       "      <td>2014-04-09 05:05:23</td>\n",
       "    </tr>\n",
       "    <tr>\n",
       "      <th>7998003</th>\n",
       "      <td>vwbOl_u92uaSMz7w_H709A</td>\n",
       "      <td>4H-1dfpYF5JQKQjoH_uChA</td>\n",
       "      <td>2019-12-08 23:52:55</td>\n",
       "    </tr>\n",
       "    <tr>\n",
       "      <th>7998004</th>\n",
       "      <td>cPX3OKqbv3-9ZYZTp_UKyA</td>\n",
       "      <td>bH3Uc0YNlnKubj8cT4nQ0w</td>\n",
       "      <td>2017-01-10 04:18:30</td>\n",
       "    </tr>\n",
       "    <tr>\n",
       "      <th>7998005</th>\n",
       "      <td>GftJ5qKiMRSxS4_b9wg5Rw</td>\n",
       "      <td>sVR6XQh9MZc2cpiZmK_lpg</td>\n",
       "      <td>2012-07-31 03:34:14</td>\n",
       "    </tr>\n",
       "    <tr>\n",
       "      <th>7998006</th>\n",
       "      <td>wT45Kz4_WDH2YmAk7k3LKw</td>\n",
       "      <td>ckYxR0TccFb1GRzuniZ8Mw</td>\n",
       "      <td>2014-12-18 15:26:37</td>\n",
       "    </tr>\n",
       "    <tr>\n",
       "      <th>7998007</th>\n",
       "      <td>43ugcDASS-mGv0eYozge_g</td>\n",
       "      <td>kyxGYZpa4UNmA7Q0gmQmYA</td>\n",
       "      <td>2019-12-10 12:07:55</td>\n",
       "    </tr>\n",
       "    <tr>\n",
       "      <th>7998008</th>\n",
       "      <td>LAzw2u1ucY722ryLEXHdgg</td>\n",
       "      <td>6DMFD3BRp-MVzDQelRx5UQ</td>\n",
       "      <td>2019-12-11 01:07:06</td>\n",
       "    </tr>\n",
       "    <tr>\n",
       "      <th>7998009</th>\n",
       "      <td>gMDU14Fa_DVIcPvsKtubJA</td>\n",
       "      <td>_g6P8H3-qfbz1FxbffS68g</td>\n",
       "      <td>2019-12-10 04:15:00</td>\n",
       "    </tr>\n",
       "    <tr>\n",
       "      <th>7998010</th>\n",
       "      <td>EcY_p50zPIQ2R6rf6-5CjA</td>\n",
       "      <td>Scmyz7MK4TbXXYcaLZxIxQ</td>\n",
       "      <td>2019-06-06 15:01:53</td>\n",
       "    </tr>\n",
       "    <tr>\n",
       "      <th>7998011</th>\n",
       "      <td>-z_MM0pAf9RtZbyPlphTlA</td>\n",
       "      <td>lBuAACBEThaQHQGMzAlKpg</td>\n",
       "      <td>2018-07-05 18:45:21</td>\n",
       "    </tr>\n",
       "    <tr>\n",
       "      <th>7998012</th>\n",
       "      <td>nK0JGgr8aO4mcFPU4pDOEA</td>\n",
       "      <td>fiA6ztHPONUkmX6yKIXyHg</td>\n",
       "      <td>2019-12-07 00:29:55</td>\n",
       "    </tr>\n",
       "  </tbody>\n",
       "</table>\n",
       "<p>7998013 rows × 3 columns</p>\n",
       "</div>"
      ],
      "text/plain": [
       "                      review_id                 user_id                date\n",
       "0        xQY8N_XvtGbearJ5X4QryQ  OwjRMXRC0KyPrIlcjaXeFQ 2015-04-15 05:21:16\n",
       "1        UmFMZ8PyXZTY2QcwzsfQYA  nIJD_7ZXHq-FX8byPMOkMQ 2013-12-07 03:16:52\n",
       "2        LG2ZaYiOgpr2DK_90pYjNw  V34qejxNsCbcgD8C0HVk-Q 2015-12-05 03:18:11\n",
       "3        i6g_oA9Yf9Y31qt0wibXpw  ofKDkJKXSKZXu5xJNGiiBQ 2011-05-27 05:30:52\n",
       "4        6TdNDKywdbjoTkizeMce8A  UgMW8bLE0QMJDCkQ1Ax5Mg 2017-01-14 21:56:57\n",
       "5        L2O_INwlrRuoX05KSjc4eg  5vD2kmE25YBrbayKhykNxQ 2013-05-07 07:25:25\n",
       "6        ZayJ1zWyWgY9S_TRLT_y9Q  aq_ZxGHiri48TUXJlpRkCQ 2015-11-05 23:11:05\n",
       "7        lpFIJYpsvDxyph-kPzZ6aA  dsd-KNYKMpx6ma_sRWCSkQ 2017-07-18 18:31:54\n",
       "8        JA-xnyHytKiOIHl_ztnK9Q  P6apihD4ASf1vpPxHODxAQ 2015-02-16 06:48:47\n",
       "9        z4BCgTkfNtCu4XY5Lp97ww  jOERvhmK6_lo_XGUBPws_w 2009-10-13 04:16:41\n",
       "10       TfVth7UNfgilv4J3exPB3A  s5j_CRBWDCCMDJ6r7AYqjQ 2013-12-28 21:02:55\n",
       "11       Tyx7AxYQfSRnBFUIXUJwFA  HJECayULRM-6xh2GCCvLiA 2015-10-17 01:38:13\n",
       "12       wJMjt5C2y1RKgY0Xb9jhrA  1YIQGP-a534nyksaweEFYA 2015-07-03 21:48:51\n",
       "13       QCxPzh7cuxJrLd6A_UTbpw  qftVgPj_kRTildMDjwiqtg 2016-06-11 22:00:11\n",
       "14       qWHp2l2lysENZObh6MAulA  5lb0POg2t-AkMFx6603cYQ 2015-05-26 10:36:47\n",
       "15       mjbs5CL4eMu4o6_VtYhN3Q  TF4C-F5iqavACQgKTrbjRA 2017-08-07 21:36:36\n",
       "16       bVTjZgRNq8ToxzvtiVrqMA  2hRe26HSCAWbFRn5WChK-Q 2015-02-02 06:28:00\n",
       "17       Ne_2CSfcKIqXHmv_KC0uqg  6sJN_HlM_uwpfLJ1puf1Fg 2018-02-01 19:15:00\n",
       "18       Hy-gUXQh3RVhE8FLH9Dt4Q  kMkWON2lmw0s-M-fwiuByg 2017-06-28 00:39:18\n",
       "19       UGErdm6bt48SXTVwJIti2Q  QodunSzok4nIYFNrTSGesQ 2018-03-04 01:03:53\n",
       "20       sybVjriZuCEH09zplkcXAw  qkJtn0Rtz_lKlTs5azBkng 2013-12-29 00:34:21\n",
       "21       TeX0eOIeZb_wpo86rCedXQ  RR-2nouBn408e3djxC470g 2017-02-09 04:25:03\n",
       "22       sgTnHfeaEvyOoWX4TCgkuQ  A0j21z2Q1HGic7jW6e9h7A 2016-12-04 03:15:21\n",
       "23       vZvF9HpLUmP3dKUYqv7HHw  2Fi20wCPWrWWvuKDssePeA 2017-05-13 05:19:38\n",
       "24       XvLG7ReC8JZmBltOLJzfcA  -Co-ReNx_lXT1xL_Rr0B2g 2009-10-13 09:50:48\n",
       "25       mM8i91yWP1QbImEvz5ds0w  TZQSUDDcA4ek5gBd6BzcjA 2017-06-06 19:04:10\n",
       "26       -u8Oz_iSZACGwWW_pIT4zw  UreiTV1I9i-XF6_bJhK6Iw 2018-04-15 11:13:11\n",
       "27       09qxjFi4abaW66JeSLazuQ  mbdtyUUzZZx5ld1Qc4iGtQ 2010-08-21 01:19:17\n",
       "28       K-wdPGHbErfxbKK6PetrmA  FCoXqPxuI7GRBYyzJIwVxw 2015-12-05 02:16:06\n",
       "29       01DNCgnW8K6xSyv4krYa1w  XivuRnPq3D-K5cPiBTztIA 2016-04-11 16:42:13\n",
       "...                         ...                     ...                 ...\n",
       "7997983  b2nh40wvzDHry1A_9tT_9w  pjj4Y76C7jHNpH4WOG6slQ 2019-12-10 00:39:24\n",
       "7997984  -lj61VZob0oR5y7VyCZ2mg  ef_mcT9eAn_kJwEymeuipw 2019-12-10 18:58:27\n",
       "7997985  BNxUHYareF6R-e3v59CLyA  Zidk6Zt1m4MNLpEQGEEdow 2019-12-10 07:43:02\n",
       "7997986  JG54LGja8KUHuS2q-zvfSA  bQ9vOHi0E0Jx-PGBuxfYPw 2019-12-11 02:42:42\n",
       "7997987  HktnwyH_vh6AiVX18fFMhg  XbIHnYAJW3UJ4uRDWkRFjQ 2019-02-13 19:53:09\n",
       "7997988  iJGMizU1nntT9_gDGeUy_A  IQ8JZGg2po5YrcYqCBQQrw 2019-11-27 05:33:58\n",
       "7997989  hFxtEdSyEl4W2mvPVHjmKQ  d6oLMgycbLI4_7fnaUYOVQ 2015-05-06 00:05:18\n",
       "7997990  dUoSed7m8xmsnMXjw0zKtg  gvVqmHPMPm4kp_zwW2fVmw 2019-12-13 05:33:37\n",
       "7997991  -iC035PO5S653e05ijxoFA  VMfwMYh8iJapW807Pu1Diw 2017-06-09 15:00:11\n",
       "7997992  N50u_bwOhkrNnzDByvH0IA  4qNXmOeA5tALz3DgtHoAYA 2019-01-14 22:27:52\n",
       "7997993  aDsRfj5BBmqqnopNHswafg  QW-MVWcbmdOz1mCFuc3yPw 2019-12-04 19:01:23\n",
       "7997994  vLFc2ljwlCD3Rwfva6rQcw  G5UBCVRqJEgu8fOLetBuvg 2019-01-22 19:45:11\n",
       "7997995  bifI5vnJ_LT0eAMD_O3cbw  1z0yKHr5KBlfJqm6O11V4g 2019-12-06 08:47:32\n",
       "7997996  T34JvlaKD1qcQARVOOHm4w  7puz3FPymI83yvk1_J7ilQ 2018-02-13 01:36:07\n",
       "7997997  kBdIrB1J41TDQArBWOpN0g  VwVHW0hunS1NXceJJtfVrA 2019-06-15 03:00:07\n",
       "7997998  0D2VOZxlbgNVoZS5rgBRhg  wvbPHizTJNz26s-xMO-vGw 2018-11-15 19:51:22\n",
       "7997999  unTVWYq5bcFPntuIEvdu1g  VC_DDLfl78P1JRHy9XxVaA 2019-12-07 21:57:47\n",
       "7998000  SkiPC10TBymnU-y8ScdQ_w  23cjtl3AWJtxKL3O78-Djw 2019-12-08 00:49:06\n",
       "7998001  wOQzy0OFrR2-l5FyE5fw3A  I9R44KGJtwT3VLfi03R4aA 2019-12-08 06:02:45\n",
       "7998002  LtgyXp37zMQuXJUQJYC_1A  OmBHPdD3UhTeO3UHq6kBjA 2014-04-09 05:05:23\n",
       "7998003  vwbOl_u92uaSMz7w_H709A  4H-1dfpYF5JQKQjoH_uChA 2019-12-08 23:52:55\n",
       "7998004  cPX3OKqbv3-9ZYZTp_UKyA  bH3Uc0YNlnKubj8cT4nQ0w 2017-01-10 04:18:30\n",
       "7998005  GftJ5qKiMRSxS4_b9wg5Rw  sVR6XQh9MZc2cpiZmK_lpg 2012-07-31 03:34:14\n",
       "7998006  wT45Kz4_WDH2YmAk7k3LKw  ckYxR0TccFb1GRzuniZ8Mw 2014-12-18 15:26:37\n",
       "7998007  43ugcDASS-mGv0eYozge_g  kyxGYZpa4UNmA7Q0gmQmYA 2019-12-10 12:07:55\n",
       "7998008  LAzw2u1ucY722ryLEXHdgg  6DMFD3BRp-MVzDQelRx5UQ 2019-12-11 01:07:06\n",
       "7998009  gMDU14Fa_DVIcPvsKtubJA  _g6P8H3-qfbz1FxbffS68g 2019-12-10 04:15:00\n",
       "7998010  EcY_p50zPIQ2R6rf6-5CjA  Scmyz7MK4TbXXYcaLZxIxQ 2019-06-06 15:01:53\n",
       "7998011  -z_MM0pAf9RtZbyPlphTlA  lBuAACBEThaQHQGMzAlKpg 2018-07-05 18:45:21\n",
       "7998012  nK0JGgr8aO4mcFPU4pDOEA  fiA6ztHPONUkmX6yKIXyHg 2019-12-07 00:29:55\n",
       "\n",
       "[7998013 rows x 3 columns]"
      ]
     },
     "execution_count": 4,
     "metadata": {},
     "output_type": "execute_result"
    }
   ],
   "source": [
    "df_review = question1(file_review)\n",
    "df_review['date'] = pd.to_datetime(df_review.date) # convert the date string to an actual date\n",
    "df_review[['review_id','user_id','date']]"
   ]
  },
  {
   "cell_type": "markdown",
   "metadata": {},
   "source": [
    "# Our first plot of the data\n",
    "\n",
    "Next, to get a sense of the data, we plot user engagement over time. For this I ask you to plot the log number of reviews per month using our created data. \n",
    "\n",
    "To get the plot, I recommend you look into either the `resample` menthod or the `grouper` method. If you are not too familiar with them, I added a link at the top to a great tutorial."
   ]
  },
  {
   "cell_type": "code",
   "execution_count": 5,
   "metadata": {},
   "outputs": [],
   "source": [
    "def question2(df_review):\n",
    "    mod = df_review.groupby(pd.Grouper(key='date', freq='M')).count()\n",
    "    plt.plot(mod,color=\"tab:blue\")\n",
    "    plt.ylabel(\"user_id\")\n",
    "    plt.xlabel('date')\n",
    "    plt.yscale(\"log\")"
   ]
  },
  {
   "cell_type": "code",
   "execution_count": 6,
   "metadata": {},
   "outputs": [
    {
     "name": "stderr",
     "output_type": "stream",
     "text": [
      "/home/andrew/.anaconda3/lib/python3.7/site-packages/pandas/plotting/_converter.py:129: FutureWarning: Using an implicitly registered datetime converter for a matplotlib plotting method. The converter was registered by pandas on import. Future versions of pandas will require you to explicitly register matplotlib converters.\n",
      "\n",
      "To register the converters:\n",
      "\t>>> from pandas.plotting import register_matplotlib_converters\n",
      "\t>>> register_matplotlib_converters()\n",
      "  warnings.warn(msg, FutureWarning)\n"
     ]
    },
    {
     "data": {
      "image/png": "[encoded data removed]",
      "text/plain": [
       "<Figure size 432x288 with 1 Axes>"
      ]
     },
     "metadata": {
      "needs_background": "light"
     },
     "output_type": "display_data"
    }
   ],
   "source": [
    "question2(df_review) #Note: we use log scaling of matplotlib"
   ]
  },
  {
   "cell_type": "markdown",
   "metadata": {},
   "source": [
    "# A randomized experiment\n",
    "\n",
    "We now want to extract our experimental data from our large data set. Given the random assignment we are going to compare the treated group to simply everyone else in the data. In this exercice, we are interested in the effect of the policy over time. We are then going to look at the log number of reviews in each of the months around the introduction of the interface change.\n",
    "\n",
    "I would like for you to do the following:\n",
    " 1. extract the list of treated individuals from the provided file\n",
    " 2. attach the treated status to each observation in the data, you can use `eval` or a merge.\n",
    " 3. plot the log number of reviews per month in the treatment and in the control group. \n",
    " 4. given that the treatment status was randomized, the picture should look a bit surpising, please explain what you would have expected to see.\n",
    " \n",
    "Here is the plot I get, try to reproduce it as closely as possible."
   ]
  },
  {
   "cell_type": "code",
   "execution_count": 7,
   "metadata": {},
   "outputs": [],
   "source": [
    "treatment = pd.read_json(file_treatment, lines=True, dtype={'user_id':str})\n",
    "treatment = treatment.rename(columns={0: \"treatment\"})"
   ]
  },
  {
   "cell_type": "code",
   "execution_count": 8,
   "metadata": {},
   "outputs": [],
   "source": [
    "def question3(df_review,file_treatment):\n",
    "    merged = df_review.merge(treatment,left_on='user_id',right_on='treatment',how='outer')\n",
    "    merged.treatment = merged.treatment.notnull()\n",
    "    \n",
    "    #Plotting\n",
    "    untreated = merged.loc[merged.treatment == False]\n",
    "    treated = merged.loc[merged.treatment == True]\n",
    "    un = untreated.groupby(pd.Grouper(key='date', freq='M')).count()\n",
    "    treat = treated.groupby(pd.Grouper(key='date', freq='M')).count()\n",
    "    un = un.loc[(un!=0).any(axis=1)]\n",
    "    treat = treat.loc[(treat!=0).any(axis=1)]\n",
    "    plt.plot(un.iloc[:,0],color=\"tab:blue\",label = \"Untreated\")\n",
    "    plt.plot(treat.iloc[:,0],color = 'tab:orange', label = \"Treated\")\n",
    "    plt.ylabel(\"review_id\")\n",
    "    plt.xlabel('date')\n",
    "    plt.yscale(\"log\")\n",
    "    plt.legend()\n",
    "    return treatment, merged"
   ]
  },
  {
   "cell_type": "code",
   "execution_count": 9,
   "metadata": {},
   "outputs": [
    {
     "data": {
      "image/png": "[encoded data removed]",
      "text/plain": [
       "<Figure size 432x288 with 1 Axes>"
      ]
     },
     "metadata": {
      "needs_background": "light"
     },
     "output_type": "display_data"
    }
   ],
   "source": [
    "user_treat, merged = question3(df_review,file_treatment)"
   ]
  },
  {
   "cell_type": "markdown",
   "metadata": {},
   "source": [
    "Given that the treatment was random, we would expect to see the number of reviews for both the treatment and control group follow a similar trend over time. However, we see the number of reviews posted in treatment group decline sharply after the beginning of 2010, suggesting that this is not a great comparison group for our analysis."
   ]
  },
  {
   "cell_type": "markdown",
   "metadata": {},
   "source": [
    "# Changing comparison group\n",
    "\n",
    "We clearly created some issues in the way we analyzed our sample. In this section we are going to use a more comparable group. \n",
    "\n",
    " 1. using the criteria described in the intro, construct the original set of users from which the treatment group was selected. \n",
    " - extracts the users from the this group wich are not in the treatment group - this will be our control group.\n",
    " - using this new control group, plot the log number of reviews in each month for treatment and control\n",
    " - finally plot the differences of the outcome, however make sure to remove (subtract) the log of the number of individuals in each group to obtain the plot of the log number of reviews per user - otherwise your intercept won't be around 0!\n",
    " \n",
    "Here are the plots I got: "
   ]
  },
  {
   "cell_type": "code",
   "execution_count": 10,
   "metadata": {
    "scrolled": true
   },
   "outputs": [],
   "source": [
    "###QUESTION 4###\n",
    "\n",
    "# 4.1 Construct the original set of users from which the treatment group was selected\n",
    "jan10 = df_review.loc[(df_review.date < '2010-02-01') & (df_review.date >= '2010-01-01')]\n",
    "merged_new = jan10.merge(treatment,left_on='user_id',right_on='treatment',how='outer')\n",
    "merged_new.treatment = merged_new.treatment.notnull()\n",
    "\n",
    "treatment_group = pd.DataFrame(merged_new.loc[merged_new.treatment == True].user_id)\n",
    "treatment_total = df_review.merge(treatment_group,on = 'user_id',how = 'right')\n",
    "treat = treatment_total.groupby(pd.Grouper(key='date', freq='Q')).nunique()\n",
    "# treat = treat.loc[(treat!=0).any(axis=1)]\n",
    "treat.drop(columns = [\"date\"], inplace = True)\n",
    "# treat[\"treat_diff\"] = treat[\"review_id\"] - treat[\"user_id\"]\n",
    "\n",
    "# 4.2 Construct control group\n",
    "control_group = pd.DataFrame(merged_new.loc[merged_new.treatment == False].user_id)\n",
    "control_total = df_review.merge(control_group,on = 'user_id',how = 'right')\n",
    "un = control_total.groupby(pd.Grouper(key='date', freq='Q')).nunique()\n",
    "# un = un.loc[(un!=0).any(axis=1)]\n",
    "un.drop(columns = [\"date\"], inplace = True)\n",
    "# un[\"untreated_diff\"] = treat[\"review_id\"] - treat[\"user_id\"]"
   ]
  },
  {
   "cell_type": "code",
   "execution_count": 11,
   "metadata": {},
   "outputs": [
    {
     "data": {
      "text/plain": [
       "<matplotlib.legend.Legend at 0x7f5f1f3af828>"
      ]
     },
     "execution_count": 11,
     "metadata": {},
     "output_type": "execute_result"
    },
    {
     "data": {
      "image/png": "[encoded data removed]",
      "text/plain": [
       "<Figure size 432x288 with 1 Axes>"
      ]
     },
     "metadata": {
      "needs_background": "light"
     },
     "output_type": "display_data"
    }
   ],
   "source": [
    "# 4.3: plot number of reviews for each group\n",
    "plt.figure()\n",
    "plt.plot(un.index, un[\"review_id\"], color = \"tab:blue\", label = \"Untreated\")\n",
    "plt.plot(treat.index, treat[\"review_id\"], color = \"tab:orange\", label = \"Treated\")\n",
    "plt.ylabel(\"review_id\")\n",
    "plt.xlabel('date')\n",
    "plt.yscale(\"log\")\n",
    "plt.legend()"
   ]
  },
  {
   "cell_type": "code",
   "execution_count": 12,
   "metadata": {},
   "outputs": [
    {
     "data": {
      "text/plain": [
       "Text(0.5, 0, 'date')"
      ]
     },
     "execution_count": 12,
     "metadata": {},
     "output_type": "execute_result"
    },
    {
     "data": {
      "image/png": "[encoded data removed]",
      "text/plain": [
       "<Figure size 432x288 with 1 Axes>"
      ]
     },
     "metadata": {
      "needs_background": "light"
     },
     "output_type": "display_data"
    }
   ],
   "source": [
    "#4.4: plot number of reviews for control and treatment group #####WHY IS THIS NOT WORKING???####\n",
    "dstart = datetime.datetime(2008,1,1)\n",
    "dend = datetime.datetime(2020,6,1)\n",
    "\n",
    "mod = un.merge(treat,left_index=True,right_index=True,how=\"inner\", suffixes = (\"_control\", \"_treat\"))\n",
    "mod['control_diff'] = np.log(mod['review_id_control']) - np.log(mod['user_id_control'])\n",
    "mod['treated_diff'] = np.log(mod['review_id_treat']) - np.log(mod['user_id_treat'])\n",
    "mod['diff'] = mod['treated_diff']-mod['control_diff'] \n",
    "plt.figure()\n",
    "plt.plot(mod.index,mod['diff'])\n",
    "plt.xlim(dstart, dend)\n",
    "plt.ylim(-.6,0.5)\n",
    "plt.ylabel(\"diff\")\n",
    "plt.xlabel('date')"
   ]
  },
  {
   "cell_type": "code",
   "execution_count": null,
   "metadata": {
    "ExecuteTime": {
     "end_time": "2020-05-20T02:19:06.689725Z",
     "start_time": "2020-05-20T02:19:03.377371Z"
    },
    "scrolled": false
   },
   "outputs": [],
   "source": [
    "df_local = solution.question4(df_local,user_treat)"
   ]
  },
  {
   "cell_type": "markdown",
   "metadata": {},
   "source": [
    "# Using activity per user and time\n",
    "\n",
    "We are now interested in conducting some inference on our results. However we remember that the level of randomization is at the `user` and not at the `review`. Hence we now decide to construct observations at the `(user,year)` level. We decide to use years instead of months because the probability at the month level is too low.\n",
    "\n",
    " 1. Construct a DataFrame with all `(user,year)` pairs and a column called `post` which is equal to 1 if the user posted in that year and 0 if he didn't. To construct such dataframe I used the `pd.MultiIndex.from_product` function, but one could use a `merge` instead.\n",
    " 2. Use this newly created DataFrame to plot the level for each group, and to plot the difference between the two.\n",
    " \n",
    "Here are the plots I constructed:"
   ]
  },
  {
   "cell_type": "code",
   "execution_count": 17,
   "metadata": {},
   "outputs": [],
   "source": [
    "# 5.1 Construct dataframe with user, year pairs, post binary column if user posted in that year, and 0 if not\n",
    "df_review[\"year\"] = df_review[\"date\"].dt.year\n",
    "# user_year_tab = df_review.groupby([\"user_id\", \"year\"])[\"review_id\"].count()\n",
    "user_year_index = pd.MultiIndex.from_product([df_review[\"user_id\"], df_review[\"year\"]], names = [\"user\", \"year\"])\n",
    "user_year_df = pd.DataFrame(0, index = user_year_index, columns = [\"post\"])"
   ]
  },
  {
   "cell_type": "code",
   "execution_count": 32,
   "metadata": {},
   "outputs": [],
   "source": [
    "# df_review.set_index([\"user_id\", \"year\"], inplace = True)\n",
    "user_year_tab = df_review.groupby([\"user_id\", \"year\"])[\"review_id\"].count()\n",
    "user_year_tab = user_year_tab.to_frame()\n",
    "user_year_tab[\"post\"] = user_year_tab[\"review_id\"] > 0"
   ]
  },
  {
   "cell_type": "code",
   "execution_count": 33,
   "metadata": {},
   "outputs": [],
   "source": [
    "user_year_df = pd.DataFrame(0, index = user_year_index, columns = [\"post\"])\n",
    "user_year_df = user_year_df.merge(user_year_tab, left_index = True, right_on = [\"user_id\", \"year\"])"
   ]
  },
  {
   "cell_type": "code",
   "execution_count": 31,
   "metadata": {},
   "outputs": [
    {
     "ename": "KeyError",
     "evalue": "\"['2010'] not in index\"",
     "output_type": "error",
     "traceback": [
      "\u001b[0;31m---------------------------------------------------------------------------\u001b[0m",
      "\u001b[0;31mKeyError\u001b[0m                                  Traceback (most recent call last)",
      "\u001b[0;32m<ipython-input-31-b567e720998c>\u001b[0m in \u001b[0;36m<module>\u001b[0;34m\u001b[0m\n\u001b[0;32m----> 1\u001b[0;31m \u001b[0muser_year_df\u001b[0m\u001b[0;34m.\u001b[0m\u001b[0mloc\u001b[0m\u001b[0;34m[\u001b[0m\u001b[0;34m[\u001b[0m\u001b[0;34m\"2010\"\u001b[0m\u001b[0;34m]\u001b[0m\u001b[0;34m]\u001b[0m\u001b[0;34m\u001b[0m\u001b[0;34m\u001b[0m\u001b[0m\n\u001b[0m",
      "\u001b[0;32m~/.anaconda3/lib/python3.7/site-packages/pandas/core/indexing.py\u001b[0m in \u001b[0;36m__getitem__\u001b[0;34m(self, key)\u001b[0m\n\u001b[1;32m   1498\u001b[0m \u001b[0;34m\u001b[0m\u001b[0m\n\u001b[1;32m   1499\u001b[0m             \u001b[0mmaybe_callable\u001b[0m \u001b[0;34m=\u001b[0m \u001b[0mcom\u001b[0m\u001b[0;34m.\u001b[0m\u001b[0mapply_if_callable\u001b[0m\u001b[0;34m(\u001b[0m\u001b[0mkey\u001b[0m\u001b[0;34m,\u001b[0m \u001b[0mself\u001b[0m\u001b[0;34m.\u001b[0m\u001b[0mobj\u001b[0m\u001b[0;34m)\u001b[0m\u001b[0;34m\u001b[0m\u001b[0;34m\u001b[0m\u001b[0m\n\u001b[0;32m-> 1500\u001b[0;31m             \u001b[0;32mreturn\u001b[0m \u001b[0mself\u001b[0m\u001b[0;34m.\u001b[0m\u001b[0m_getitem_axis\u001b[0m\u001b[0;34m(\u001b[0m\u001b[0mmaybe_callable\u001b[0m\u001b[0;34m,\u001b[0m \u001b[0maxis\u001b[0m\u001b[0;34m=\u001b[0m\u001b[0maxis\u001b[0m\u001b[0;34m)\u001b[0m\u001b[0;34m\u001b[0m\u001b[0;34m\u001b[0m\u001b[0m\n\u001b[0m\u001b[1;32m   1501\u001b[0m \u001b[0;34m\u001b[0m\u001b[0m\n\u001b[1;32m   1502\u001b[0m     \u001b[0;32mdef\u001b[0m \u001b[0m_is_scalar_access\u001b[0m\u001b[0;34m(\u001b[0m\u001b[0mself\u001b[0m\u001b[0;34m,\u001b[0m \u001b[0mkey\u001b[0m\u001b[0;34m)\u001b[0m\u001b[0;34m:\u001b[0m\u001b[0;34m\u001b[0m\u001b[0;34m\u001b[0m\u001b[0m\n",
      "\u001b[0;32m~/.anaconda3/lib/python3.7/site-packages/pandas/core/indexing.py\u001b[0m in \u001b[0;36m_getitem_axis\u001b[0;34m(self, key, axis)\u001b[0m\n\u001b[1;32m   1900\u001b[0m                     \u001b[0;32mraise\u001b[0m \u001b[0mValueError\u001b[0m\u001b[0;34m(\u001b[0m\u001b[0;34m'Cannot index with multidimensional key'\u001b[0m\u001b[0;34m)\u001b[0m\u001b[0;34m\u001b[0m\u001b[0;34m\u001b[0m\u001b[0m\n\u001b[1;32m   1901\u001b[0m \u001b[0;34m\u001b[0m\u001b[0m\n\u001b[0;32m-> 1902\u001b[0;31m                 \u001b[0;32mreturn\u001b[0m \u001b[0mself\u001b[0m\u001b[0;34m.\u001b[0m\u001b[0m_getitem_iterable\u001b[0m\u001b[0;34m(\u001b[0m\u001b[0mkey\u001b[0m\u001b[0;34m,\u001b[0m \u001b[0maxis\u001b[0m\u001b[0;34m=\u001b[0m\u001b[0maxis\u001b[0m\u001b[0;34m)\u001b[0m\u001b[0;34m\u001b[0m\u001b[0;34m\u001b[0m\u001b[0m\n\u001b[0m\u001b[1;32m   1903\u001b[0m \u001b[0;34m\u001b[0m\u001b[0m\n\u001b[1;32m   1904\u001b[0m             \u001b[0;31m# nested tuple slicing\u001b[0m\u001b[0;34m\u001b[0m\u001b[0;34m\u001b[0m\u001b[0;34m\u001b[0m\u001b[0m\n",
      "\u001b[0;32m~/.anaconda3/lib/python3.7/site-packages/pandas/core/indexing.py\u001b[0m in \u001b[0;36m_getitem_iterable\u001b[0;34m(self, key, axis)\u001b[0m\n\u001b[1;32m   1203\u001b[0m             \u001b[0;31m# A collection of keys\u001b[0m\u001b[0;34m\u001b[0m\u001b[0;34m\u001b[0m\u001b[0;34m\u001b[0m\u001b[0m\n\u001b[1;32m   1204\u001b[0m             keyarr, indexer = self._get_listlike_indexer(key, axis,\n\u001b[0;32m-> 1205\u001b[0;31m                                                          raise_missing=False)\n\u001b[0m\u001b[1;32m   1206\u001b[0m             return self.obj._reindex_with_indexers({axis: [keyarr, indexer]},\n\u001b[1;32m   1207\u001b[0m                                                    copy=True, allow_dups=True)\n",
      "\u001b[0;32m~/.anaconda3/lib/python3.7/site-packages/pandas/core/indexing.py\u001b[0m in \u001b[0;36m_get_listlike_indexer\u001b[0;34m(self, key, axis, raise_missing)\u001b[0m\n\u001b[1;32m   1140\u001b[0m         \u001b[0;31m# if it cannot handle:\u001b[0m\u001b[0;34m\u001b[0m\u001b[0;34m\u001b[0m\u001b[0;34m\u001b[0m\u001b[0m\n\u001b[1;32m   1141\u001b[0m         indexer, keyarr = ax._convert_listlike_indexer(key,\n\u001b[0;32m-> 1142\u001b[0;31m                                                        kind=self.name)\n\u001b[0m\u001b[1;32m   1143\u001b[0m         \u001b[0;31m# We only act on all found values:\u001b[0m\u001b[0;34m\u001b[0m\u001b[0;34m\u001b[0m\u001b[0;34m\u001b[0m\u001b[0m\n\u001b[1;32m   1144\u001b[0m         \u001b[0;32mif\u001b[0m \u001b[0mindexer\u001b[0m \u001b[0;32mis\u001b[0m \u001b[0;32mnot\u001b[0m \u001b[0;32mNone\u001b[0m \u001b[0;32mand\u001b[0m \u001b[0;34m(\u001b[0m\u001b[0mindexer\u001b[0m \u001b[0;34m!=\u001b[0m \u001b[0;34m-\u001b[0m\u001b[0;36m1\u001b[0m\u001b[0;34m)\u001b[0m\u001b[0;34m.\u001b[0m\u001b[0mall\u001b[0m\u001b[0;34m(\u001b[0m\u001b[0;34m)\u001b[0m\u001b[0;34m:\u001b[0m\u001b[0;34m\u001b[0m\u001b[0;34m\u001b[0m\u001b[0m\n",
      "\u001b[0;32m~/.anaconda3/lib/python3.7/site-packages/pandas/core/indexes/multi.py\u001b[0m in \u001b[0;36m_convert_listlike_indexer\u001b[0;34m(self, keyarr, kind)\u001b[0m\n\u001b[1;32m   2134\u001b[0m             \u001b[0mmask\u001b[0m \u001b[0;34m=\u001b[0m \u001b[0mcheck\u001b[0m \u001b[0;34m==\u001b[0m \u001b[0;34m-\u001b[0m\u001b[0;36m1\u001b[0m\u001b[0;34m\u001b[0m\u001b[0;34m\u001b[0m\u001b[0m\n\u001b[1;32m   2135\u001b[0m             \u001b[0;32mif\u001b[0m \u001b[0mmask\u001b[0m\u001b[0;34m.\u001b[0m\u001b[0many\u001b[0m\u001b[0;34m(\u001b[0m\u001b[0;34m)\u001b[0m\u001b[0;34m:\u001b[0m\u001b[0;34m\u001b[0m\u001b[0;34m\u001b[0m\u001b[0m\n\u001b[0;32m-> 2136\u001b[0;31m                 \u001b[0;32mraise\u001b[0m \u001b[0mKeyError\u001b[0m\u001b[0;34m(\u001b[0m\u001b[0;34m'%s not in index'\u001b[0m \u001b[0;34m%\u001b[0m \u001b[0mkeyarr\u001b[0m\u001b[0;34m[\u001b[0m\u001b[0mmask\u001b[0m\u001b[0;34m]\u001b[0m\u001b[0;34m)\u001b[0m\u001b[0;34m\u001b[0m\u001b[0;34m\u001b[0m\u001b[0m\n\u001b[0m\u001b[1;32m   2137\u001b[0m \u001b[0;34m\u001b[0m\u001b[0m\n\u001b[1;32m   2138\u001b[0m         \u001b[0;32mreturn\u001b[0m \u001b[0mindexer\u001b[0m\u001b[0;34m,\u001b[0m \u001b[0mkeyarr\u001b[0m\u001b[0;34m\u001b[0m\u001b[0;34m\u001b[0m\u001b[0m\n",
      "\u001b[0;31mKeyError\u001b[0m: \"['2010'] not in index\""
     ]
    }
   ],
   "source": []
  },
  {
   "cell_type": "code",
   "execution_count": null,
   "metadata": {
    "ExecuteTime": {
     "end_time": "2020-05-20T02:41:43.687277Z",
     "start_time": "2020-05-20T02:41:40.619287Z"
    },
    "scrolled": false
   },
   "outputs": [],
   "source": [
    "df_local_user = solution.question5(df_local,user_treat)"
   ]
  },
  {
   "cell_type": "code",
   "execution_count": null,
   "metadata": {},
   "outputs": [],
   "source": []
  },
  {
   "cell_type": "code",
   "execution_count": null,
   "metadata": {
    "ExecuteTime": {
     "end_time": "2020-05-20T02:42:39.992305Z",
     "start_time": "2020-05-20T02:42:39.930219Z"
    }
   },
   "outputs": [],
   "source": [
    "df_local_user"
   ]
  },
  {
   "cell_type": "markdown",
   "metadata": {},
   "source": [
    "# Constructing confidence intervals\n",
    "\n",
    "\n",
    "In this final question our goal is to add some inference to our plot. We are going to simply use the asymptotic variance implied by the OLS formula. Do the following:\n",
    "\n",
    " 1. create a function that will take a dataframe containing the columns `post` and `treat` and returns the OLS $\\hat{\\beta}$ estimate of `post` on `treat` together with the estimate of the variance of $\\hat{\\beta}$ (Remember that in this simple case $\\hat{\\beta} = cov(y,x)/var(x)$ and that the variance is $1/(n \\cdot var(x))$. Return the results as a new dataframe with one row and 2 columns.\n",
    " 2. apply your function to your data from question 5 for each `year` (you can do that using `pd.Grouper(freq='Y',key='date')` within a `groupby` and use the `apply` method.\n",
    " 3. use your grouped results to plot the estimates together with their 95% asymptotic confidence intervals\n",
    " 4. comment on the results, in particular on the dates before the start of the experiment.\n",
    " \n",
    "Below is the plot that I got:"
   ]
  },
  {
   "cell_type": "code",
   "execution_count": null,
   "metadata": {
    "ExecuteTime": {
     "end_time": "2020-05-20T02:43:18.320091Z",
     "start_time": "2020-05-20T02:43:18.075998Z"
    }
   },
   "outputs": [],
   "source": [
    "import matplotlib\n",
    "matplotlib.rcParams.update({'errorbar.capsize': 3})\n",
    "solution.question6(df_local_user)"
   ]
  },
  {
   "cell_type": "markdown",
   "metadata": {},
   "source": [
    "Congrats, you are done!"
   ]
  }
 ],
 "metadata": {
  "@webio": {
   "lastCommId": null,
   "lastKernelId": null
  },
  "kernelspec": {
   "display_name": "Python 3",
   "language": "python",
   "name": "python3"
  },
  "language_info": {
   "codemirror_mode": {
    "name": "ipython",
    "version": 3
   },
   "file_extension": ".py",
   "mimetype": "text/x-python",
   "name": "python",
   "nbconvert_exporter": "python",
   "pygments_lexer": "ipython3",
   "version": "3.7.3"
  },
  "toc": {
   "base_numbering": 1,
   "nav_menu": {},
   "number_sections": true,
   "sideBar": true,
   "skip_h1_title": false,
   "title_cell": "Table of Contents",
   "title_sidebar": "Contents",
   "toc_cell": false,
   "toc_position": {},
   "toc_section_display": true,
   "toc_window_display": false
  },
  "varInspector": {
   "cols": {
    "lenName": 16,
    "lenType": 16,
    "lenVar": 40
   },
   "kernels_config": {
    "python": {
     "delete_cmd_postfix": "",
     "delete_cmd_prefix": "del ",
     "library": "var_list.py",
     "varRefreshCmd": "print(var_dic_list())"
    },
    "r": {
     "delete_cmd_postfix": ") ",
     "delete_cmd_prefix": "rm(",
     "library": "var_list.r",
     "varRefreshCmd": "cat(var_dic_list()) "
    }
   },
   "types_to_exclude": [
    "module",
    "function",
    "builtin_function_or_method",
    "instance",
    "_Feature"
   ],
   "window_display": false
  }
 },
 "nbformat": 4,
 "nbformat_minor": 2
}
